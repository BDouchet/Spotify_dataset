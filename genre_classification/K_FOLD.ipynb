{
  "nbformat": 4,
  "nbformat_minor": 0,
  "metadata": {
    "colab": {
      "name": "K-FOLD.ipynb",
      "provenance": [],
      "collapsed_sections": [],
      "include_colab_link": true
    },
    "kernelspec": {
      "name": "python3",
      "display_name": "Python 3"
    },
    "accelerator": "GPU"
  },
  "cells": [
    {
      "cell_type": "markdown",
      "metadata": {
        "id": "view-in-github",
        "colab_type": "text"
      },
      "source": [
        "<a href=\"https://colab.research.google.com/github/BDouchet/Spotify_dataset/blob/main/genre_classification/K_FOLD.ipynb\" target=\"_parent\"><img src=\"https://colab.research.google.com/assets/colab-badge.svg\" alt=\"Open In Colab\"/></a>"
      ]
    },
    {
      "cell_type": "markdown",
      "metadata": {
        "id": "GB5z3ufaPwLE"
      },
      "source": [
        "# Imports"
      ]
    },
    {
      "cell_type": "code",
      "metadata": {
        "colab": {
          "base_uri": "https://localhost:8080/"
        },
        "id": "_wErlx6wOy1u",
        "outputId": "7c0194ec-1234-48a1-8f15-8dfa6906cbdb"
      },
      "source": [
        "from pydrive.auth import GoogleAuth\r\n",
        "from pydrive.drive import GoogleDrive\r\n",
        "from google.colab import auth\r\n",
        "from oauth2client.client import GoogleCredentials\r\n",
        "\r\n",
        "import pandas as pd\r\n",
        "import numpy as np\r\n",
        "import matplotlib.pyplot as plt\r\n",
        "from zipfile import ZipFile\r\n",
        "\r\n",
        "auth.authenticate_user()\r\n",
        "gauth = GoogleAuth()\r\n",
        "gauth.credentials = GoogleCredentials.get_application_default()\r\n",
        "drive = GoogleDrive(gauth)\r\n",
        "\r\n",
        "id='16phKfXvRrwGbOJrNKpgbYnBnZG6icXFX'\r\n",
        "\r\n",
        "downloaded = drive.CreateFile({'id':id})\r\n",
        "downloaded.GetContentFile('dataset.zip')\r\n",
        "\r\n",
        "with ZipFile('dataset.zip', 'r') as zip:\r\n",
        "   zip.extractall()\r\n",
        "   print('Done')\r\n",
        "\r\n",
        "df=pd.read_csv('dataset/Spotify_train_dataset.csv')\r\n",
        "\r\n",
        "from sklearn.preprocessing import LabelEncoder\r\n",
        "\r\n",
        "data=df.drop(labels=['type','id','uri','track_href','analysis_url','song_name'],axis=1)\r\n",
        "\r\n",
        "genres=['Dark Trap', 'Underground Rap', 'Trap Metal', 'Emo', 'Rap', 'RnB', 'Pop', 'Hiphop', 'techhouse', 'techno',\r\n",
        "'trance', 'psytrance', 'trap', 'dnb', 'hardstyle']\r\n",
        "\r\n",
        "le = LabelEncoder()\r\n",
        "le.classes_=genres\r\n",
        "data['genre']=le.transform(data['genre'])\r\n",
        "\r\n",
        "X=data[data.columns[:-1]].to_numpy()\r\n",
        "Y=data['genre'].to_numpy()"
      ],
      "execution_count": null,
      "outputs": [
        {
          "output_type": "stream",
          "text": [
            "Done\n"
          ],
          "name": "stdout"
        }
      ]
    },
    {
      "cell_type": "code",
      "metadata": {
        "id": "QYoE0QGqHlNn"
      },
      "source": [
        "from sklearn.ensemble import RandomForestClassifier\r\n",
        "from sklearn.preprocessing import StandardScaler\r\n",
        "from sklearn.ensemble import GradientBoostingClassifier \r\n",
        "\r\n",
        "from sklearn.metrics import f1_score\r\n",
        "\r\n",
        "from sklearn.model_selection import StratifiedKFold\r\n",
        "\r\n",
        "import tensorflow as tf\r\n",
        "from tensorflow.keras import layers,models\r\n",
        "\r\n",
        "# Reverse of the one-hot encoding\r\n",
        "def to_labels(Y):\r\n",
        "    return np.array([np.argmax(y) for y in Y ])"
      ],
      "execution_count": null,
      "outputs": []
    },
    {
      "cell_type": "code",
      "metadata": {
        "id": "RCRye9RhdN7P"
      },
      "source": [
        "def nn(X_train,Y_train,X_test,Y_test):\r\n",
        "    #Model\r\n",
        "    nn2=models.Sequential()\r\n",
        "    nn2.add(layers.Dense(64,activation='relu',input_shape=(13,)))\r\n",
        "    nn2.add(layers.BatchNormalization())\r\n",
        "    nn2.add(layers.Dense(128,activation='relu'))\r\n",
        "    nn2.add(layers.BatchNormalization())\r\n",
        "    nn2.add(layers.Dropout(0.2))\r\n",
        "    nn2.add(layers.Dense(256,activation='relu'))\r\n",
        "    nn2.add(layers.BatchNormalization())\r\n",
        "    nn2.add(layers.Dropout(0.2))\r\n",
        "    nn2.add(layers.Dense(128,activation='relu',input_shape=(13,)))\r\n",
        "    nn2.add(layers.BatchNormalization())\r\n",
        "    nn2.add(layers.Dropout(0.2))\r\n",
        "    nn2.add(layers.Dense(64,activation='relu'))\r\n",
        "    nn2.add(layers.BatchNormalization())\r\n",
        "    nn2.add(layers.Dropout(0.2))\r\n",
        "    nn2.add(layers.Dense(15,activation='softmax'))\r\n",
        "\r\n",
        "    nn2.compile(optimizer='Adam',metrics=['acc'],loss='categorical_crossentropy')\r\n",
        "    nn2.fit(X_train,Y_train,epochs=100,batch_size=128,verbose=0)\r\n",
        "\r\n",
        "    yhat=to_labels(nn2.predict(X_test))\r\n",
        "\r\n",
        "    return f1_score(to_labels(Y_test),yhat,average='micro')"
      ],
      "execution_count": null,
      "outputs": []
    },
    {
      "cell_type": "code",
      "metadata": {
        "id": "1uWw7vmbd8Nz"
      },
      "source": [
        "def cnn(X_train,Y_train,X_test,Y_test):\r\n",
        "    #Model\r\n",
        "    input=layers.Input(shape=(13,1))\r\n",
        "    x=layers.Conv1D(32,3,padding='valid',activation='relu')(input)\r\n",
        "    x=layers.BatchNormalization()(x)\r\n",
        "    x=layers.Dropout(0.2)(x)\r\n",
        "\r\n",
        "    b0=layers.Conv1D(32,7,padding='valid',activation='relu',dilation_rate=1)(x)\r\n",
        "    b0=layers.BatchNormalization()(b0)\r\n",
        "    b0=layers.Dropout(0.2)(b0)\r\n",
        "\r\n",
        "    b1=layers.Conv1D(32,4,padding='valid',activation='relu',dilation_rate=2)(x)\r\n",
        "    b1=layers.BatchNormalization()(b1)\r\n",
        "    b1=layers.Dropout(0.2)(b1)\r\n",
        "\r\n",
        "    b2=layers.Conv1D(32,3,padding='valid',activation='relu',dilation_rate=3)(x)\r\n",
        "    b2=layers.BatchNormalization()(b2)\r\n",
        "    b2=layers.Dropout(0.2)(b2)\r\n",
        "\r\n",
        "    b3=layers.Conv1D(32,2,padding='valid',activation='relu',dilation_rate=6)(x)\r\n",
        "    b3=layers.BatchNormalization()(b3)\r\n",
        "    b3=layers.Dropout(0.2)(b3)\r\n",
        "\r\n",
        "    b4=layers.AveragePooling1D()(x)\r\n",
        "\r\n",
        "    x=layers.Concatenate()([b0,b1,b2,b3,b4])\r\n",
        "\r\n",
        "    x=layers.Conv1D(64,3,padding='valid',activation='relu')(x)\r\n",
        "    x=layers.BatchNormalization()(x)\r\n",
        "    x=layers.Dropout(0.2)(x)\r\n",
        "\r\n",
        "    x=layers.Flatten()(x)\r\n",
        "    x=layers.Dense(32,activation='relu')(x)\r\n",
        "    x=layers.Dropout(0.2)(x)\r\n",
        "\r\n",
        "    output=layers.Dense(15,activation='softmax')(x)\r\n",
        "\r\n",
        "    cnn2=models.Model(input,output)\r\n",
        "\r\n",
        "    cnn2.compile(optimizer='Adam',loss='categorical_crossentropy',metrics=['acc'])\r\n",
        "    cnn2.fit(X_train,Y_train,epochs=80,batch_size=128,verbose=0,shuffle=True)\r\n",
        "\r\n",
        "    yhat=to_labels(cnn2.predict(X_test))\r\n",
        "\r\n",
        "    return f1_score(to_labels(Y_test),yhat,average='micro')"
      ],
      "execution_count": null,
      "outputs": []
    },
    {
      "cell_type": "markdown",
      "metadata": {
        "id": "gMkMCh8OViK8"
      },
      "source": [
        "# Calculation"
      ]
    },
    {
      "cell_type": "code",
      "metadata": {
        "colab": {
          "base_uri": "https://localhost:8080/"
        },
        "id": "k00DGd91Vxyz",
        "outputId": "b77eb809-8298-481f-cd56-9bf0b0adbaa1"
      },
      "source": [
        "rd = RandomForestClassifier(max_depth=12, random_state=1,criterion='gini',n_estimators=700)\r\n",
        "boost = GradientBoostingClassifier(n_estimators=200,verbose=0,max_features='sqrt')\r\n",
        "\r\n",
        "X_scale=StandardScaler().fit_transform(X)\r\n",
        "Y_1h=tf.keras.utils.to_categorical(Y)\r\n",
        "\r\n",
        "score_rd,score_boost,score_nn,score_cnn =[],[],[],[]\r\n",
        "\r\n",
        "skf=StratifiedKFold(shuffle=True,random_state=0)\r\n",
        "skf.get_n_splits(X,Y)\r\n",
        "\r\n",
        "for train_index, test_index in skf.split(X, Y):\r\n",
        "\r\n",
        "    print(\"Fold !\")\r\n",
        "    X_train,X_test=X[train_index],X[test_index]\r\n",
        "    Y_train,Y_test=Y[train_index],Y[test_index]\r\n",
        "    Xs_train,Xs_test=X_scale[train_index],X_scale[test_index]\r\n",
        "    Yh_train,Yh_test=Y_1h[train_index],Y_1h[test_index]\r\n",
        "\r\n",
        "    \r\n",
        "    score_cnn.append(cnn(Xs_train,Yh_train,Xs_test,Yh_test))\r\n",
        "    print(\"CNN\")\r\n",
        "\r\n",
        "    score_nn.append(nn(Xs_train,Yh_train,Xs_test,Yh_test))\r\n",
        "    print(\"NN\")\r\n",
        "\r\n",
        "    #Random Forest\r\n",
        "    rd.fit(X_train,Y_train)\r\n",
        "    Yhat_test=rd.predict(X_test)\r\n",
        "    score_rd.append(f1_score(Y_test,Yhat_test,average='micro'))\r\n",
        "    print(\"RandomForest\")\r\n",
        "\r\n",
        "    #Boost\r\n",
        "    boost.fit(X_train,Y_train)\r\n",
        "    Yhat_test=boost.predict(X_test)\r\n",
        "    score_boost.append(f1_score(Y_test,Yhat_test,average='micro'))\r\n",
        "    print(\"GradientBoost\")\r\n",
        "\r\n",
        "\r\n",
        "    print()\r\n",
        "\r\n",
        "    \r\n"
      ],
      "execution_count": null,
      "outputs": [
        {
          "output_type": "stream",
          "text": [
            "Fold !\n",
            "CNN\n",
            "NN\n",
            "RandomForest\n",
            "GradientBoost\n",
            "\n",
            "Fold !\n",
            "CNN\n",
            "NN\n",
            "RandomForest\n",
            "GradientBoost\n",
            "\n",
            "Fold !\n",
            "CNN\n",
            "NN\n",
            "RandomForest\n",
            "GradientBoost\n",
            "\n",
            "Fold !\n",
            "CNN\n",
            "NN\n",
            "RandomForest\n",
            "GradientBoost\n",
            "\n",
            "Fold !\n",
            "CNN\n",
            "NN\n",
            "RandomForest\n",
            "GradientBoost\n",
            "\n"
          ],
          "name": "stdout"
        }
      ]
    },
    {
      "cell_type": "code",
      "metadata": {
        "colab": {
          "base_uri": "https://localhost:8080/"
        },
        "id": "eL0etxf4e_qQ",
        "outputId": "b7afd565-8edc-4269-9581-ee35a15cbc1a"
      },
      "source": [
        "print(score_rd)\r\n",
        "print(score_boost)\r\n",
        "print(score_nn)\r\n",
        "print(score_cnn)"
      ],
      "execution_count": null,
      "outputs": [
        {
          "output_type": "stream",
          "text": [
            "[0.6667191931925622, 0.683895367160416, 0.676804286164513, 0.6669818754925138, 0.6759653270291568]\n",
            "[0.6804286164513079, 0.6922470847778128, 0.6859439016703435, 0.685263987391647, 0.6843183609141056]\n",
            "[0.6690828868578632, 0.6802710368736212, 0.6681374093917428, 0.6710795902285264, 0.6721828211189913]\n",
            "[0.668610148124803, 0.6804286164513079, 0.6775921840529467, 0.670133963750985, 0.6720252167060677]\n"
          ],
          "name": "stdout"
        }
      ]
    },
    {
      "cell_type": "code",
      "metadata": {
        "colab": {
          "base_uri": "https://localhost:8080/"
        },
        "id": "_QEsmndlfULr",
        "outputId": "6d77246b-4a2e-49ff-c59c-fa83858a8c75"
      },
      "source": [
        "print(np.array(score_rd).mean())\r\n",
        "print(np.array(score_boost).mean())\r\n",
        "print(np.array(score_nn).mean())\r\n",
        "print(np.array(score_cnn).mean())\r\n"
      ],
      "execution_count": null,
      "outputs": [
        {
          "output_type": "stream",
          "text": [
            "0.6740732098078324\n",
            "0.6856403902410433\n",
            "0.6721507488941489\n",
            "0.6737580258172222\n"
          ],
          "name": "stdout"
        }
      ]
    },
    {
      "cell_type": "markdown",
      "metadata": {
        "id": "0TOhSk6Ms33E"
      },
      "source": [
        "# Scores comparaison with Bar graph"
      ]
    },
    {
      "cell_type": "code",
      "metadata": {
        "id": "hr6UQyBltvrb"
      },
      "source": [
        "score_rd = np.array(score_rd).mean()\r\n",
        "score_boost = np.array(score_boost).mean()\r\n",
        "score_nn = np.array(score_nn).mean()\r\n",
        "score_cnn = np.array(score_cnn).mean()\r\n",
        "\r\n",
        "scores = [score_rd,score_boost,score_nn,score_cnn]\r\n",
        "models_name = ['Random Forest\\nClassifier','Gradient\\nBoost Classifier','Neural Network','CNN']"
      ],
      "execution_count": null,
      "outputs": []
    },
    {
      "cell_type": "code",
      "metadata": {
        "colab": {
          "base_uri": "https://localhost:8080/"
        },
        "id": "KO2IkqEZub1Y",
        "outputId": "fb6de7a4-a8b7-46f4-d90b-2e10be0aafdb"
      },
      "source": [
        "#Truncate the metrics\r\n",
        "\r\n",
        "scores_round = []\r\n",
        "\r\n",
        "for k in range(len(scores)):\r\n",
        "  scores_round.append(round(scores[k],3))\r\n",
        "\r\n",
        "print(scores_round)"
      ],
      "execution_count": null,
      "outputs": [
        {
          "output_type": "stream",
          "text": [
            "[0.674, 0.686, 0.672, 0.674]\n"
          ],
          "name": "stdout"
        }
      ]
    },
    {
      "cell_type": "code",
      "metadata": {
        "colab": {
          "base_uri": "https://localhost:8080/"
        },
        "id": "2WW-cDG8s7h1",
        "outputId": "6811e3ea-b749-411f-f9bb-bec4d4d55dba"
      },
      "source": [
        "dict = {models_name[k]:scores_round[k] for k in range(len(scores_round))}\r\n",
        "dict"
      ],
      "execution_count": null,
      "outputs": [
        {
          "output_type": "execute_result",
          "data": {
            "text/plain": [
              "{'CNN': 0.674,\n",
              " 'Gradient\\nBoost Classifier': 0.686,\n",
              " 'Neural Network': 0.672,\n",
              " 'Random Forest\\nClassifier': 0.674}"
            ]
          },
          "metadata": {
            "tags": []
          },
          "execution_count": 16
        }
      ]
    },
    {
      "cell_type": "code",
      "metadata": {
        "colab": {
          "base_uri": "https://localhost:8080/"
        },
        "id": "iVh2S-LivAM6",
        "outputId": "db72b16e-f202-4c99-94d7-8d55ad64a684"
      },
      "source": [
        "#Sort the dictionnary by value\r\n",
        "\r\n",
        "dict_sort = sorted(dict.items(), key=lambda item: item[1])\r\n",
        "\r\n",
        "models_name_sort=[]\r\n",
        "scores_round_sort=[]\r\n",
        "\r\n",
        "for item in dict_sort:\r\n",
        "  models_name_sort.append(item[0])\r\n",
        "  scores_round_sort.append(item[1])\r\n",
        "\r\n",
        "print(models_name_sort)\r\n",
        "print(scores_round_sort)"
      ],
      "execution_count": null,
      "outputs": [
        {
          "output_type": "stream",
          "text": [
            "['Neural Network', 'Random Forest\\nClassifier', 'CNN', 'Gradient\\nBoost Classifier']\n",
            "[0.672, 0.674, 0.674, 0.686]\n"
          ],
          "name": "stdout"
        }
      ]
    },
    {
      "cell_type": "code",
      "metadata": {
        "colab": {
          "base_uri": "https://localhost:8080/",
          "height": 369
        },
        "id": "o-WdC72ZvC__",
        "outputId": "57f032f9-be8c-4721-a4d9-cc87736f52ab"
      },
      "source": [
        "# Bar graph Split set\r\n",
        "\r\n",
        "colors = ['lightblue','orange','green','purple','grey','olive','red']\r\n",
        "\r\n",
        "plt.figure(figsize=(7,5))\r\n",
        "fig = plt.bar(models_name_sort,scores_round_sort,color=colors,width=0.8)\r\n",
        "\r\n",
        "\r\n",
        "plt.yticks(np.arange(0, 1.2, 0.2))\r\n",
        "plt.ylabel('f1_score')\r\n",
        "\r\n",
        "for i in range(len(scores)):\r\n",
        "    plt.annotate(str(scores_round_sort[i]), xy=(i,scores_round_sort[i]), ha='center', va='bottom')\r\n",
        "\r\n",
        "plt.title(\"K-fold split\")\r\n",
        "\r\n",
        "plt.tight_layout()\r\n",
        "\r\n",
        "plt.show()"
      ],
      "execution_count": null,
      "outputs": [
        {
          "output_type": "display_data",
          "data": {
            "image/png": "[encoded data removed]",
            "text/plain": [
              "<Figure size 504x360 with 1 Axes>"
            ]
          },
          "metadata": {
            "tags": [],
            "needs_background": "light"
          }
        }
      ]
    }
  ]
}