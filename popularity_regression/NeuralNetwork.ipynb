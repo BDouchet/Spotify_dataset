{
  "nbformat": 4,
  "nbformat_minor": 0,
  "metadata": {
    "colab": {
      "name": "NeuralNetwork.ipynb",
      "provenance": [],
      "collapsed_sections": [
        "3yLYFtAoCK1l"
      ],
      "include_colab_link": true
    },
    "kernelspec": {
      "name": "python3",
      "display_name": "Python 3"
    }
  },
  "cells": [
    {
      "cell_type": "markdown",
      "metadata": {
        "id": "view-in-github",
        "colab_type": "text"
      },
      "source": [
        "<a href=\"https://colab.research.google.com/github/BDouchet/Spotify_dataset/blob/main/popularity_regression/NeuralNetwork.ipynb\" target=\"_parent\"><img src=\"https://colab.research.google.com/assets/colab-badge.svg\" alt=\"Open In Colab\"/></a>"
      ]
    },
    {
      "cell_type": "markdown",
      "metadata": {
        "id": "GB5z3ufaPwLE"
      },
      "source": [
        "# Imports"
      ]
    },
    {
      "cell_type": "code",
      "metadata": {
        "colab": {
          "base_uri": "https://localhost:8080/"
        },
        "id": "_wErlx6wOy1u",
        "outputId": "c179d7f7-f2de-4680-b371-185cdd9c8e86"
      },
      "source": [
        "from pydrive.auth import GoogleAuth\r\n",
        "from pydrive.drive import GoogleDrive\r\n",
        "from google.colab import auth\r\n",
        "from oauth2client.client import GoogleCredentials\r\n",
        "\r\n",
        "import pandas as pd\r\n",
        "import numpy as np\r\n",
        "import matplotlib.pyplot as plt\r\n",
        "from zipfile import ZipFile\r\n",
        "\r\n",
        "auth.authenticate_user()\r\n",
        "gauth = GoogleAuth()\r\n",
        "gauth.credentials = GoogleCredentials.get_application_default()\r\n",
        "drive = GoogleDrive(gauth)\r\n",
        "\r\n",
        "id='16phKfXvRrwGbOJrNKpgbYnBnZG6icXFX'\r\n",
        "\r\n",
        "downloaded = drive.CreateFile({'id':id})\r\n",
        "downloaded.GetContentFile('dataset.zip')\r\n",
        "\r\n",
        "with ZipFile('dataset.zip', 'r') as zip:\r\n",
        "   zip.extractall()\r\n",
        "   print('Done')\r\n",
        "\r\n",
        "df=pd.read_csv('dataset/Spotify_exo2.csv')\r\n",
        "\r\n",
        "X=df.drop(['genres','popularity'],axis=1).to_numpy()\r\n",
        "Y=df['popularity'].to_numpy()\r\n",
        "\r\n",
        "from sklearn.model_selection import train_test_split\r\n",
        "\r\n",
        "X_train,X_test,Y_train,Y_test=train_test_split(X,Y,random_state=10,test_size=0.2)\r\n",
        "\r\n",
        "print(X_train.shape,Y_train.shape,X_test.shape,Y_test.shape)"
      ],
      "execution_count": null,
      "outputs": [
        {
          "output_type": "stream",
          "text": [
            "Done\n",
            "(2378, 12) (2378,) (595, 12) (595,)\n"
          ],
          "name": "stdout"
        }
      ]
    },
    {
      "cell_type": "markdown",
      "metadata": {
        "id": "A6ldQ9sfMmZG"
      },
      "source": [
        "# Create Train Model"
      ]
    },
    {
      "cell_type": "code",
      "metadata": {
        "id": "-uE_754H-O_B"
      },
      "source": [
        "import tensorflow as tf\r\n",
        "from tensorflow.keras import layers,models\r\n",
        "from sklearn.preprocessing import StandardScaler\r\n",
        "from sklearn.metrics import mean_absolute_error,r2_score"
      ],
      "execution_count": null,
      "outputs": []
    },
    {
      "cell_type": "code",
      "metadata": {
        "colab": {
          "base_uri": "https://localhost:8080/"
        },
        "id": "RMHGjQbt-szQ",
        "outputId": "816856fc-1ee0-4f69-a12f-cb64f821dcbc"
      },
      "source": [
        "ss=StandardScaler()\r\n",
        "\r\n",
        "x_train=ss.fit_transform(X_train)\r\n",
        "x_test=ss.fit_transform(X_test)\r\n",
        "\r\n",
        "y_train=(Y_train - np.mean(Y))/np.std(Y)\r\n",
        "y_test=(Y_test - np.mean(Y))/np.std(Y)\r\n",
        "\r\n",
        "print(x_train.shape,x_test.shape,y_train.shape,y_test.shape)"
      ],
      "execution_count": null,
      "outputs": [
        {
          "output_type": "stream",
          "text": [
            "(2378, 12) (595, 12) (2378,) (595,)\n"
          ],
          "name": "stdout"
        }
      ]
    },
    {
      "cell_type": "markdown",
      "metadata": {
        "id": "3yLYFtAoCK1l"
      },
      "source": [
        "## NN1"
      ]
    },
    {
      "cell_type": "code",
      "metadata": {
        "colab": {
          "base_uri": "https://localhost:8080/"
        },
        "id": "WNa8DbPW-WTC",
        "outputId": "dafb5878-586c-4aff-d564-0d52fc264744"
      },
      "source": [
        "nn=models.Sequential()\r\n",
        "\r\n",
        "nn.add(layers.Dense(64,activation='relu',input_shape=(12,)))\r\n",
        "nn.add(layers.BatchNormalization())\r\n",
        "\r\n",
        "nn.add(layers.Dense(64,activation='relu'))\r\n",
        "nn.add(layers.BatchNormalization())\r\n",
        "\r\n",
        "nn.add(layers.Dense(64,activation='relu'))\r\n",
        "nn.add(layers.BatchNormalization())\r\n",
        "\r\n",
        "nn.add(layers.Dense(1,activation='linear'))\r\n",
        "\r\n",
        "nn.summary()"
      ],
      "execution_count": null,
      "outputs": [
        {
          "output_type": "stream",
          "text": [
            "Model: \"sequential_1\"\n",
            "_________________________________________________________________\n",
            "Layer (type)                 Output Shape              Param #   \n",
            "=================================================================\n",
            "dense_4 (Dense)              (None, 64)                832       \n",
            "_________________________________________________________________\n",
            "batch_normalization_3 (Batch (None, 64)                256       \n",
            "_________________________________________________________________\n",
            "dense_5 (Dense)              (None, 64)                4160      \n",
            "_________________________________________________________________\n",
            "batch_normalization_4 (Batch (None, 64)                256       \n",
            "_________________________________________________________________\n",
            "dense_6 (Dense)              (None, 64)                4160      \n",
            "_________________________________________________________________\n",
            "batch_normalization_5 (Batch (None, 64)                256       \n",
            "_________________________________________________________________\n",
            "dense_7 (Dense)              (None, 1)                 65        \n",
            "=================================================================\n",
            "Total params: 9,985\n",
            "Trainable params: 9,601\n",
            "Non-trainable params: 384\n",
            "_________________________________________________________________\n"
          ],
          "name": "stdout"
        }
      ]
    },
    {
      "cell_type": "code",
      "metadata": {
        "colab": {
          "base_uri": "https://localhost:8080/"
        },
        "id": "KQW8q_5ZAocS",
        "outputId": "9c61c353-f972-48c3-8154-1909fbdfde89"
      },
      "source": [
        "nn.compile(optimizer='Adam',metrics=['mae'],loss='mse')\r\n",
        "history=nn.fit(x_train,y_train,epochs=30,batch_size=128,validation_data=(x_test,y_test),verbose=2)"
      ],
      "execution_count": null,
      "outputs": [
        {
          "output_type": "stream",
          "text": [
            "Epoch 1/30\n",
            "19/19 - 1s - loss: 1.6014 - mae: 0.9261 - val_loss: 0.9084 - val_mae: 0.7186\n",
            "Epoch 2/30\n",
            "19/19 - 0s - loss: 0.7549 - mae: 0.6508 - val_loss: 0.8487 - val_mae: 0.6905\n",
            "Epoch 3/30\n",
            "19/19 - 0s - loss: 0.5853 - mae: 0.5750 - val_loss: 0.8052 - val_mae: 0.6640\n",
            "Epoch 4/30\n",
            "19/19 - 0s - loss: 0.5169 - mae: 0.5367 - val_loss: 0.7636 - val_mae: 0.6407\n",
            "Epoch 5/30\n",
            "19/19 - 0s - loss: 0.4702 - mae: 0.5058 - val_loss: 0.7426 - val_mae: 0.6310\n",
            "Epoch 6/30\n",
            "19/19 - 0s - loss: 0.4372 - mae: 0.4912 - val_loss: 0.7056 - val_mae: 0.6145\n",
            "Epoch 7/30\n",
            "19/19 - 0s - loss: 0.4215 - mae: 0.4777 - val_loss: 0.6706 - val_mae: 0.5974\n",
            "Epoch 8/30\n",
            "19/19 - 0s - loss: 0.4025 - mae: 0.4661 - val_loss: 0.6379 - val_mae: 0.5816\n",
            "Epoch 9/30\n",
            "19/19 - 0s - loss: 0.3783 - mae: 0.4579 - val_loss: 0.6030 - val_mae: 0.5576\n",
            "Epoch 10/30\n",
            "19/19 - 0s - loss: 0.3651 - mae: 0.4450 - val_loss: 0.5825 - val_mae: 0.5492\n",
            "Epoch 11/30\n",
            "19/19 - 0s - loss: 0.3581 - mae: 0.4410 - val_loss: 0.5581 - val_mae: 0.5346\n",
            "Epoch 12/30\n",
            "19/19 - 0s - loss: 0.3557 - mae: 0.4434 - val_loss: 0.5499 - val_mae: 0.5327\n",
            "Epoch 13/30\n",
            "19/19 - 0s - loss: 0.3406 - mae: 0.4278 - val_loss: 0.5415 - val_mae: 0.5258\n",
            "Epoch 14/30\n",
            "19/19 - 0s - loss: 0.3299 - mae: 0.4264 - val_loss: 0.5156 - val_mae: 0.5073\n",
            "Epoch 15/30\n",
            "19/19 - 0s - loss: 0.3142 - mae: 0.4165 - val_loss: 0.5072 - val_mae: 0.5022\n",
            "Epoch 16/30\n",
            "19/19 - 0s - loss: 0.3078 - mae: 0.4140 - val_loss: 0.5021 - val_mae: 0.4976\n",
            "Epoch 17/30\n",
            "19/19 - 0s - loss: 0.3077 - mae: 0.4105 - val_loss: 0.4974 - val_mae: 0.4920\n",
            "Epoch 18/30\n",
            "19/19 - 0s - loss: 0.2904 - mae: 0.3972 - val_loss: 0.4902 - val_mae: 0.4956\n",
            "Epoch 19/30\n",
            "19/19 - 0s - loss: 0.2814 - mae: 0.3962 - val_loss: 0.4964 - val_mae: 0.4920\n",
            "Epoch 20/30\n",
            "19/19 - 0s - loss: 0.2717 - mae: 0.3838 - val_loss: 0.5113 - val_mae: 0.4989\n",
            "Epoch 21/30\n",
            "19/19 - 0s - loss: 0.2770 - mae: 0.3955 - val_loss: 0.4944 - val_mae: 0.4896\n",
            "Epoch 22/30\n",
            "19/19 - 0s - loss: 0.2621 - mae: 0.3822 - val_loss: 0.5140 - val_mae: 0.5016\n",
            "Epoch 23/30\n",
            "19/19 - 0s - loss: 0.2552 - mae: 0.3778 - val_loss: 0.4862 - val_mae: 0.4842\n",
            "Epoch 24/30\n",
            "19/19 - 0s - loss: 0.2653 - mae: 0.3828 - val_loss: 0.5100 - val_mae: 0.4993\n",
            "Epoch 25/30\n",
            "19/19 - 0s - loss: 0.2486 - mae: 0.3686 - val_loss: 0.5200 - val_mae: 0.5040\n",
            "Epoch 26/30\n",
            "19/19 - 0s - loss: 0.2548 - mae: 0.3765 - val_loss: 0.5036 - val_mae: 0.4973\n",
            "Epoch 27/30\n",
            "19/19 - 0s - loss: 0.2527 - mae: 0.3706 - val_loss: 0.4985 - val_mae: 0.4898\n",
            "Epoch 28/30\n",
            "19/19 - 0s - loss: 0.2473 - mae: 0.3729 - val_loss: 0.5111 - val_mae: 0.4995\n",
            "Epoch 29/30\n",
            "19/19 - 0s - loss: 0.2373 - mae: 0.3634 - val_loss: 0.5205 - val_mae: 0.5076\n",
            "Epoch 30/30\n",
            "19/19 - 0s - loss: 0.2256 - mae: 0.3549 - val_loss: 0.5240 - val_mae: 0.5066\n"
          ],
          "name": "stdout"
        }
      ]
    },
    {
      "cell_type": "code",
      "metadata": {
        "colab": {
          "base_uri": "https://localhost:8080/",
          "height": 350
        },
        "id": "UEFosXd8BtYg",
        "outputId": "f85dfd75-9beb-4d79-f140-b2ccb506d97e"
      },
      "source": [
        "fig,(ax1,ax2)=plt.subplots(1,2,figsize=(15,5))\r\n",
        "\r\n",
        "ax1.plot(history.history['mae'])\r\n",
        "ax1.plot(history.history['val_mae'])\r\n",
        "ax1.set_title('model accuracy')\r\n",
        "ax1.set_ylabel('accuracy')\r\n",
        "ax1.set_xlabel('epoch')\r\n",
        "ax1.legend(['train', 'val'], loc='upper left')\r\n",
        "\r\n",
        "ax2.plot(history.history['loss'])\r\n",
        "ax2.plot(history.history['val_loss'])\r\n",
        "ax2.set_title('model loss')\r\n",
        "ax2.set_ylabel('loss')\r\n",
        "ax2.set_xlabel('epoch')\r\n",
        "ax2.legend(['train', 'val'], loc='upper left')\r\n",
        "\r\n",
        "plt.show()"
      ],
      "execution_count": null,
      "outputs": [
        {
          "output_type": "display_data",
          "data": {
            "image/png": "[encoded data removed]",
            "text/plain": [
              "<Figure size 1080x360 with 2 Axes>"
            ]
          },
          "metadata": {
            "tags": [],
            "needs_background": "light"
          }
        }
      ]
    },
    {
      "cell_type": "code",
      "metadata": {
        "colab": {
          "base_uri": "https://localhost:8080/"
        },
        "id": "Gnxa5OOSCPbA",
        "outputId": "23688e44-2ce2-441d-c552-c4c99141ab6d"
      },
      "source": [
        "yhat_test=nn.predict(x_test)*np.std(Y)+np.mean(Y)\r\n",
        "yhat_train=nn.predict(x_train)*np.std(Y)+np.mean(Y)\r\n",
        "\r\n",
        "\r\n",
        "print(\"----- MAE -----\")\r\n",
        "print(mean_absolute_error(Y_train,yhat_train))\r\n",
        "print(mean_absolute_error(Y_test,yhat_test))\r\n",
        "print()\r\n",
        "print(\"----- R2 -----\")\r\n",
        "print(r2_score(Y_train,yhat_train))\r\n",
        "print(r2_score(Y_test,yhat_test))"
      ],
      "execution_count": null,
      "outputs": [
        {
          "output_type": "stream",
          "text": [
            "----- MAE -----\n",
            "5.20082680330495\n",
            "8.482835543506923\n",
            "\n",
            "----- R2 -----\n",
            "0.8191048221661301\n",
            "0.45228484665728097\n"
          ],
          "name": "stdout"
        }
      ]
    },
    {
      "cell_type": "markdown",
      "metadata": {
        "id": "VvsOSc14Pm5P"
      },
      "source": [
        "## NN2"
      ]
    },
    {
      "cell_type": "code",
      "metadata": {
        "colab": {
          "base_uri": "https://localhost:8080/"
        },
        "id": "j0FoNb4mPm5Z",
        "outputId": "fff6e68e-76a5-4093-a652-7d6e7fcb175f"
      },
      "source": [
        "nn2=models.Sequential()\r\n",
        "\r\n",
        "nn2.add(layers.Dense(64,activation='relu',input_shape=(12,)))\r\n",
        "nn2.add(layers.BatchNormalization())\r\n",
        "nn2.add(layers.Dropout(0.2))\r\n",
        "\r\n",
        "nn2.add(layers.Dense(128,activation='relu'))\r\n",
        "nn2.add(layers.BatchNormalization())\r\n",
        "nn2.add(layers.Dropout(0.2))\r\n",
        "\r\n",
        "nn2.add(layers.Dense(64,activation='relu'))\r\n",
        "nn2.add(layers.BatchNormalization())\r\n",
        "nn2.add(layers.Dropout(0.2))\r\n",
        "\r\n",
        "nn2.add(layers.Dense(1,activation='linear'))\r\n",
        "\r\n",
        "nn2.summary()"
      ],
      "execution_count": null,
      "outputs": [
        {
          "output_type": "stream",
          "text": [
            "Model: \"sequential_17\"\n",
            "_________________________________________________________________\n",
            "Layer (type)                 Output Shape              Param #   \n",
            "=================================================================\n",
            "dense_83 (Dense)             (None, 64)                832       \n",
            "_________________________________________________________________\n",
            "batch_normalization_66 (Batc (None, 64)                256       \n",
            "_________________________________________________________________\n",
            "dropout_51 (Dropout)         (None, 64)                0         \n",
            "_________________________________________________________________\n",
            "dense_84 (Dense)             (None, 128)               8320      \n",
            "_________________________________________________________________\n",
            "batch_normalization_67 (Batc (None, 128)               512       \n",
            "_________________________________________________________________\n",
            "dropout_52 (Dropout)         (None, 128)               0         \n",
            "_________________________________________________________________\n",
            "dense_85 (Dense)             (None, 64)                8256      \n",
            "_________________________________________________________________\n",
            "batch_normalization_68 (Batc (None, 64)                256       \n",
            "_________________________________________________________________\n",
            "dropout_53 (Dropout)         (None, 64)                0         \n",
            "_________________________________________________________________\n",
            "dense_86 (Dense)             (None, 1)                 65        \n",
            "=================================================================\n",
            "Total params: 18,497\n",
            "Trainable params: 17,985\n",
            "Non-trainable params: 512\n",
            "_________________________________________________________________\n"
          ],
          "name": "stdout"
        }
      ]
    },
    {
      "cell_type": "code",
      "metadata": {
        "colab": {
          "base_uri": "https://localhost:8080/"
        },
        "id": "z-ZlRD5IPm5b",
        "outputId": "7a8e7abc-f127-4a35-9246-91387c6cf7be"
      },
      "source": [
        "nn2.compile(optimizer='Adam',metrics=['mae'],loss='mse')\r\n",
        "history2=nn2.fit(x_train,y_train,epochs=100,batch_size=128,validation_data=(x_test,y_test),verbose=2,shuffle=True)"
      ],
      "execution_count": null,
      "outputs": [
        {
          "output_type": "stream",
          "text": [
            "Epoch 1/100\n",
            "19/19 - 1s - loss: 2.5860 - mae: 1.2025 - val_loss: 0.9253 - val_mae: 0.7001\n",
            "Epoch 2/100\n",
            "19/19 - 0s - loss: 1.6400 - mae: 0.9671 - val_loss: 0.9149 - val_mae: 0.6851\n",
            "Epoch 3/100\n",
            "19/19 - 0s - loss: 1.4097 - mae: 0.8904 - val_loss: 0.9309 - val_mae: 0.6871\n",
            "Epoch 4/100\n",
            "19/19 - 0s - loss: 1.2520 - mae: 0.8375 - val_loss: 0.8880 - val_mae: 0.6684\n",
            "Epoch 5/100\n",
            "19/19 - 0s - loss: 1.0848 - mae: 0.7805 - val_loss: 0.8539 - val_mae: 0.6540\n",
            "Epoch 6/100\n",
            "19/19 - 0s - loss: 1.0491 - mae: 0.7644 - val_loss: 0.8354 - val_mae: 0.6454\n",
            "Epoch 7/100\n",
            "19/19 - 0s - loss: 0.9916 - mae: 0.7424 - val_loss: 0.8078 - val_mae: 0.6414\n",
            "Epoch 8/100\n",
            "19/19 - 0s - loss: 0.9508 - mae: 0.7334 - val_loss: 0.7421 - val_mae: 0.6102\n",
            "Epoch 9/100\n",
            "19/19 - 0s - loss: 0.8989 - mae: 0.7076 - val_loss: 0.7267 - val_mae: 0.6077\n",
            "Epoch 10/100\n",
            "19/19 - 0s - loss: 0.8856 - mae: 0.7015 - val_loss: 0.6931 - val_mae: 0.5931\n",
            "Epoch 11/100\n",
            "19/19 - 0s - loss: 0.8519 - mae: 0.6801 - val_loss: 0.6476 - val_mae: 0.5737\n",
            "Epoch 12/100\n",
            "19/19 - 0s - loss: 0.8458 - mae: 0.6755 - val_loss: 0.6080 - val_mae: 0.5504\n",
            "Epoch 13/100\n",
            "19/19 - 0s - loss: 0.7515 - mae: 0.6476 - val_loss: 0.5901 - val_mae: 0.5508\n",
            "Epoch 14/100\n",
            "19/19 - 0s - loss: 0.7132 - mae: 0.6301 - val_loss: 0.5775 - val_mae: 0.5389\n",
            "Epoch 15/100\n",
            "19/19 - 0s - loss: 0.7163 - mae: 0.6242 - val_loss: 0.5545 - val_mae: 0.5271\n",
            "Epoch 16/100\n",
            "19/19 - 0s - loss: 0.7457 - mae: 0.6379 - val_loss: 0.5339 - val_mae: 0.5219\n",
            "Epoch 17/100\n",
            "19/19 - 0s - loss: 0.6810 - mae: 0.6078 - val_loss: 0.5259 - val_mae: 0.5190\n",
            "Epoch 18/100\n",
            "19/19 - 0s - loss: 0.6155 - mae: 0.5860 - val_loss: 0.5176 - val_mae: 0.5116\n",
            "Epoch 19/100\n",
            "19/19 - 0s - loss: 0.6509 - mae: 0.5987 - val_loss: 0.5163 - val_mae: 0.5090\n",
            "Epoch 20/100\n",
            "19/19 - 0s - loss: 0.6445 - mae: 0.5992 - val_loss: 0.5091 - val_mae: 0.5050\n",
            "Epoch 21/100\n",
            "19/19 - 0s - loss: 0.6298 - mae: 0.5872 - val_loss: 0.5057 - val_mae: 0.5058\n",
            "Epoch 22/100\n",
            "19/19 - 0s - loss: 0.5895 - mae: 0.5625 - val_loss: 0.4951 - val_mae: 0.4980\n",
            "Epoch 23/100\n",
            "19/19 - 0s - loss: 0.6079 - mae: 0.5670 - val_loss: 0.4948 - val_mae: 0.4986\n",
            "Epoch 24/100\n",
            "19/19 - 0s - loss: 0.5854 - mae: 0.5717 - val_loss: 0.4981 - val_mae: 0.5008\n",
            "Epoch 25/100\n",
            "19/19 - 0s - loss: 0.5870 - mae: 0.5633 - val_loss: 0.4885 - val_mae: 0.4958\n",
            "Epoch 26/100\n",
            "19/19 - 0s - loss: 0.5816 - mae: 0.5616 - val_loss: 0.4880 - val_mae: 0.4930\n",
            "Epoch 27/100\n",
            "19/19 - 0s - loss: 0.5452 - mae: 0.5436 - val_loss: 0.4853 - val_mae: 0.4902\n",
            "Epoch 28/100\n",
            "19/19 - 0s - loss: 0.5458 - mae: 0.5466 - val_loss: 0.4818 - val_mae: 0.4911\n",
            "Epoch 29/100\n",
            "19/19 - 0s - loss: 0.5313 - mae: 0.5403 - val_loss: 0.4834 - val_mae: 0.4891\n",
            "Epoch 30/100\n",
            "19/19 - 0s - loss: 0.5432 - mae: 0.5409 - val_loss: 0.4823 - val_mae: 0.4887\n",
            "Epoch 31/100\n",
            "19/19 - 0s - loss: 0.5264 - mae: 0.5330 - val_loss: 0.4764 - val_mae: 0.4834\n",
            "Epoch 32/100\n",
            "19/19 - 0s - loss: 0.5200 - mae: 0.5358 - val_loss: 0.4760 - val_mae: 0.4807\n",
            "Epoch 33/100\n",
            "19/19 - 0s - loss: 0.5289 - mae: 0.5334 - val_loss: 0.4823 - val_mae: 0.4862\n",
            "Epoch 34/100\n",
            "19/19 - 0s - loss: 0.5183 - mae: 0.5333 - val_loss: 0.4783 - val_mae: 0.4824\n",
            "Epoch 35/100\n",
            "19/19 - 0s - loss: 0.5304 - mae: 0.5319 - val_loss: 0.4762 - val_mae: 0.4793\n",
            "Epoch 36/100\n",
            "19/19 - 0s - loss: 0.5126 - mae: 0.5239 - val_loss: 0.4784 - val_mae: 0.4821\n",
            "Epoch 37/100\n",
            "19/19 - 0s - loss: 0.4929 - mae: 0.5114 - val_loss: 0.4752 - val_mae: 0.4797\n",
            "Epoch 38/100\n",
            "19/19 - 0s - loss: 0.4864 - mae: 0.5207 - val_loss: 0.4766 - val_mae: 0.4823\n",
            "Epoch 39/100\n",
            "19/19 - 0s - loss: 0.4941 - mae: 0.5132 - val_loss: 0.4789 - val_mae: 0.4805\n",
            "Epoch 40/100\n",
            "19/19 - 0s - loss: 0.4939 - mae: 0.5189 - val_loss: 0.4763 - val_mae: 0.4789\n",
            "Epoch 41/100\n",
            "19/19 - 0s - loss: 0.4996 - mae: 0.5092 - val_loss: 0.4765 - val_mae: 0.4812\n",
            "Epoch 42/100\n",
            "19/19 - 0s - loss: 0.4792 - mae: 0.5048 - val_loss: 0.4770 - val_mae: 0.4820\n",
            "Epoch 43/100\n",
            "19/19 - 0s - loss: 0.5128 - mae: 0.5233 - val_loss: 0.4738 - val_mae: 0.4773\n",
            "Epoch 44/100\n",
            "19/19 - 0s - loss: 0.4651 - mae: 0.5005 - val_loss: 0.4767 - val_mae: 0.4816\n",
            "Epoch 45/100\n",
            "19/19 - 0s - loss: 0.4901 - mae: 0.5074 - val_loss: 0.4746 - val_mae: 0.4791\n",
            "Epoch 46/100\n",
            "19/19 - 0s - loss: 0.4900 - mae: 0.5096 - val_loss: 0.4768 - val_mae: 0.4809\n",
            "Epoch 47/100\n",
            "19/19 - 0s - loss: 0.4648 - mae: 0.4982 - val_loss: 0.4759 - val_mae: 0.4779\n",
            "Epoch 48/100\n",
            "19/19 - 0s - loss: 0.4695 - mae: 0.5038 - val_loss: 0.4717 - val_mae: 0.4763\n",
            "Epoch 49/100\n",
            "19/19 - 0s - loss: 0.4745 - mae: 0.5012 - val_loss: 0.4776 - val_mae: 0.4790\n",
            "Epoch 50/100\n",
            "19/19 - 0s - loss: 0.4697 - mae: 0.5015 - val_loss: 0.4710 - val_mae: 0.4718\n",
            "Epoch 51/100\n",
            "19/19 - 0s - loss: 0.4735 - mae: 0.4985 - val_loss: 0.4646 - val_mae: 0.4706\n",
            "Epoch 52/100\n",
            "19/19 - 0s - loss: 0.4452 - mae: 0.4898 - val_loss: 0.4656 - val_mae: 0.4714\n",
            "Epoch 53/100\n",
            "19/19 - 0s - loss: 0.4588 - mae: 0.4967 - val_loss: 0.4680 - val_mae: 0.4737\n",
            "Epoch 54/100\n",
            "19/19 - 0s - loss: 0.4662 - mae: 0.4979 - val_loss: 0.4637 - val_mae: 0.4699\n",
            "Epoch 55/100\n",
            "19/19 - 0s - loss: 0.4670 - mae: 0.5009 - val_loss: 0.4621 - val_mae: 0.4685\n",
            "Epoch 56/100\n",
            "19/19 - 0s - loss: 0.4637 - mae: 0.4991 - val_loss: 0.4644 - val_mae: 0.4734\n",
            "Epoch 57/100\n",
            "19/19 - 0s - loss: 0.4409 - mae: 0.4885 - val_loss: 0.4592 - val_mae: 0.4661\n",
            "Epoch 58/100\n",
            "19/19 - 0s - loss: 0.4228 - mae: 0.4767 - val_loss: 0.4623 - val_mae: 0.4688\n",
            "Epoch 59/100\n",
            "19/19 - 0s - loss: 0.4406 - mae: 0.4830 - val_loss: 0.4639 - val_mae: 0.4705\n",
            "Epoch 60/100\n",
            "19/19 - 0s - loss: 0.4358 - mae: 0.4889 - val_loss: 0.4626 - val_mae: 0.4685\n",
            "Epoch 61/100\n",
            "19/19 - 0s - loss: 0.4449 - mae: 0.4869 - val_loss: 0.4618 - val_mae: 0.4693\n",
            "Epoch 62/100\n",
            "19/19 - 0s - loss: 0.4452 - mae: 0.4817 - val_loss: 0.4585 - val_mae: 0.4650\n",
            "Epoch 63/100\n",
            "19/19 - 0s - loss: 0.4309 - mae: 0.4792 - val_loss: 0.4583 - val_mae: 0.4675\n",
            "Epoch 64/100\n",
            "19/19 - 0s - loss: 0.4484 - mae: 0.4859 - val_loss: 0.4644 - val_mae: 0.4676\n",
            "Epoch 65/100\n",
            "19/19 - 0s - loss: 0.4308 - mae: 0.4739 - val_loss: 0.4653 - val_mae: 0.4689\n",
            "Epoch 66/100\n",
            "19/19 - 0s - loss: 0.4371 - mae: 0.4814 - val_loss: 0.4611 - val_mae: 0.4673\n",
            "Epoch 67/100\n",
            "19/19 - 0s - loss: 0.4216 - mae: 0.4715 - val_loss: 0.4623 - val_mae: 0.4672\n",
            "Epoch 68/100\n",
            "19/19 - 0s - loss: 0.4399 - mae: 0.4790 - val_loss: 0.4613 - val_mae: 0.4629\n",
            "Epoch 69/100\n",
            "19/19 - 0s - loss: 0.4117 - mae: 0.4654 - val_loss: 0.4653 - val_mae: 0.4681\n",
            "Epoch 70/100\n",
            "19/19 - 0s - loss: 0.4327 - mae: 0.4821 - val_loss: 0.4691 - val_mae: 0.4680\n",
            "Epoch 71/100\n",
            "19/19 - 0s - loss: 0.4247 - mae: 0.4725 - val_loss: 0.4659 - val_mae: 0.4657\n",
            "Epoch 72/100\n",
            "19/19 - 0s - loss: 0.4129 - mae: 0.4711 - val_loss: 0.4662 - val_mae: 0.4671\n",
            "Epoch 73/100\n",
            "19/19 - 0s - loss: 0.4258 - mae: 0.4764 - val_loss: 0.4644 - val_mae: 0.4649\n",
            "Epoch 74/100\n",
            "19/19 - 0s - loss: 0.4302 - mae: 0.4799 - val_loss: 0.4645 - val_mae: 0.4671\n",
            "Epoch 75/100\n",
            "19/19 - 0s - loss: 0.4243 - mae: 0.4756 - val_loss: 0.4629 - val_mae: 0.4664\n",
            "Epoch 76/100\n",
            "19/19 - 0s - loss: 0.4246 - mae: 0.4751 - val_loss: 0.4632 - val_mae: 0.4680\n",
            "Epoch 77/100\n",
            "19/19 - 0s - loss: 0.4198 - mae: 0.4666 - val_loss: 0.4636 - val_mae: 0.4651\n",
            "Epoch 78/100\n",
            "19/19 - 0s - loss: 0.4225 - mae: 0.4735 - val_loss: 0.4659 - val_mae: 0.4652\n",
            "Epoch 79/100\n",
            "19/19 - 0s - loss: 0.4102 - mae: 0.4631 - val_loss: 0.4637 - val_mae: 0.4635\n",
            "Epoch 80/100\n",
            "19/19 - 0s - loss: 0.4324 - mae: 0.4750 - val_loss: 0.4614 - val_mae: 0.4627\n",
            "Epoch 81/100\n",
            "19/19 - 0s - loss: 0.4212 - mae: 0.4730 - val_loss: 0.4588 - val_mae: 0.4612\n",
            "Epoch 82/100\n",
            "19/19 - 0s - loss: 0.4092 - mae: 0.4679 - val_loss: 0.4573 - val_mae: 0.4591\n",
            "Epoch 83/100\n",
            "19/19 - 0s - loss: 0.3903 - mae: 0.4557 - val_loss: 0.4561 - val_mae: 0.4601\n",
            "Epoch 84/100\n",
            "19/19 - 0s - loss: 0.4092 - mae: 0.4659 - val_loss: 0.4590 - val_mae: 0.4606\n",
            "Epoch 85/100\n",
            "19/19 - 0s - loss: 0.4052 - mae: 0.4690 - val_loss: 0.4598 - val_mae: 0.4595\n",
            "Epoch 86/100\n",
            "19/19 - 0s - loss: 0.4041 - mae: 0.4659 - val_loss: 0.4597 - val_mae: 0.4607\n",
            "Epoch 87/100\n",
            "19/19 - 0s - loss: 0.4064 - mae: 0.4647 - val_loss: 0.4608 - val_mae: 0.4608\n",
            "Epoch 88/100\n",
            "19/19 - 0s - loss: 0.3971 - mae: 0.4603 - val_loss: 0.4567 - val_mae: 0.4582\n",
            "Epoch 89/100\n",
            "19/19 - 0s - loss: 0.4072 - mae: 0.4688 - val_loss: 0.4571 - val_mae: 0.4576\n",
            "Epoch 90/100\n",
            "19/19 - 0s - loss: 0.3959 - mae: 0.4600 - val_loss: 0.4603 - val_mae: 0.4596\n",
            "Epoch 91/100\n",
            "19/19 - 0s - loss: 0.3817 - mae: 0.4493 - val_loss: 0.4583 - val_mae: 0.4564\n",
            "Epoch 92/100\n",
            "19/19 - 0s - loss: 0.4167 - mae: 0.4630 - val_loss: 0.4546 - val_mae: 0.4564\n",
            "Epoch 93/100\n",
            "19/19 - 0s - loss: 0.3857 - mae: 0.4542 - val_loss: 0.4564 - val_mae: 0.4580\n",
            "Epoch 94/100\n",
            "19/19 - 0s - loss: 0.4038 - mae: 0.4646 - val_loss: 0.4499 - val_mae: 0.4556\n",
            "Epoch 95/100\n",
            "19/19 - 0s - loss: 0.3838 - mae: 0.4552 - val_loss: 0.4482 - val_mae: 0.4532\n",
            "Epoch 96/100\n",
            "19/19 - 0s - loss: 0.3900 - mae: 0.4564 - val_loss: 0.4505 - val_mae: 0.4537\n",
            "Epoch 97/100\n",
            "19/19 - 0s - loss: 0.3938 - mae: 0.4529 - val_loss: 0.4517 - val_mae: 0.4534\n",
            "Epoch 98/100\n",
            "19/19 - 0s - loss: 0.3978 - mae: 0.4564 - val_loss: 0.4508 - val_mae: 0.4549\n",
            "Epoch 99/100\n",
            "19/19 - 0s - loss: 0.3873 - mae: 0.4584 - val_loss: 0.4581 - val_mae: 0.4581\n",
            "Epoch 100/100\n",
            "19/19 - 0s - loss: 0.3803 - mae: 0.4512 - val_loss: 0.4556 - val_mae: 0.4573\n"
          ],
          "name": "stdout"
        }
      ]
    },
    {
      "cell_type": "code",
      "metadata": {
        "colab": {
          "base_uri": "https://localhost:8080/",
          "height": 350
        },
        "id": "4njyGFqDPm5c",
        "outputId": "fded8fa2-bc31-4804-d482-8acbb4be2782"
      },
      "source": [
        "fig,(ax1,ax2)=plt.subplots(1,2,figsize=(15,5))\r\n",
        "\r\n",
        "ax1.plot(history2.history['mae'])\r\n",
        "ax1.plot(history2.history['val_mae'])\r\n",
        "ax1.set_title('model accuracy')\r\n",
        "ax1.set_ylabel('accuracy')\r\n",
        "ax1.set_xlabel('epoch')\r\n",
        "ax1.legend(['train', 'val'], loc='upper left')\r\n",
        "\r\n",
        "ax2.plot(history2.history['loss'])\r\n",
        "ax2.plot(history2.history['val_loss'])\r\n",
        "ax2.set_title('model loss')\r\n",
        "ax2.set_ylabel('loss')\r\n",
        "ax2.set_xlabel('epoch')\r\n",
        "ax2.legend(['train', 'val'], loc='upper left')\r\n",
        "\r\n",
        "plt.show()"
      ],
      "execution_count": null,
      "outputs": [
        {
          "output_type": "display_data",
          "data": {
            "image/png": "[encoded data removed]",
            "text/plain": [
              "<Figure size 1080x360 with 2 Axes>"
            ]
          },
          "metadata": {
            "tags": [],
            "needs_background": "light"
          }
        }
      ]
    },
    {
      "cell_type": "code",
      "metadata": {
        "colab": {
          "base_uri": "https://localhost:8080/"
        },
        "id": "r8NYjAMNPm5d",
        "outputId": "395e03c1-d320-48aa-f671-2a1e9c55d11e"
      },
      "source": [
        "yhat_test=nn2.predict(x_test)*np.std(Y)+np.mean(Y)\r\n",
        "yhat_train=nn2.predict(x_train)*np.std(Y)+np.mean(Y)\r\n",
        "\r\n",
        "\r\n",
        "print(\"----- MAE -----\")\r\n",
        "print(mean_absolute_error(Y_train,yhat_train))\r\n",
        "print(mean_absolute_error(Y_test,yhat_test))\r\n",
        "print()\r\n",
        "print(\"----- R2 -----\")\r\n",
        "print(r2_score(Y_train,yhat_train))\r\n",
        "print(r2_score(Y_test,yhat_test))"
      ],
      "execution_count": null,
      "outputs": [
        {
          "output_type": "stream",
          "text": [
            "----- MAE -----\n",
            "6.246690421692094\n",
            "7.657933924478307\n",
            "\n",
            "----- R2 -----\n",
            "0.7280205741129677\n",
            "0.52379548828275\n"
          ],
          "name": "stdout"
        }
      ]
    },
    {
      "cell_type": "markdown",
      "metadata": {
        "id": "njKg0OVAVXRf"
      },
      "source": [
        "## NN3"
      ]
    },
    {
      "cell_type": "code",
      "metadata": {
        "colab": {
          "base_uri": "https://localhost:8080/"
        },
        "id": "YNk8oz-kVXR1",
        "outputId": "b979791a-2655-41af-e99c-848f0bd6b63b"
      },
      "source": [
        "nn3=models.Sequential()\r\n",
        "\r\n",
        "nn3.add(layers.Dense(64,activation='relu',input_shape=(12,)))\r\n",
        "nn3.add(layers.BatchNormalization())\r\n",
        "nn3.add(layers.Dropout(0.3))\r\n",
        "\r\n",
        "nn3.add(layers.Dense(128,activation='relu'))\r\n",
        "nn3.add(layers.BatchNormalization())\r\n",
        "nn3.add(layers.Dropout(0.3))\r\n",
        "\r\n",
        "nn3.add(layers.Dense(256,activation='relu'))\r\n",
        "nn3.add(layers.BatchNormalization())\r\n",
        "nn3.add(layers.Dropout(0.3))\r\n",
        "\r\n",
        "nn3.add(layers.Dense(256,activation='relu'))\r\n",
        "nn3.add(layers.BatchNormalization())\r\n",
        "nn3.add(layers.Dropout(0.3))\r\n",
        "\r\n",
        "nn3.add(layers.Dense(128,activation='relu'))\r\n",
        "nn3.add(layers.BatchNormalization())\r\n",
        "nn3.add(layers.Dropout(0.3))\r\n",
        "\r\n",
        "nn3.add(layers.Dense(64,activation='relu'))\r\n",
        "nn3.add(layers.BatchNormalization())\r\n",
        "nn3.add(layers.Dropout(0.3))\r\n",
        "\r\n",
        "nn3.add(layers.Dense(1,activation='linear'))\r\n",
        "\r\n",
        "nn3.summary()"
      ],
      "execution_count": null,
      "outputs": [
        {
          "output_type": "stream",
          "text": [
            "Model: \"sequential_18\"\n",
            "_________________________________________________________________\n",
            "Layer (type)                 Output Shape              Param #   \n",
            "=================================================================\n",
            "dense_87 (Dense)             (None, 64)                832       \n",
            "_________________________________________________________________\n",
            "batch_normalization_69 (Batc (None, 64)                256       \n",
            "_________________________________________________________________\n",
            "dropout_54 (Dropout)         (None, 64)                0         \n",
            "_________________________________________________________________\n",
            "dense_88 (Dense)             (None, 128)               8320      \n",
            "_________________________________________________________________\n",
            "batch_normalization_70 (Batc (None, 128)               512       \n",
            "_________________________________________________________________\n",
            "dropout_55 (Dropout)         (None, 128)               0         \n",
            "_________________________________________________________________\n",
            "dense_89 (Dense)             (None, 256)               33024     \n",
            "_________________________________________________________________\n",
            "batch_normalization_71 (Batc (None, 256)               1024      \n",
            "_________________________________________________________________\n",
            "dropout_56 (Dropout)         (None, 256)               0         \n",
            "_________________________________________________________________\n",
            "dense_90 (Dense)             (None, 256)               65792     \n",
            "_________________________________________________________________\n",
            "batch_normalization_72 (Batc (None, 256)               1024      \n",
            "_________________________________________________________________\n",
            "dropout_57 (Dropout)         (None, 256)               0         \n",
            "_________________________________________________________________\n",
            "dense_91 (Dense)             (None, 128)               32896     \n",
            "_________________________________________________________________\n",
            "batch_normalization_73 (Batc (None, 128)               512       \n",
            "_________________________________________________________________\n",
            "dropout_58 (Dropout)         (None, 128)               0         \n",
            "_________________________________________________________________\n",
            "dense_92 (Dense)             (None, 64)                8256      \n",
            "_________________________________________________________________\n",
            "batch_normalization_74 (Batc (None, 64)                256       \n",
            "_________________________________________________________________\n",
            "dropout_59 (Dropout)         (None, 64)                0         \n",
            "_________________________________________________________________\n",
            "dense_93 (Dense)             (None, 1)                 65        \n",
            "=================================================================\n",
            "Total params: 152,769\n",
            "Trainable params: 150,977\n",
            "Non-trainable params: 1,792\n",
            "_________________________________________________________________\n"
          ],
          "name": "stdout"
        }
      ]
    },
    {
      "cell_type": "code",
      "metadata": {
        "id": "Aa2BLTOgVXR3"
      },
      "source": [
        "nn3.compile(optimizer='Adam',metrics=['mae'],loss='mse')\r\n",
        "history3=nn3.fit(x_train,y_train,epochs=200,batch_size=128,validation_data=(x_test,y_test),verbose=0,shuffle=True)"
      ],
      "execution_count": null,
      "outputs": []
    },
    {
      "cell_type": "code",
      "metadata": {
        "colab": {
          "base_uri": "https://localhost:8080/",
          "height": 350
        },
        "id": "6SCa8FqLVXR3",
        "outputId": "3d44aaf6-f73a-4787-8166-c72ed6aedec2"
      },
      "source": [
        "fig,(ax1,ax2)=plt.subplots(1,2,figsize=(15,5))\r\n",
        "\r\n",
        "ax1.plot(history3.history['mae'])\r\n",
        "ax1.plot(history3.history['val_mae'])\r\n",
        "ax1.set_title('model accuracy')\r\n",
        "ax1.set_ylabel('accuracy')\r\n",
        "ax1.set_xlabel('epoch')\r\n",
        "ax1.legend(['train', 'val'], loc='upper left')\r\n",
        "\r\n",
        "ax2.plot(history3.history['loss'])\r\n",
        "ax2.plot(history3.history['val_loss'])\r\n",
        "ax2.set_title('model loss')\r\n",
        "ax2.set_ylabel('loss')\r\n",
        "ax2.set_xlabel('epoch')\r\n",
        "ax2.legend(['train', 'val'], loc='upper left')\r\n",
        "\r\n",
        "plt.show()"
      ],
      "execution_count": null,
      "outputs": [
        {
          "output_type": "display_data",
          "data": {
            "image/png": "[encoded data removed]",
            "text/plain": [
              "<Figure size 1080x360 with 2 Axes>"
            ]
          },
          "metadata": {
            "tags": [],
            "needs_background": "light"
          }
        }
      ]
    },
    {
      "cell_type": "code",
      "metadata": {
        "colab": {
          "base_uri": "https://localhost:8080/"
        },
        "id": "qe2H21XUVXR4",
        "outputId": "c65167dc-2495-44a9-c89e-caeed94364f2"
      },
      "source": [
        "yhat_test=nn2.predict(x_test)*np.std(Y)+np.mean(Y)\r\n",
        "yhat_train=nn2.predict(x_train)*np.std(Y)+np.mean(Y)\r\n",
        "\r\n",
        "\r\n",
        "print(\"----- MAE -----\")\r\n",
        "print(mean_absolute_error(Y_train,yhat_train))\r\n",
        "print(mean_absolute_error(Y_test,yhat_test))\r\n",
        "print()\r\n",
        "print(\"----- R2 -----\")\r\n",
        "print(r2_score(Y_train,yhat_train))\r\n",
        "print(r2_score(Y_test,yhat_test))"
      ],
      "execution_count": null,
      "outputs": [
        {
          "output_type": "stream",
          "text": [
            "----- MAE -----\n",
            "6.246690421692094\n",
            "7.657933924478307\n",
            "\n",
            "----- R2 -----\n",
            "0.7280205741129677\n",
            "0.52379548828275\n"
          ],
          "name": "stdout"
        }
      ]
    }
  ]
}