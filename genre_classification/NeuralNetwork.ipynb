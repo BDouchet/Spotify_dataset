{
  "nbformat": 4,
  "nbformat_minor": 0,
  "metadata": {
    "colab": {
      "name": "NeuralNetwork.ipynb",
      "provenance": [],
      "collapsed_sections": [
        "3yLYFtAoCK1l",
        "X1D5ygwaFh57",
        "5OojTRc2JMt5"
      ],
      "include_colab_link": true
    },
    "kernelspec": {
      "name": "python3",
      "display_name": "Python 3"
    }
  },
  "cells": [
    {
      "cell_type": "markdown",
      "metadata": {
        "id": "view-in-github",
        "colab_type": "text"
      },
      "source": [
        "<a href=\"https://colab.research.google.com/github/BDouchet/Spotify_dataset/blob/main/genre_classification/NeuralNetwork.ipynb\" target=\"_parent\"><img src=\"https://colab.research.google.com/assets/colab-badge.svg\" alt=\"Open In Colab\"/></a>"
      ]
    },
    {
      "cell_type": "markdown",
      "metadata": {
        "id": "GB5z3ufaPwLE"
      },
      "source": [
        "# Imports"
      ]
    },
    {
      "cell_type": "code",
      "metadata": {
        "colab": {
          "base_uri": "https://localhost:8080/"
        },
        "id": "_wErlx6wOy1u",
        "outputId": "b03468d6-176d-4146-8d47-f99e88fb80ba"
      },
      "source": [
        "from pydrive.auth import GoogleAuth\r\n",
        "from pydrive.drive import GoogleDrive\r\n",
        "from google.colab import auth\r\n",
        "from oauth2client.client import GoogleCredentials\r\n",
        "\r\n",
        "import pandas as pd\r\n",
        "import numpy as np\r\n",
        "import matplotlib.pyplot as plt\r\n",
        "from zipfile import ZipFile\r\n",
        "\r\n",
        "auth.authenticate_user()\r\n",
        "gauth = GoogleAuth()\r\n",
        "gauth.credentials = GoogleCredentials.get_application_default()\r\n",
        "drive = GoogleDrive(gauth)\r\n",
        "\r\n",
        "id='16phKfXvRrwGbOJrNKpgbYnBnZG6icXFX'\r\n",
        "\r\n",
        "downloaded = drive.CreateFile({'id':id})\r\n",
        "downloaded.GetContentFile('dataset.zip')\r\n",
        "\r\n",
        "with ZipFile('dataset.zip', 'r') as zip:\r\n",
        "   zip.extractall()\r\n",
        "   print('Done')\r\n",
        "\r\n",
        "df=pd.read_csv('dataset/Spotify_train_dataset.csv')\r\n",
        "\r\n",
        "from sklearn.preprocessing import LabelEncoder\r\n",
        "from sklearn.model_selection import train_test_split\r\n",
        "\r\n",
        "data=df.drop(labels=['type','id','uri','track_href','analysis_url','song_name'],axis=1)\r\n",
        "\r\n",
        "genres=['Dark Trap', 'Underground Rap', 'Trap Metal', 'Emo', 'Rap', 'RnB', 'Pop', 'Hiphop', 'techhouse', 'techno',\r\n",
        "'trance', 'psytrance', 'trap', 'dnb', 'hardstyle']\r\n",
        "\r\n",
        "le = LabelEncoder()\r\n",
        "le.classes_=genres\r\n",
        "data['genre']=le.transform(data['genre'])\r\n",
        "\r\n",
        "X=data[data.columns[:-1]].to_numpy()\r\n",
        "Y=data['genre'].to_numpy()\r\n",
        "\r\n",
        "X_train,X_test,Y_train,Y_test=train_test_split(X,Y,random_state=10,test_size=0.2)\r\n",
        "print(X_train.shape,Y_train.shape,X_test.shape,Y_test.shape)"
      ],
      "execution_count": 2,
      "outputs": [
        {
          "output_type": "stream",
          "text": [
            "Done\n",
            "(25382, 13) (25382,) (6346, 13) (6346,)\n"
          ],
          "name": "stdout"
        }
      ]
    },
    {
      "cell_type": "markdown",
      "metadata": {
        "id": "m4lYuIE7-Pa6"
      },
      "source": [
        "# Create and train Neural Networks\r\n",
        "\r\n",
        "For this part, we will use Keras to implement and test our neural networks.\r\n",
        "\r\n",
        "To get better performances, it is necessary to standardize our input values. \r\n",
        "\r\n",
        "The labels have to be one-hot encoded : \r\n",
        "````\r\n",
        "class 1 between 3 classes :\r\n",
        "[1] -> [0,1,0]\r\n",
        "````\r\n",
        "\r\n",
        "Thus, it is necessary to create the reverse operation o the one-hot encoding."
      ]
    },
    {
      "cell_type": "code",
      "metadata": {
        "id": "-uE_754H-O_B"
      },
      "source": [
        "import tensorflow as tf\r\n",
        "from tensorflow.keras import layers,models\r\n",
        "from sklearn.preprocessing import StandardScaler\r\n",
        "from sklearn.metrics import f1_score"
      ],
      "execution_count": 1,
      "outputs": []
    },
    {
      "cell_type": "code",
      "metadata": {
        "colab": {
          "base_uri": "https://localhost:8080/"
        },
        "id": "RMHGjQbt-szQ",
        "outputId": "2ed7e0b2-2a1b-4925-bc6b-746b5a6723b3"
      },
      "source": [
        "ss=StandardScaler()\r\n",
        "\r\n",
        "x_train=ss.fit_transform(X_train)\r\n",
        "x_test=ss.fit_transform(X_test)\r\n",
        "\r\n",
        "y_train=tf.keras.utils.to_categorical(Y_train)\r\n",
        "y_test=tf.keras.utils.to_categorical(Y_test)\r\n",
        "\r\n",
        "print(x_train.shape,x_test.shape,y_train.shape,y_test.shape)"
      ],
      "execution_count": null,
      "outputs": [
        {
          "output_type": "stream",
          "text": [
            "(25382, 13) (6346, 13) (25382, 15) (6346, 15)\n"
          ],
          "name": "stdout"
        }
      ]
    },
    {
      "cell_type": "code",
      "metadata": {
        "id": "SzvCgQXLDXOG"
      },
      "source": [
        "# Reverse of the one-hot encoding\r\n",
        "def to_labels(Y):\r\n",
        "    return np.array([np.argmax(y) for y in Y ])"
      ],
      "execution_count": null,
      "outputs": []
    },
    {
      "cell_type": "markdown",
      "metadata": {
        "id": "3yLYFtAoCK1l"
      },
      "source": [
        "## NN1\r\n",
        "\r\n",
        "*  4 layers : 64 -> 64 -> 64 -> 15\r\n",
        "*  BatchNormalization\r\n",
        "*  Dropout = 0.0\r\n",
        "*  Number of Parameters : 10,959\r\n",
        "*  Epochs = 30\r\n"
      ]
    },
    {
      "cell_type": "code",
      "metadata": {
        "colab": {
          "base_uri": "https://localhost:8080/"
        },
        "id": "WNa8DbPW-WTC",
        "outputId": "ff81cd6a-94e1-4761-d005-21dbbb56c02c"
      },
      "source": [
        "nn=models.Sequential()\r\n",
        "\r\n",
        "nn.add(layers.Dense(64,activation='relu',input_shape=(13,)))\r\n",
        "nn.add(layers.BatchNormalization())\r\n",
        "\r\n",
        "nn.add(layers.Dense(64,activation='relu'))\r\n",
        "nn.add(layers.BatchNormalization())\r\n",
        "\r\n",
        "nn.add(layers.Dense(64,activation='relu'))\r\n",
        "nn.add(layers.BatchNormalization())\r\n",
        "\r\n",
        "nn.add(layers.Dense(15,activation='softmax'))\r\n",
        "\r\n",
        "nn.summary()"
      ],
      "execution_count": null,
      "outputs": [
        {
          "output_type": "stream",
          "text": [
            "Model: \"sequential_9\"\n",
            "_________________________________________________________________\n",
            "Layer (type)                 Output Shape              Param #   \n",
            "=================================================================\n",
            "dense_25 (Dense)             (None, 64)                896       \n",
            "_________________________________________________________________\n",
            "batch_normalization_18 (Batc (None, 64)                256       \n",
            "_________________________________________________________________\n",
            "dense_26 (Dense)             (None, 64)                4160      \n",
            "_________________________________________________________________\n",
            "batch_normalization_19 (Batc (None, 64)                256       \n",
            "_________________________________________________________________\n",
            "dense_27 (Dense)             (None, 64)                4160      \n",
            "_________________________________________________________________\n",
            "batch_normalization_20 (Batc (None, 64)                256       \n",
            "_________________________________________________________________\n",
            "dense_28 (Dense)             (None, 15)                975       \n",
            "=================================================================\n",
            "Total params: 10,959\n",
            "Trainable params: 10,575\n",
            "Non-trainable params: 384\n",
            "_________________________________________________________________\n"
          ],
          "name": "stdout"
        }
      ]
    },
    {
      "cell_type": "code",
      "metadata": {
        "colab": {
          "base_uri": "https://localhost:8080/"
        },
        "id": "KQW8q_5ZAocS",
        "outputId": "a0b7d147-8adf-4ce3-e3d5-a8e250d72d67"
      },
      "source": [
        "nn.compile(optimizer='Adam',metrics=['acc'],loss='categorical_crossentropy')\r\n",
        "history=nn.fit(x_train,y_train,epochs=30,batch_size=128,validation_data=(x_test,y_test),verbose=2)"
      ],
      "execution_count": null,
      "outputs": [
        {
          "output_type": "stream",
          "text": [
            "Epoch 1/30\n",
            "199/199 - 2s - loss: 1.5643 - acc: 0.4955 - val_loss: 1.3321 - val_acc: 0.5769\n",
            "Epoch 2/30\n",
            "199/199 - 1s - loss: 1.1416 - acc: 0.6089 - val_loss: 1.0830 - val_acc: 0.6232\n",
            "Epoch 3/30\n",
            "199/199 - 1s - loss: 1.0526 - acc: 0.6301 - val_loss: 1.0209 - val_acc: 0.6358\n",
            "Epoch 4/30\n",
            "199/199 - 1s - loss: 1.0132 - acc: 0.6425 - val_loss: 0.9934 - val_acc: 0.6436\n",
            "Epoch 5/30\n",
            "199/199 - 1s - loss: 0.9864 - acc: 0.6510 - val_loss: 0.9823 - val_acc: 0.6437\n",
            "Epoch 6/30\n",
            "199/199 - 1s - loss: 0.9687 - acc: 0.6532 - val_loss: 0.9641 - val_acc: 0.6491\n",
            "Epoch 7/30\n",
            "199/199 - 1s - loss: 0.9528 - acc: 0.6552 - val_loss: 0.9575 - val_acc: 0.6524\n",
            "Epoch 8/30\n",
            "199/199 - 1s - loss: 0.9457 - acc: 0.6613 - val_loss: 0.9411 - val_acc: 0.6592\n",
            "Epoch 9/30\n",
            "199/199 - 1s - loss: 0.9324 - acc: 0.6630 - val_loss: 0.9367 - val_acc: 0.6620\n",
            "Epoch 10/30\n",
            "199/199 - 1s - loss: 0.9224 - acc: 0.6650 - val_loss: 0.9431 - val_acc: 0.6585\n",
            "Epoch 11/30\n",
            "199/199 - 1s - loss: 0.9162 - acc: 0.6672 - val_loss: 0.9308 - val_acc: 0.6639\n",
            "Epoch 12/30\n",
            "199/199 - 1s - loss: 0.9065 - acc: 0.6729 - val_loss: 0.9257 - val_acc: 0.6615\n",
            "Epoch 13/30\n",
            "199/199 - 1s - loss: 0.9001 - acc: 0.6729 - val_loss: 0.9281 - val_acc: 0.6653\n",
            "Epoch 14/30\n",
            "199/199 - 1s - loss: 0.8958 - acc: 0.6751 - val_loss: 0.9339 - val_acc: 0.6625\n",
            "Epoch 15/30\n",
            "199/199 - 1s - loss: 0.8929 - acc: 0.6774 - val_loss: 0.9199 - val_acc: 0.6662\n",
            "Epoch 16/30\n",
            "199/199 - 1s - loss: 0.8873 - acc: 0.6752 - val_loss: 0.9278 - val_acc: 0.6628\n",
            "Epoch 17/30\n",
            "199/199 - 1s - loss: 0.8817 - acc: 0.6807 - val_loss: 0.9247 - val_acc: 0.6642\n",
            "Epoch 18/30\n",
            "199/199 - 1s - loss: 0.8796 - acc: 0.6797 - val_loss: 0.9223 - val_acc: 0.6662\n",
            "Epoch 19/30\n",
            "199/199 - 0s - loss: 0.8718 - acc: 0.6825 - val_loss: 0.9383 - val_acc: 0.6595\n",
            "Epoch 20/30\n",
            "199/199 - 1s - loss: 0.8667 - acc: 0.6837 - val_loss: 0.9367 - val_acc: 0.6648\n",
            "Epoch 21/30\n",
            "199/199 - 1s - loss: 0.8676 - acc: 0.6812 - val_loss: 0.9231 - val_acc: 0.6661\n",
            "Epoch 22/30\n",
            "199/199 - 1s - loss: 0.8632 - acc: 0.6849 - val_loss: 0.9169 - val_acc: 0.6666\n",
            "Epoch 23/30\n",
            "199/199 - 1s - loss: 0.8569 - acc: 0.6876 - val_loss: 0.9282 - val_acc: 0.6574\n",
            "Epoch 24/30\n",
            "199/199 - 1s - loss: 0.8576 - acc: 0.6882 - val_loss: 0.9232 - val_acc: 0.6707\n",
            "Epoch 25/30\n",
            "199/199 - 1s - loss: 0.8534 - acc: 0.6859 - val_loss: 0.9224 - val_acc: 0.6651\n",
            "Epoch 26/30\n",
            "199/199 - 1s - loss: 0.8463 - acc: 0.6888 - val_loss: 0.9234 - val_acc: 0.6678\n",
            "Epoch 27/30\n",
            "199/199 - 1s - loss: 0.8465 - acc: 0.6885 - val_loss: 0.9279 - val_acc: 0.6681\n",
            "Epoch 28/30\n",
            "199/199 - 1s - loss: 0.8475 - acc: 0.6905 - val_loss: 0.9289 - val_acc: 0.6648\n",
            "Epoch 29/30\n",
            "199/199 - 1s - loss: 0.8387 - acc: 0.6953 - val_loss: 0.9279 - val_acc: 0.6637\n",
            "Epoch 30/30\n",
            "199/199 - 1s - loss: 0.8356 - acc: 0.6923 - val_loss: 0.9314 - val_acc: 0.6656\n"
          ],
          "name": "stdout"
        }
      ]
    },
    {
      "cell_type": "code",
      "metadata": {
        "colab": {
          "base_uri": "https://localhost:8080/",
          "height": 350
        },
        "id": "UEFosXd8BtYg",
        "outputId": "b29574a5-fe8f-412b-c14e-e16aa7d57007"
      },
      "source": [
        "fig,(ax1,ax2)=plt.subplots(1,2,figsize=(15,5))\r\n",
        "\r\n",
        "ax1.plot(history.history['acc'])\r\n",
        "ax1.plot(history.history['val_acc'])\r\n",
        "ax1.set_title('model accuracy')\r\n",
        "ax1.set_ylabel('accuracy')\r\n",
        "ax1.set_xlabel('epoch')\r\n",
        "ax1.legend(['train', 'val'], loc='upper left')\r\n",
        "\r\n",
        "ax2.plot(history.history['loss'])\r\n",
        "ax2.plot(history.history['val_loss'])\r\n",
        "ax2.set_title('model loss')\r\n",
        "ax2.set_ylabel('loss')\r\n",
        "ax2.set_xlabel('epoch')\r\n",
        "ax2.legend(['train', 'val'], loc='upper left')\r\n",
        "\r\n",
        "plt.show()"
      ],
      "execution_count": null,
      "outputs": [
        {
          "output_type": "display_data",
          "data": {
            "image/png": "[encoded data removed]",
            "text/plain": [
              "<Figure size 1080x360 with 2 Axes>"
            ]
          },
          "metadata": {
            "tags": [],
            "needs_background": "light"
          }
        }
      ]
    },
    {
      "cell_type": "code",
      "metadata": {
        "colab": {
          "base_uri": "https://localhost:8080/"
        },
        "id": "Gnxa5OOSCPbA",
        "outputId": "0ec8d0b4-b215-4c01-ddef-8e90121d799c"
      },
      "source": [
        "yhat_test=nn.predict(x_test)\r\n",
        "yhat_train=nn.predict(x_train)\r\n",
        "\r\n",
        "\r\n",
        "\r\n",
        "print(f1_score(Y_train,to_labels(yhat_train),average='micro'))\r\n",
        "print(f1_score(Y_test,to_labels(yhat_test),average='micro'))"
      ],
      "execution_count": null,
      "outputs": [
        {
          "output_type": "stream",
          "text": [
            "0.7153888582460011\n",
            "0.6656161361487551\n"
          ],
          "name": "stdout"
        }
      ]
    },
    {
      "cell_type": "markdown",
      "metadata": {
        "id": "X1D5ygwaFh57"
      },
      "source": [
        "## NN2\r\n",
        "\r\n",
        "*  6 layers : 64 -> 128 -> 256 -> 128 -> 64 -> 15\r\n",
        "*  BatchNormalization\r\n",
        "*  Dropout = 0.2\r\n",
        "*  Number of Parameters : 86,927\r\n",
        "*  Epochs = 100"
      ]
    },
    {
      "cell_type": "code",
      "metadata": {
        "colab": {
          "base_uri": "https://localhost:8080/"
        },
        "id": "CoJ3ZHkOFh6F",
        "outputId": "2998c8fa-eebd-429e-d162-3a6d955c4c9c"
      },
      "source": [
        "nn2=models.Sequential()\r\n",
        "\r\n",
        "nn2.add(layers.Dense(64,activation='relu',input_shape=(13,)))\r\n",
        "nn2.add(layers.BatchNormalization())\r\n",
        "\r\n",
        "nn2.add(layers.Dense(128,activation='relu'))\r\n",
        "nn2.add(layers.BatchNormalization())\r\n",
        "nn2.add(layers.Dropout(0.2))\r\n",
        "\r\n",
        "nn2.add(layers.Dense(256,activation='relu'))\r\n",
        "nn2.add(layers.BatchNormalization())\r\n",
        "nn2.add(layers.Dropout(0.2))\r\n",
        "\r\n",
        "nn2.add(layers.Dense(128,activation='relu',input_shape=(13,)))\r\n",
        "nn2.add(layers.BatchNormalization())\r\n",
        "nn2.add(layers.Dropout(0.2))\r\n",
        "\r\n",
        "nn2.add(layers.Dense(64,activation='relu'))\r\n",
        "nn2.add(layers.BatchNormalization())\r\n",
        "nn2.add(layers.Dropout(0.2))\r\n",
        "\r\n",
        "nn2.add(layers.Dense(15,activation='softmax'))\r\n",
        "\r\n",
        "nn2.summary()"
      ],
      "execution_count": null,
      "outputs": [
        {
          "output_type": "stream",
          "text": [
            "Model: \"sequential_24\"\n",
            "_________________________________________________________________\n",
            "Layer (type)                 Output Shape              Param #   \n",
            "=================================================================\n",
            "dense_97 (Dense)             (None, 64)                896       \n",
            "_________________________________________________________________\n",
            "batch_normalization_55 (Batc (None, 64)                256       \n",
            "_________________________________________________________________\n",
            "dense_98 (Dense)             (None, 128)               8320      \n",
            "_________________________________________________________________\n",
            "batch_normalization_56 (Batc (None, 128)               512       \n",
            "_________________________________________________________________\n",
            "dropout_24 (Dropout)         (None, 128)               0         \n",
            "_________________________________________________________________\n",
            "dense_99 (Dense)             (None, 256)               33024     \n",
            "_________________________________________________________________\n",
            "batch_normalization_57 (Batc (None, 256)               1024      \n",
            "_________________________________________________________________\n",
            "dropout_25 (Dropout)         (None, 256)               0         \n",
            "_________________________________________________________________\n",
            "dense_100 (Dense)            (None, 128)               32896     \n",
            "_________________________________________________________________\n",
            "batch_normalization_58 (Batc (None, 128)               512       \n",
            "_________________________________________________________________\n",
            "dropout_26 (Dropout)         (None, 128)               0         \n",
            "_________________________________________________________________\n",
            "dense_101 (Dense)            (None, 64)                8256      \n",
            "_________________________________________________________________\n",
            "batch_normalization_59 (Batc (None, 64)                256       \n",
            "_________________________________________________________________\n",
            "dropout_27 (Dropout)         (None, 64)                0         \n",
            "_________________________________________________________________\n",
            "dense_102 (Dense)            (None, 15)                975       \n",
            "=================================================================\n",
            "Total params: 86,927\n",
            "Trainable params: 85,647\n",
            "Non-trainable params: 1,280\n",
            "_________________________________________________________________\n"
          ],
          "name": "stdout"
        }
      ]
    },
    {
      "cell_type": "code",
      "metadata": {
        "colab": {
          "base_uri": "https://localhost:8080/"
        },
        "id": "QIFQymNQFh6G",
        "outputId": "989ef2fe-115e-48db-c5e3-b809b309404c"
      },
      "source": [
        "nn2.compile(optimizer='Adam',metrics=['acc'],loss='categorical_crossentropy')\r\n",
        "history2=nn2.fit(x_train,y_train,epochs=100,batch_size=128,validation_data=(x_test,y_test),verbose=2)"
      ],
      "execution_count": null,
      "outputs": [
        {
          "output_type": "stream",
          "text": [
            "Epoch 1/100\n",
            "199/199 - 3s - loss: 1.7515 - acc: 0.4364 - val_loss: 1.2659 - val_acc: 0.5797\n",
            "Epoch 2/100\n",
            "199/199 - 2s - loss: 1.2791 - acc: 0.5595 - val_loss: 1.0587 - val_acc: 0.6287\n",
            "Epoch 3/100\n",
            "199/199 - 2s - loss: 1.1792 - acc: 0.5891 - val_loss: 1.0225 - val_acc: 0.6368\n",
            "Epoch 4/100\n",
            "199/199 - 2s - loss: 1.1232 - acc: 0.6109 - val_loss: 0.9938 - val_acc: 0.6417\n",
            "Epoch 5/100\n",
            "199/199 - 2s - loss: 1.0941 - acc: 0.6172 - val_loss: 0.9771 - val_acc: 0.6486\n",
            "Epoch 6/100\n",
            "199/199 - 2s - loss: 1.0701 - acc: 0.6218 - val_loss: 0.9669 - val_acc: 0.6540\n",
            "Epoch 7/100\n",
            "199/199 - 2s - loss: 1.0575 - acc: 0.6252 - val_loss: 0.9544 - val_acc: 0.6599\n",
            "Epoch 8/100\n",
            "199/199 - 2s - loss: 1.0445 - acc: 0.6283 - val_loss: 0.9392 - val_acc: 0.6595\n",
            "Epoch 9/100\n",
            "199/199 - 2s - loss: 1.0297 - acc: 0.6339 - val_loss: 0.9359 - val_acc: 0.6612\n",
            "Epoch 10/100\n",
            "199/199 - 2s - loss: 1.0206 - acc: 0.6395 - val_loss: 0.9386 - val_acc: 0.6582\n",
            "Epoch 11/100\n",
            "199/199 - 2s - loss: 1.0065 - acc: 0.6423 - val_loss: 0.9238 - val_acc: 0.6650\n",
            "Epoch 12/100\n",
            "199/199 - 2s - loss: 1.0040 - acc: 0.6442 - val_loss: 0.9288 - val_acc: 0.6686\n",
            "Epoch 13/100\n",
            "199/199 - 2s - loss: 0.9898 - acc: 0.6472 - val_loss: 0.9222 - val_acc: 0.6640\n",
            "Epoch 14/100\n",
            "199/199 - 2s - loss: 0.9936 - acc: 0.6488 - val_loss: 0.9291 - val_acc: 0.6664\n",
            "Epoch 15/100\n",
            "199/199 - 2s - loss: 0.9811 - acc: 0.6469 - val_loss: 0.9273 - val_acc: 0.6655\n",
            "Epoch 16/100\n",
            "199/199 - 2s - loss: 0.9809 - acc: 0.6500 - val_loss: 0.9197 - val_acc: 0.6659\n",
            "Epoch 17/100\n",
            "199/199 - 2s - loss: 0.9714 - acc: 0.6531 - val_loss: 0.9142 - val_acc: 0.6694\n",
            "Epoch 18/100\n",
            "199/199 - 2s - loss: 0.9722 - acc: 0.6543 - val_loss: 0.9231 - val_acc: 0.6669\n",
            "Epoch 19/100\n",
            "199/199 - 2s - loss: 0.9653 - acc: 0.6528 - val_loss: 0.9122 - val_acc: 0.6673\n",
            "Epoch 20/100\n",
            "199/199 - 2s - loss: 0.9665 - acc: 0.6578 - val_loss: 0.9181 - val_acc: 0.6696\n",
            "Epoch 21/100\n",
            "199/199 - 2s - loss: 0.9581 - acc: 0.6581 - val_loss: 0.9100 - val_acc: 0.6699\n",
            "Epoch 22/100\n",
            "199/199 - 2s - loss: 0.9529 - acc: 0.6563 - val_loss: 0.9081 - val_acc: 0.6733\n",
            "Epoch 23/100\n",
            "199/199 - 2s - loss: 0.9526 - acc: 0.6556 - val_loss: 0.9067 - val_acc: 0.6699\n",
            "Epoch 24/100\n",
            "199/199 - 2s - loss: 0.9465 - acc: 0.6595 - val_loss: 0.9144 - val_acc: 0.6703\n",
            "Epoch 25/100\n",
            "199/199 - 2s - loss: 0.9423 - acc: 0.6614 - val_loss: 0.9030 - val_acc: 0.6748\n",
            "Epoch 26/100\n",
            "199/199 - 2s - loss: 0.9470 - acc: 0.6605 - val_loss: 0.9117 - val_acc: 0.6702\n",
            "Epoch 27/100\n",
            "199/199 - 2s - loss: 0.9382 - acc: 0.6599 - val_loss: 0.9025 - val_acc: 0.6733\n",
            "Epoch 28/100\n",
            "199/199 - 2s - loss: 0.9348 - acc: 0.6633 - val_loss: 0.8992 - val_acc: 0.6751\n",
            "Epoch 29/100\n",
            "199/199 - 2s - loss: 0.9310 - acc: 0.6621 - val_loss: 0.9057 - val_acc: 0.6694\n",
            "Epoch 30/100\n",
            "199/199 - 2s - loss: 0.9223 - acc: 0.6651 - val_loss: 0.9159 - val_acc: 0.6732\n",
            "Epoch 31/100\n",
            "199/199 - 2s - loss: 0.9256 - acc: 0.6658 - val_loss: 0.9118 - val_acc: 0.6711\n",
            "Epoch 32/100\n",
            "199/199 - 2s - loss: 0.9263 - acc: 0.6667 - val_loss: 0.9034 - val_acc: 0.6724\n",
            "Epoch 33/100\n",
            "199/199 - 2s - loss: 0.9189 - acc: 0.6693 - val_loss: 0.9000 - val_acc: 0.6768\n",
            "Epoch 34/100\n",
            "199/199 - 2s - loss: 0.9184 - acc: 0.6676 - val_loss: 0.9031 - val_acc: 0.6754\n",
            "Epoch 35/100\n",
            "199/199 - 2s - loss: 0.9190 - acc: 0.6700 - val_loss: 0.8942 - val_acc: 0.6760\n",
            "Epoch 36/100\n",
            "199/199 - 2s - loss: 0.9123 - acc: 0.6706 - val_loss: 0.9031 - val_acc: 0.6721\n",
            "Epoch 37/100\n",
            "199/199 - 2s - loss: 0.9162 - acc: 0.6713 - val_loss: 0.9013 - val_acc: 0.6792\n",
            "Epoch 38/100\n",
            "199/199 - 2s - loss: 0.9125 - acc: 0.6705 - val_loss: 0.8989 - val_acc: 0.6733\n",
            "Epoch 39/100\n",
            "199/199 - 2s - loss: 0.9083 - acc: 0.6714 - val_loss: 0.8982 - val_acc: 0.6710\n",
            "Epoch 40/100\n",
            "199/199 - 2s - loss: 0.9035 - acc: 0.6726 - val_loss: 0.8984 - val_acc: 0.6760\n",
            "Epoch 41/100\n",
            "199/199 - 2s - loss: 0.9015 - acc: 0.6737 - val_loss: 0.8995 - val_acc: 0.6754\n",
            "Epoch 42/100\n",
            "199/199 - 2s - loss: 0.8996 - acc: 0.6711 - val_loss: 0.8999 - val_acc: 0.6748\n",
            "Epoch 43/100\n",
            "199/199 - 2s - loss: 0.9011 - acc: 0.6745 - val_loss: 0.9038 - val_acc: 0.6744\n",
            "Epoch 44/100\n",
            "199/199 - 2s - loss: 0.8954 - acc: 0.6726 - val_loss: 0.9084 - val_acc: 0.6759\n",
            "Epoch 45/100\n",
            "199/199 - 2s - loss: 0.8941 - acc: 0.6745 - val_loss: 0.9005 - val_acc: 0.6729\n",
            "Epoch 46/100\n",
            "199/199 - 2s - loss: 0.8859 - acc: 0.6768 - val_loss: 0.9061 - val_acc: 0.6733\n",
            "Epoch 47/100\n",
            "199/199 - 2s - loss: 0.8922 - acc: 0.6757 - val_loss: 0.9024 - val_acc: 0.6744\n",
            "Epoch 48/100\n",
            "199/199 - 2s - loss: 0.8817 - acc: 0.6765 - val_loss: 0.9065 - val_acc: 0.6730\n",
            "Epoch 49/100\n",
            "199/199 - 2s - loss: 0.8848 - acc: 0.6777 - val_loss: 0.9045 - val_acc: 0.6741\n",
            "Epoch 50/100\n",
            "199/199 - 2s - loss: 0.8799 - acc: 0.6791 - val_loss: 0.9062 - val_acc: 0.6721\n",
            "Epoch 51/100\n",
            "199/199 - 2s - loss: 0.8791 - acc: 0.6761 - val_loss: 0.9084 - val_acc: 0.6779\n",
            "Epoch 52/100\n",
            "199/199 - 2s - loss: 0.8850 - acc: 0.6788 - val_loss: 0.9033 - val_acc: 0.6683\n",
            "Epoch 53/100\n",
            "199/199 - 2s - loss: 0.8830 - acc: 0.6749 - val_loss: 0.9033 - val_acc: 0.6792\n",
            "Epoch 54/100\n",
            "199/199 - 2s - loss: 0.8737 - acc: 0.6826 - val_loss: 0.8976 - val_acc: 0.6782\n",
            "Epoch 55/100\n",
            "199/199 - 2s - loss: 0.8803 - acc: 0.6800 - val_loss: 0.8965 - val_acc: 0.6743\n",
            "Epoch 56/100\n",
            "199/199 - 2s - loss: 0.8692 - acc: 0.6814 - val_loss: 0.9038 - val_acc: 0.6729\n",
            "Epoch 57/100\n",
            "199/199 - 2s - loss: 0.8786 - acc: 0.6803 - val_loss: 0.8962 - val_acc: 0.6748\n",
            "Epoch 58/100\n",
            "199/199 - 2s - loss: 0.8694 - acc: 0.6815 - val_loss: 0.9001 - val_acc: 0.6729\n",
            "Epoch 59/100\n",
            "199/199 - 2s - loss: 0.8716 - acc: 0.6819 - val_loss: 0.8963 - val_acc: 0.6757\n",
            "Epoch 60/100\n",
            "199/199 - 2s - loss: 0.8655 - acc: 0.6837 - val_loss: 0.9035 - val_acc: 0.6741\n",
            "Epoch 61/100\n",
            "199/199 - 2s - loss: 0.8661 - acc: 0.6830 - val_loss: 0.9041 - val_acc: 0.6713\n",
            "Epoch 62/100\n",
            "199/199 - 2s - loss: 0.8651 - acc: 0.6842 - val_loss: 0.9104 - val_acc: 0.6725\n",
            "Epoch 63/100\n",
            "199/199 - 2s - loss: 0.8612 - acc: 0.6853 - val_loss: 0.9159 - val_acc: 0.6744\n",
            "Epoch 64/100\n",
            "199/199 - 2s - loss: 0.8576 - acc: 0.6855 - val_loss: 0.9061 - val_acc: 0.6719\n",
            "Epoch 65/100\n",
            "199/199 - 2s - loss: 0.8528 - acc: 0.6873 - val_loss: 0.9001 - val_acc: 0.6790\n",
            "Epoch 66/100\n",
            "199/199 - 2s - loss: 0.8598 - acc: 0.6834 - val_loss: 0.8984 - val_acc: 0.6801\n",
            "Epoch 67/100\n",
            "199/199 - 2s - loss: 0.8555 - acc: 0.6864 - val_loss: 0.8974 - val_acc: 0.6776\n",
            "Epoch 68/100\n",
            "199/199 - 2s - loss: 0.8612 - acc: 0.6855 - val_loss: 0.9125 - val_acc: 0.6691\n",
            "Epoch 69/100\n",
            "199/199 - 2s - loss: 0.8575 - acc: 0.6873 - val_loss: 0.8968 - val_acc: 0.6771\n",
            "Epoch 70/100\n",
            "199/199 - 2s - loss: 0.8501 - acc: 0.6898 - val_loss: 0.9019 - val_acc: 0.6741\n",
            "Epoch 71/100\n",
            "199/199 - 2s - loss: 0.8418 - acc: 0.6904 - val_loss: 0.9007 - val_acc: 0.6751\n",
            "Epoch 72/100\n",
            "199/199 - 2s - loss: 0.8462 - acc: 0.6891 - val_loss: 0.9003 - val_acc: 0.6773\n",
            "Epoch 73/100\n",
            "199/199 - 2s - loss: 0.8418 - acc: 0.6902 - val_loss: 0.9086 - val_acc: 0.6760\n",
            "Epoch 74/100\n",
            "199/199 - 2s - loss: 0.8434 - acc: 0.6901 - val_loss: 0.9004 - val_acc: 0.6770\n",
            "Epoch 75/100\n",
            "199/199 - 2s - loss: 0.8401 - acc: 0.6911 - val_loss: 0.9050 - val_acc: 0.6724\n",
            "Epoch 76/100\n",
            "199/199 - 2s - loss: 0.8467 - acc: 0.6890 - val_loss: 0.9018 - val_acc: 0.6749\n",
            "Epoch 77/100\n",
            "199/199 - 2s - loss: 0.8430 - acc: 0.6886 - val_loss: 0.9077 - val_acc: 0.6754\n",
            "Epoch 78/100\n",
            "199/199 - 2s - loss: 0.8361 - acc: 0.6935 - val_loss: 0.9045 - val_acc: 0.6746\n",
            "Epoch 79/100\n",
            "199/199 - 2s - loss: 0.8411 - acc: 0.6906 - val_loss: 0.9002 - val_acc: 0.6748\n",
            "Epoch 80/100\n",
            "199/199 - 2s - loss: 0.8444 - acc: 0.6886 - val_loss: 0.8950 - val_acc: 0.6776\n",
            "Epoch 81/100\n",
            "199/199 - 2s - loss: 0.8380 - acc: 0.6913 - val_loss: 0.9029 - val_acc: 0.6789\n",
            "Epoch 82/100\n",
            "199/199 - 2s - loss: 0.8386 - acc: 0.6916 - val_loss: 0.9022 - val_acc: 0.6751\n",
            "Epoch 83/100\n",
            "199/199 - 2s - loss: 0.8351 - acc: 0.6905 - val_loss: 0.9044 - val_acc: 0.6721\n",
            "Epoch 84/100\n",
            "199/199 - 2s - loss: 0.8280 - acc: 0.6942 - val_loss: 0.9038 - val_acc: 0.6755\n",
            "Epoch 85/100\n",
            "199/199 - 2s - loss: 0.8358 - acc: 0.6920 - val_loss: 0.9008 - val_acc: 0.6763\n",
            "Epoch 86/100\n",
            "199/199 - 2s - loss: 0.8287 - acc: 0.6931 - val_loss: 0.9062 - val_acc: 0.6743\n",
            "Epoch 87/100\n",
            "199/199 - 2s - loss: 0.8266 - acc: 0.6956 - val_loss: 0.9080 - val_acc: 0.6787\n",
            "Epoch 88/100\n",
            "199/199 - 2s - loss: 0.8273 - acc: 0.6945 - val_loss: 0.9035 - val_acc: 0.6748\n",
            "Epoch 89/100\n",
            "199/199 - 2s - loss: 0.8264 - acc: 0.6954 - val_loss: 0.9083 - val_acc: 0.6751\n",
            "Epoch 90/100\n",
            "199/199 - 2s - loss: 0.8337 - acc: 0.6914 - val_loss: 0.9095 - val_acc: 0.6754\n",
            "Epoch 91/100\n",
            "199/199 - 2s - loss: 0.8237 - acc: 0.6940 - val_loss: 0.9125 - val_acc: 0.6725\n",
            "Epoch 92/100\n",
            "199/199 - 2s - loss: 0.8244 - acc: 0.6981 - val_loss: 0.9095 - val_acc: 0.6760\n",
            "Epoch 93/100\n",
            "199/199 - 2s - loss: 0.8237 - acc: 0.6941 - val_loss: 0.9073 - val_acc: 0.6766\n",
            "Epoch 94/100\n",
            "199/199 - 2s - loss: 0.8199 - acc: 0.6975 - val_loss: 0.9156 - val_acc: 0.6700\n",
            "Epoch 95/100\n",
            "199/199 - 2s - loss: 0.8170 - acc: 0.6983 - val_loss: 0.9069 - val_acc: 0.6741\n",
            "Epoch 96/100\n",
            "199/199 - 2s - loss: 0.8182 - acc: 0.6969 - val_loss: 0.9093 - val_acc: 0.6738\n",
            "Epoch 97/100\n",
            "199/199 - 2s - loss: 0.8251 - acc: 0.6922 - val_loss: 0.9137 - val_acc: 0.6705\n",
            "Epoch 98/100\n",
            "199/199 - 2s - loss: 0.8224 - acc: 0.6951 - val_loss: 0.9125 - val_acc: 0.6741\n",
            "Epoch 99/100\n",
            "199/199 - 2s - loss: 0.8265 - acc: 0.6955 - val_loss: 0.9078 - val_acc: 0.6724\n",
            "Epoch 100/100\n",
            "199/199 - 2s - loss: 0.8136 - acc: 0.6981 - val_loss: 0.9098 - val_acc: 0.6752\n"
          ],
          "name": "stdout"
        }
      ]
    },
    {
      "cell_type": "code",
      "metadata": {
        "colab": {
          "base_uri": "https://localhost:8080/",
          "height": 350
        },
        "id": "BamoZ4kSFh6G",
        "outputId": "6765e092-c908-4040-a9a6-8894c97f5822"
      },
      "source": [
        "fig,(ax1,ax2)=plt.subplots(1,2,figsize=(15,5))\r\n",
        "\r\n",
        "ax1.plot(history2.history['acc'])\r\n",
        "ax1.plot(history2.history['val_acc'])\r\n",
        "ax1.set_title('model accuracy')\r\n",
        "ax1.set_ylabel('accuracy')\r\n",
        "ax1.set_xlabel('epoch')\r\n",
        "ax1.legend(['train', 'val'], loc='upper left')\r\n",
        "\r\n",
        "ax2.plot(history2.history['loss'])\r\n",
        "ax2.plot(history2.history['val_loss'])\r\n",
        "ax2.set_title('model loss')\r\n",
        "ax2.set_ylabel('loss')\r\n",
        "ax2.set_xlabel('epoch')\r\n",
        "ax2.legend(['train', 'val'], loc='upper left')\r\n",
        "\r\n",
        "plt.show()"
      ],
      "execution_count": null,
      "outputs": [
        {
          "output_type": "display_data",
          "data": {
            "image/png": "[encoded data removed]",
            "text/plain": [
              "<Figure size 1080x360 with 2 Axes>"
            ]
          },
          "metadata": {
            "tags": [],
            "needs_background": "light"
          }
        }
      ]
    },
    {
      "cell_type": "code",
      "metadata": {
        "colab": {
          "base_uri": "https://localhost:8080/"
        },
        "id": "SE2X8NcEFh6H",
        "outputId": "7f1bde6e-86ee-42c7-c261-2065939fa2ce"
      },
      "source": [
        "yhat_test=nn2.predict(x_test)\r\n",
        "yhat_train=nn2.predict(x_train)\r\n",
        "\r\n",
        "print(f1_score(Y_train,to_labels(yhat_train),average='micro'))\r\n",
        "print(f1_score(Y_test,to_labels(yhat_test),average='micro'))"
      ],
      "execution_count": null,
      "outputs": [
        {
          "output_type": "stream",
          "text": [
            "0.7456859191553069\n",
            "0.6752284903876458\n"
          ],
          "name": "stdout"
        }
      ]
    },
    {
      "cell_type": "markdown",
      "metadata": {
        "id": "5OojTRc2JMt5"
      },
      "source": [
        "## NN3\r\n",
        "\r\n",
        "*  4 layers : 32 -> 64 -> 32 -> 15\r\n",
        "*  Number of Parameters : 5,135\r\n",
        "*  Epochs = 60"
      ]
    },
    {
      "cell_type": "code",
      "metadata": {
        "colab": {
          "base_uri": "https://localhost:8080/"
        },
        "id": "KoDrffv9JMuN",
        "outputId": "978926a3-86e6-404a-de64-1bb7be3b78fb"
      },
      "source": [
        "nn3=models.Sequential()\r\n",
        "\r\n",
        "nn3.add(layers.Dense(32,activation='relu',input_shape=(13,)))\r\n",
        "nn3.add(layers.Dense(64,activation='relu'))\r\n",
        "nn3.add(layers.Dense(32,activation='relu'))\r\n",
        "nn3.add(layers.Dense(15,activation='softmax'))\r\n",
        "\r\n",
        "nn3.summary()"
      ],
      "execution_count": null,
      "outputs": [
        {
          "output_type": "stream",
          "text": [
            "Model: \"sequential_20\"\n",
            "_________________________________________________________________\n",
            "Layer (type)                 Output Shape              Param #   \n",
            "=================================================================\n",
            "dense_75 (Dense)             (None, 32)                448       \n",
            "_________________________________________________________________\n",
            "dense_76 (Dense)             (None, 64)                2112      \n",
            "_________________________________________________________________\n",
            "dense_77 (Dense)             (None, 32)                2080      \n",
            "_________________________________________________________________\n",
            "dense_78 (Dense)             (None, 15)                495       \n",
            "=================================================================\n",
            "Total params: 5,135\n",
            "Trainable params: 5,135\n",
            "Non-trainable params: 0\n",
            "_________________________________________________________________\n"
          ],
          "name": "stdout"
        }
      ]
    },
    {
      "cell_type": "code",
      "metadata": {
        "colab": {
          "base_uri": "https://localhost:8080/"
        },
        "id": "ERJrlGfaJMuO",
        "outputId": "d93e8ef7-506d-4419-987a-4663e0e988c9"
      },
      "source": [
        "nn3.compile(optimizer='Adam',metrics=['acc'],loss='categorical_crossentropy')\r\n",
        "history3=nn3.fit(x_train,y_train,epochs=60,batch_size=128,validation_data=(x_test,y_test),verbose=2)"
      ],
      "execution_count": null,
      "outputs": [
        {
          "output_type": "stream",
          "text": [
            "Epoch 1/60\n",
            "199/199 - 1s - loss: 1.8073 - acc: 0.4142 - val_loss: 1.3595 - val_acc: 0.5345\n",
            "Epoch 2/60\n",
            "199/199 - 1s - loss: 1.2786 - acc: 0.5604 - val_loss: 1.2080 - val_acc: 0.5878\n",
            "Epoch 3/60\n",
            "199/199 - 0s - loss: 1.1584 - acc: 0.5967 - val_loss: 1.1268 - val_acc: 0.6072\n",
            "Epoch 4/60\n",
            "199/199 - 0s - loss: 1.0847 - acc: 0.6190 - val_loss: 1.0650 - val_acc: 0.6303\n",
            "Epoch 5/60\n",
            "199/199 - 0s - loss: 1.0457 - acc: 0.6288 - val_loss: 1.0323 - val_acc: 0.6333\n",
            "Epoch 6/60\n",
            "199/199 - 0s - loss: 1.0212 - acc: 0.6349 - val_loss: 1.0118 - val_acc: 0.6368\n",
            "Epoch 7/60\n",
            "199/199 - 0s - loss: 1.0010 - acc: 0.6411 - val_loss: 1.0029 - val_acc: 0.6451\n",
            "Epoch 8/60\n",
            "199/199 - 0s - loss: 0.9880 - acc: 0.6453 - val_loss: 0.9948 - val_acc: 0.6407\n",
            "Epoch 9/60\n",
            "199/199 - 0s - loss: 0.9758 - acc: 0.6499 - val_loss: 0.9756 - val_acc: 0.6513\n",
            "Epoch 10/60\n",
            "199/199 - 0s - loss: 0.9682 - acc: 0.6505 - val_loss: 0.9761 - val_acc: 0.6502\n",
            "Epoch 11/60\n",
            "199/199 - 0s - loss: 0.9602 - acc: 0.6548 - val_loss: 0.9662 - val_acc: 0.6486\n",
            "Epoch 12/60\n",
            "199/199 - 0s - loss: 0.9532 - acc: 0.6555 - val_loss: 0.9608 - val_acc: 0.6576\n",
            "Epoch 13/60\n",
            "199/199 - 0s - loss: 0.9480 - acc: 0.6555 - val_loss: 0.9535 - val_acc: 0.6606\n",
            "Epoch 14/60\n",
            "199/199 - 0s - loss: 0.9410 - acc: 0.6590 - val_loss: 0.9492 - val_acc: 0.6598\n",
            "Epoch 15/60\n",
            "199/199 - 0s - loss: 0.9364 - acc: 0.6613 - val_loss: 0.9437 - val_acc: 0.6626\n",
            "Epoch 16/60\n",
            "199/199 - 0s - loss: 0.9333 - acc: 0.6627 - val_loss: 0.9450 - val_acc: 0.6592\n",
            "Epoch 17/60\n",
            "199/199 - 0s - loss: 0.9276 - acc: 0.6644 - val_loss: 0.9375 - val_acc: 0.6610\n",
            "Epoch 18/60\n",
            "199/199 - 0s - loss: 0.9238 - acc: 0.6637 - val_loss: 0.9363 - val_acc: 0.6645\n",
            "Epoch 19/60\n",
            "199/199 - 0s - loss: 0.9209 - acc: 0.6648 - val_loss: 0.9419 - val_acc: 0.6607\n",
            "Epoch 20/60\n",
            "199/199 - 0s - loss: 0.9173 - acc: 0.6666 - val_loss: 0.9329 - val_acc: 0.6618\n",
            "Epoch 21/60\n",
            "199/199 - 0s - loss: 0.9123 - acc: 0.6691 - val_loss: 0.9420 - val_acc: 0.6571\n",
            "Epoch 22/60\n",
            "199/199 - 0s - loss: 0.9130 - acc: 0.6677 - val_loss: 0.9293 - val_acc: 0.6639\n",
            "Epoch 23/60\n",
            "199/199 - 0s - loss: 0.9078 - acc: 0.6698 - val_loss: 0.9251 - val_acc: 0.6645\n",
            "Epoch 24/60\n",
            "199/199 - 0s - loss: 0.9060 - acc: 0.6713 - val_loss: 0.9379 - val_acc: 0.6606\n",
            "Epoch 25/60\n",
            "199/199 - 0s - loss: 0.9030 - acc: 0.6708 - val_loss: 0.9272 - val_acc: 0.6645\n",
            "Epoch 26/60\n",
            "199/199 - 0s - loss: 0.8975 - acc: 0.6744 - val_loss: 0.9251 - val_acc: 0.6669\n",
            "Epoch 27/60\n",
            "199/199 - 0s - loss: 0.8976 - acc: 0.6735 - val_loss: 0.9254 - val_acc: 0.6696\n",
            "Epoch 28/60\n",
            "199/199 - 0s - loss: 0.8942 - acc: 0.6743 - val_loss: 0.9206 - val_acc: 0.6692\n",
            "Epoch 29/60\n",
            "199/199 - 0s - loss: 0.8967 - acc: 0.6710 - val_loss: 0.9228 - val_acc: 0.6662\n",
            "Epoch 30/60\n",
            "199/199 - 0s - loss: 0.8918 - acc: 0.6749 - val_loss: 0.9261 - val_acc: 0.6662\n",
            "Epoch 31/60\n",
            "199/199 - 0s - loss: 0.8902 - acc: 0.6737 - val_loss: 0.9239 - val_acc: 0.6700\n",
            "Epoch 32/60\n",
            "199/199 - 0s - loss: 0.8878 - acc: 0.6772 - val_loss: 0.9115 - val_acc: 0.6743\n",
            "Epoch 33/60\n",
            "199/199 - 0s - loss: 0.8858 - acc: 0.6752 - val_loss: 0.9143 - val_acc: 0.6713\n",
            "Epoch 34/60\n",
            "199/199 - 0s - loss: 0.8840 - acc: 0.6771 - val_loss: 0.9201 - val_acc: 0.6669\n",
            "Epoch 35/60\n",
            "199/199 - 0s - loss: 0.8829 - acc: 0.6775 - val_loss: 0.9246 - val_acc: 0.6659\n",
            "Epoch 36/60\n",
            "199/199 - 0s - loss: 0.8799 - acc: 0.6795 - val_loss: 0.9136 - val_acc: 0.6714\n",
            "Epoch 37/60\n",
            "199/199 - 0s - loss: 0.8789 - acc: 0.6791 - val_loss: 0.9120 - val_acc: 0.6714\n",
            "Epoch 38/60\n",
            "199/199 - 0s - loss: 0.8789 - acc: 0.6785 - val_loss: 0.9128 - val_acc: 0.6686\n",
            "Epoch 39/60\n",
            "199/199 - 0s - loss: 0.8747 - acc: 0.6800 - val_loss: 0.9147 - val_acc: 0.6743\n",
            "Epoch 40/60\n",
            "199/199 - 0s - loss: 0.8779 - acc: 0.6793 - val_loss: 0.9129 - val_acc: 0.6670\n",
            "Epoch 41/60\n",
            "199/199 - 0s - loss: 0.8719 - acc: 0.6819 - val_loss: 0.9186 - val_acc: 0.6677\n",
            "Epoch 42/60\n",
            "199/199 - 0s - loss: 0.8711 - acc: 0.6802 - val_loss: 0.9242 - val_acc: 0.6656\n",
            "Epoch 43/60\n",
            "199/199 - 0s - loss: 0.8727 - acc: 0.6809 - val_loss: 0.9217 - val_acc: 0.6688\n",
            "Epoch 44/60\n",
            "199/199 - 0s - loss: 0.8706 - acc: 0.6817 - val_loss: 0.9282 - val_acc: 0.6685\n",
            "Epoch 45/60\n",
            "199/199 - 0s - loss: 0.8688 - acc: 0.6812 - val_loss: 0.9124 - val_acc: 0.6746\n",
            "Epoch 46/60\n",
            "199/199 - 0s - loss: 0.8654 - acc: 0.6830 - val_loss: 0.9143 - val_acc: 0.6680\n",
            "Epoch 47/60\n",
            "199/199 - 0s - loss: 0.8641 - acc: 0.6838 - val_loss: 0.9138 - val_acc: 0.6678\n",
            "Epoch 48/60\n",
            "199/199 - 0s - loss: 0.8633 - acc: 0.6832 - val_loss: 0.9099 - val_acc: 0.6714\n",
            "Epoch 49/60\n",
            "199/199 - 0s - loss: 0.8627 - acc: 0.6827 - val_loss: 0.9171 - val_acc: 0.6691\n",
            "Epoch 50/60\n",
            "199/199 - 0s - loss: 0.8616 - acc: 0.6853 - val_loss: 0.9110 - val_acc: 0.6721\n",
            "Epoch 51/60\n",
            "199/199 - 0s - loss: 0.8618 - acc: 0.6851 - val_loss: 0.9206 - val_acc: 0.6688\n",
            "Epoch 52/60\n",
            "199/199 - 0s - loss: 0.8584 - acc: 0.6837 - val_loss: 0.9155 - val_acc: 0.6678\n",
            "Epoch 53/60\n",
            "199/199 - 0s - loss: 0.8592 - acc: 0.6844 - val_loss: 0.9276 - val_acc: 0.6644\n",
            "Epoch 54/60\n",
            "199/199 - 0s - loss: 0.8560 - acc: 0.6877 - val_loss: 0.9110 - val_acc: 0.6746\n",
            "Epoch 55/60\n",
            "199/199 - 0s - loss: 0.8534 - acc: 0.6878 - val_loss: 0.9115 - val_acc: 0.6714\n",
            "Epoch 56/60\n",
            "199/199 - 0s - loss: 0.8547 - acc: 0.6873 - val_loss: 0.9104 - val_acc: 0.6697\n",
            "Epoch 57/60\n",
            "199/199 - 0s - loss: 0.8530 - acc: 0.6891 - val_loss: 0.9133 - val_acc: 0.6702\n",
            "Epoch 58/60\n",
            "199/199 - 0s - loss: 0.8504 - acc: 0.6891 - val_loss: 0.9125 - val_acc: 0.6716\n",
            "Epoch 59/60\n",
            "199/199 - 0s - loss: 0.8512 - acc: 0.6867 - val_loss: 0.9132 - val_acc: 0.6697\n",
            "Epoch 60/60\n",
            "199/199 - 0s - loss: 0.8511 - acc: 0.6888 - val_loss: 0.9142 - val_acc: 0.6708\n"
          ],
          "name": "stdout"
        }
      ]
    },
    {
      "cell_type": "code",
      "metadata": {
        "colab": {
          "base_uri": "https://localhost:8080/",
          "height": 350
        },
        "id": "A7T3BvPwJMuQ",
        "outputId": "47fba84b-fb53-4e8f-be86-e51a773e9ce0"
      },
      "source": [
        "fig,(ax1,ax2)=plt.subplots(1,2,figsize=(15,5))\r\n",
        "\r\n",
        "ax1.plot(history3.history['acc'])\r\n",
        "ax1.plot(history3.history['val_acc'])\r\n",
        "ax1.set_title('model accuracy')\r\n",
        "ax1.set_ylabel('accuracy')\r\n",
        "ax1.set_xlabel('epoch')\r\n",
        "ax1.legend(['train', 'val'], loc='upper left')\r\n",
        "\r\n",
        "ax2.plot(history3.history['loss'])\r\n",
        "ax2.plot(history3.history['val_loss'])\r\n",
        "ax2.set_title('model loss')\r\n",
        "ax2.set_ylabel('loss')\r\n",
        "ax2.set_xlabel('epoch')\r\n",
        "ax2.legend(['train', 'val'], loc='upper left')\r\n",
        "\r\n",
        "plt.show()"
      ],
      "execution_count": null,
      "outputs": [
        {
          "output_type": "display_data",
          "data": {
            "image/png": "[encoded data removed]",
            "text/plain": [
              "<Figure size 1080x360 with 2 Axes>"
            ]
          },
          "metadata": {
            "tags": [],
            "needs_background": "light"
          }
        }
      ]
    },
    {
      "cell_type": "code",
      "metadata": {
        "colab": {
          "base_uri": "https://localhost:8080/"
        },
        "id": "JpnEN7M3JMuR",
        "outputId": "ccbd36ac-5761-45b0-c8d2-dc7d938a5227"
      },
      "source": [
        "yhat_test=nn3.predict(x_test)\r\n",
        "yhat_train=nn3.predict(x_train)\r\n",
        "\r\n",
        "print(f1_score(Y_train,to_labels(yhat_train),average='micro'))\r\n",
        "print(f1_score(Y_test,to_labels(yhat_test),average='micro'))"
      ],
      "execution_count": null,
      "outputs": [
        {
          "output_type": "stream",
          "text": [
            "0.692695611062958\n",
            "0.6708162622124173\n"
          ],
          "name": "stdout"
        }
      ]
    },
    {
      "cell_type": "markdown",
      "metadata": {
        "id": "8wBOXolTQWd4"
      },
      "source": [
        "## NN4\r\n",
        "\r\n",
        "Same than NN2, with a different loss function : categorical_crossentropy -> weighted categroical_crossentropy\r\n",
        "\r\n",
        "Because the dataset is not perfectly balanced, it is relevant to try to promote less frequent classes by increasing its penalties through the calculation of the loss.\r\n",
        "\r\n",
        "The wieghts are defined as : $w_i=\\frac{N}{N_i * c}$ with $N$ the total number of samples, $N_i$ the number of samples belonging to the class $i$ and $c$ the number of classes."
      ]
    },
    {
      "cell_type": "code",
      "metadata": {
        "colab": {
          "base_uri": "https://localhost:8080/"
        },
        "id": "2yi5FP29QWeB",
        "outputId": "2d65062c-9d55-476b-e378-fe17f2a5f12f"
      },
      "source": [
        "nn4=models.Sequential()\r\n",
        "\r\n",
        "nn4.add(layers.Dense(64,activation='relu',input_shape=(13,)))\r\n",
        "nn4.add(layers.BatchNormalization())\r\n",
        "\r\n",
        "nn4.add(layers.Dense(128,activation='relu'))\r\n",
        "nn4.add(layers.BatchNormalization())\r\n",
        "nn4.add(layers.Dropout(0.2))\r\n",
        "\r\n",
        "nn4.add(layers.Dense(256,activation='relu'))\r\n",
        "nn4.add(layers.BatchNormalization())\r\n",
        "nn4.add(layers.Dropout(0.2))\r\n",
        "\r\n",
        "nn4.add(layers.Dense(128,activation='relu',input_shape=(13,)))\r\n",
        "nn4.add(layers.BatchNormalization())\r\n",
        "nn4.add(layers.Dropout(0.2))\r\n",
        "\r\n",
        "nn4.add(layers.Dense(64,activation='relu'))\r\n",
        "nn4.add(layers.BatchNormalization())\r\n",
        "nn4.add(layers.Dropout(0.2))\r\n",
        "\r\n",
        "nn4.add(layers.Dense(15,activation='softmax'))\r\n",
        "\r\n",
        "nn4.summary()"
      ],
      "execution_count": null,
      "outputs": [
        {
          "output_type": "stream",
          "text": [
            "Model: \"sequential_29\"\n",
            "_________________________________________________________________\n",
            "Layer (type)                 Output Shape              Param #   \n",
            "=================================================================\n",
            "dense_115 (Dense)            (None, 64)                896       \n",
            "_________________________________________________________________\n",
            "batch_normalization_64 (Batc (None, 64)                256       \n",
            "_________________________________________________________________\n",
            "dense_116 (Dense)            (None, 128)               8320      \n",
            "_________________________________________________________________\n",
            "batch_normalization_65 (Batc (None, 128)               512       \n",
            "_________________________________________________________________\n",
            "dropout_28 (Dropout)         (None, 128)               0         \n",
            "_________________________________________________________________\n",
            "dense_117 (Dense)            (None, 256)               33024     \n",
            "_________________________________________________________________\n",
            "batch_normalization_66 (Batc (None, 256)               1024      \n",
            "_________________________________________________________________\n",
            "dropout_29 (Dropout)         (None, 256)               0         \n",
            "_________________________________________________________________\n",
            "dense_118 (Dense)            (None, 128)               32896     \n",
            "_________________________________________________________________\n",
            "batch_normalization_67 (Batc (None, 128)               512       \n",
            "_________________________________________________________________\n",
            "dropout_30 (Dropout)         (None, 128)               0         \n",
            "_________________________________________________________________\n",
            "dense_119 (Dense)            (None, 64)                8256      \n",
            "_________________________________________________________________\n",
            "batch_normalization_68 (Batc (None, 64)                256       \n",
            "_________________________________________________________________\n",
            "dropout_31 (Dropout)         (None, 64)                0         \n",
            "_________________________________________________________________\n",
            "dense_120 (Dense)            (None, 15)                975       \n",
            "=================================================================\n",
            "Total params: 86,927\n",
            "Trainable params: 85,647\n",
            "Non-trainable params: 1,280\n",
            "_________________________________________________________________\n"
          ],
          "name": "stdout"
        }
      ]
    },
    {
      "cell_type": "code",
      "metadata": {
        "id": "4WsvJF4HQlka"
      },
      "source": [
        "from collections import Counter\r\n",
        "count=Counter()\r\n",
        "for genre in df['genre']:\r\n",
        "    count.update([genre])\r\n",
        "weights=[df.shape[0]/(count[genres[i]]*len(genres)) for i in range(len(genres))]"
      ],
      "execution_count": null,
      "outputs": []
    },
    {
      "cell_type": "code",
      "metadata": {
        "colab": {
          "base_uri": "https://localhost:8080/"
        },
        "id": "a8UAIyaHrHoe",
        "outputId": "119be61c-602c-475c-d4be-6c76fd02060b"
      },
      "source": [
        "weights"
      ],
      "execution_count": null,
      "outputs": [
        {
          "output_type": "execute_result",
          "data": {
            "text/plain": [
              "[0.6261693309650681,\n",
              " 0.4831429876656007,\n",
              " 1.4350067842605156,\n",
              " 1.6760697305863708,\n",
              " 1.4895774647887323,\n",
              " 1.3178816199376948,\n",
              " 6.295238095238095,\n",
              " 0.9380044345898004,\n",
              " 0.9384205856255545,\n",
              " 0.9502246181491465,\n",
              " 0.9297582417582417,\n",
              " 0.9553748870822042,\n",
              " 0.935929203539823,\n",
              " 0.9558065973791233,\n",
              " 0.9711662075298438]"
            ]
          },
          "metadata": {
            "tags": []
          },
          "execution_count": 148
        }
      ]
    },
    {
      "cell_type": "code",
      "metadata": {
        "colab": {
          "base_uri": "https://localhost:8080/"
        },
        "id": "NoEO_tNxQWeB",
        "outputId": "b6941563-0bae-482e-9916-b92b2be86893"
      },
      "source": [
        "import tensorflow.keras.backend as K\r\n",
        "\r\n",
        "def wcce(weights):\r\n",
        "    weights = K.variable(weights)\r\n",
        "    def loss(y_true, y_pred):\r\n",
        "        y_pred /= K.sum(y_pred, axis=-1, keepdims=True)\r\n",
        "        y_pred = K.clip(y_pred, K.epsilon(), 1 - K.epsilon())\r\n",
        "        y_true=K.cast(y_true,dtype='float32')\r\n",
        "        loss = y_true * K.log(y_pred) * weights\r\n",
        "        loss = -K.sum(loss, -1)\r\n",
        "        return loss\r\n",
        "    return loss\r\n",
        "\r\n",
        "nn4.compile(optimizer='Adam',metrics=['acc'],loss=wcce(weights))\r\n",
        "history4=nn4.fit(x_train,y_train,epochs=60,batch_size=128,validation_data=(x_test,y_test),verbose=2)"
      ],
      "execution_count": null,
      "outputs": [
        {
          "output_type": "stream",
          "text": [
            "Epoch 1/60\n",
            "199/199 - 3s - loss: 1.8490 - acc: 0.3939 - val_loss: 1.3802 - val_acc: 0.5421\n",
            "Epoch 2/60\n",
            "199/199 - 2s - loss: 1.3946 - acc: 0.5158 - val_loss: 1.1371 - val_acc: 0.5903\n",
            "Epoch 3/60\n",
            "199/199 - 2s - loss: 1.2820 - acc: 0.5521 - val_loss: 1.0796 - val_acc: 0.6105\n",
            "Epoch 4/60\n",
            "199/199 - 2s - loss: 1.2095 - acc: 0.5737 - val_loss: 1.0532 - val_acc: 0.6161\n",
            "Epoch 5/60\n",
            "199/199 - 2s - loss: 1.1740 - acc: 0.5738 - val_loss: 1.0283 - val_acc: 0.6152\n",
            "Epoch 6/60\n",
            "199/199 - 2s - loss: 1.1496 - acc: 0.5839 - val_loss: 1.0273 - val_acc: 0.6158\n",
            "Epoch 7/60\n",
            "199/199 - 2s - loss: 1.1350 - acc: 0.5877 - val_loss: 1.0083 - val_acc: 0.6259\n",
            "Epoch 8/60\n",
            "199/199 - 2s - loss: 1.1184 - acc: 0.5950 - val_loss: 1.0151 - val_acc: 0.6090\n",
            "Epoch 9/60\n",
            "199/199 - 2s - loss: 1.1006 - acc: 0.5956 - val_loss: 1.0163 - val_acc: 0.6155\n",
            "Epoch 10/60\n",
            "199/199 - 2s - loss: 1.0846 - acc: 0.5989 - val_loss: 0.9974 - val_acc: 0.6212\n",
            "Epoch 11/60\n",
            "199/199 - 2s - loss: 1.0787 - acc: 0.6005 - val_loss: 0.9972 - val_acc: 0.6291\n",
            "Epoch 12/60\n",
            "199/199 - 2s - loss: 1.0719 - acc: 0.6030 - val_loss: 0.9928 - val_acc: 0.6280\n",
            "Epoch 13/60\n",
            "199/199 - 2s - loss: 1.0602 - acc: 0.6070 - val_loss: 0.9878 - val_acc: 0.6336\n",
            "Epoch 14/60\n",
            "199/199 - 2s - loss: 1.0496 - acc: 0.6056 - val_loss: 0.9845 - val_acc: 0.6377\n",
            "Epoch 15/60\n",
            "199/199 - 2s - loss: 1.0398 - acc: 0.6100 - val_loss: 0.9992 - val_acc: 0.6251\n",
            "Epoch 16/60\n",
            "199/199 - 2s - loss: 1.0450 - acc: 0.6099 - val_loss: 0.9787 - val_acc: 0.6283\n",
            "Epoch 17/60\n",
            "199/199 - 2s - loss: 1.0347 - acc: 0.6093 - val_loss: 0.9881 - val_acc: 0.6284\n",
            "Epoch 18/60\n",
            "199/199 - 2s - loss: 1.0274 - acc: 0.6179 - val_loss: 0.9864 - val_acc: 0.6226\n",
            "Epoch 19/60\n",
            "199/199 - 2s - loss: 1.0215 - acc: 0.6112 - val_loss: 0.9814 - val_acc: 0.6363\n",
            "Epoch 20/60\n",
            "199/199 - 2s - loss: 1.0107 - acc: 0.6179 - val_loss: 0.9844 - val_acc: 0.6393\n",
            "Epoch 21/60\n",
            "199/199 - 2s - loss: 1.0088 - acc: 0.6176 - val_loss: 0.9766 - val_acc: 0.6297\n",
            "Epoch 22/60\n",
            "199/199 - 2s - loss: 1.0011 - acc: 0.6226 - val_loss: 0.9734 - val_acc: 0.6382\n",
            "Epoch 23/60\n",
            "199/199 - 2s - loss: 0.9969 - acc: 0.6188 - val_loss: 0.9833 - val_acc: 0.6415\n",
            "Epoch 24/60\n",
            "199/199 - 2s - loss: 0.9940 - acc: 0.6229 - val_loss: 0.9800 - val_acc: 0.6373\n",
            "Epoch 25/60\n",
            "199/199 - 2s - loss: 0.9942 - acc: 0.6203 - val_loss: 0.9695 - val_acc: 0.6384\n",
            "Epoch 26/60\n",
            "199/199 - 2s - loss: 0.9893 - acc: 0.6235 - val_loss: 0.9749 - val_acc: 0.6369\n",
            "Epoch 27/60\n",
            "199/199 - 2s - loss: 0.9825 - acc: 0.6239 - val_loss: 0.9720 - val_acc: 0.6319\n",
            "Epoch 28/60\n",
            "199/199 - 2s - loss: 0.9801 - acc: 0.6268 - val_loss: 0.9779 - val_acc: 0.6350\n",
            "Epoch 29/60\n",
            "199/199 - 2s - loss: 0.9709 - acc: 0.6230 - val_loss: 0.9878 - val_acc: 0.6349\n",
            "Epoch 30/60\n",
            "199/199 - 2s - loss: 0.9737 - acc: 0.6268 - val_loss: 0.9813 - val_acc: 0.6300\n",
            "Epoch 31/60\n",
            "199/199 - 2s - loss: 0.9648 - acc: 0.6280 - val_loss: 0.9841 - val_acc: 0.6328\n",
            "Epoch 32/60\n",
            "199/199 - 2s - loss: 0.9669 - acc: 0.6294 - val_loss: 0.9766 - val_acc: 0.6437\n",
            "Epoch 33/60\n",
            "199/199 - 2s - loss: 0.9596 - acc: 0.6328 - val_loss: 0.9838 - val_acc: 0.6398\n",
            "Epoch 34/60\n",
            "199/199 - 2s - loss: 0.9546 - acc: 0.6326 - val_loss: 0.9877 - val_acc: 0.6429\n",
            "Epoch 35/60\n",
            "199/199 - 2s - loss: 0.9479 - acc: 0.6340 - val_loss: 0.9895 - val_acc: 0.6245\n",
            "Epoch 36/60\n",
            "199/199 - 2s - loss: 0.9517 - acc: 0.6297 - val_loss: 0.9780 - val_acc: 0.6395\n",
            "Epoch 37/60\n",
            "199/199 - 2s - loss: 0.9460 - acc: 0.6314 - val_loss: 0.9873 - val_acc: 0.6395\n",
            "Epoch 38/60\n",
            "199/199 - 2s - loss: 0.9408 - acc: 0.6330 - val_loss: 0.9719 - val_acc: 0.6339\n",
            "Epoch 39/60\n",
            "199/199 - 2s - loss: 0.9341 - acc: 0.6343 - val_loss: 0.9825 - val_acc: 0.6322\n",
            "Epoch 40/60\n",
            "199/199 - 2s - loss: 0.9369 - acc: 0.6364 - val_loss: 0.9835 - val_acc: 0.6350\n",
            "Epoch 41/60\n",
            "199/199 - 2s - loss: 0.9252 - acc: 0.6358 - val_loss: 0.9803 - val_acc: 0.6269\n",
            "Epoch 42/60\n",
            "199/199 - 2s - loss: 0.9291 - acc: 0.6379 - val_loss: 0.9963 - val_acc: 0.6314\n",
            "Epoch 43/60\n",
            "199/199 - 2s - loss: 0.9239 - acc: 0.6373 - val_loss: 0.9804 - val_acc: 0.6357\n",
            "Epoch 44/60\n",
            "199/199 - 2s - loss: 0.9235 - acc: 0.6372 - val_loss: 0.9984 - val_acc: 0.6374\n",
            "Epoch 45/60\n",
            "199/199 - 2s - loss: 0.9244 - acc: 0.6380 - val_loss: 0.9909 - val_acc: 0.6324\n",
            "Epoch 46/60\n",
            "199/199 - 2s - loss: 0.9223 - acc: 0.6382 - val_loss: 0.9930 - val_acc: 0.6305\n",
            "Epoch 47/60\n",
            "199/199 - 2s - loss: 0.9083 - acc: 0.6418 - val_loss: 0.9856 - val_acc: 0.6292\n",
            "Epoch 48/60\n",
            "199/199 - 2s - loss: 0.9064 - acc: 0.6449 - val_loss: 0.9879 - val_acc: 0.6361\n",
            "Epoch 49/60\n",
            "199/199 - 2s - loss: 0.9012 - acc: 0.6405 - val_loss: 0.9926 - val_acc: 0.6393\n",
            "Epoch 50/60\n",
            "199/199 - 2s - loss: 0.9119 - acc: 0.6409 - val_loss: 0.9935 - val_acc: 0.6305\n",
            "Epoch 51/60\n",
            "199/199 - 2s - loss: 0.9034 - acc: 0.6440 - val_loss: 1.0140 - val_acc: 0.6344\n",
            "Epoch 52/60\n",
            "199/199 - 2s - loss: 0.8952 - acc: 0.6455 - val_loss: 0.9876 - val_acc: 0.6352\n",
            "Epoch 53/60\n",
            "199/199 - 2s - loss: 0.8926 - acc: 0.6446 - val_loss: 0.9873 - val_acc: 0.6373\n",
            "Epoch 54/60\n",
            "199/199 - 2s - loss: 0.9006 - acc: 0.6423 - val_loss: 1.0057 - val_acc: 0.6324\n",
            "Epoch 55/60\n",
            "199/199 - 2s - loss: 0.8946 - acc: 0.6449 - val_loss: 0.9950 - val_acc: 0.6335\n",
            "Epoch 56/60\n",
            "199/199 - 2s - loss: 0.8920 - acc: 0.6458 - val_loss: 1.0045 - val_acc: 0.6262\n",
            "Epoch 57/60\n",
            "199/199 - 2s - loss: 0.8861 - acc: 0.6452 - val_loss: 0.9982 - val_acc: 0.6354\n",
            "Epoch 58/60\n",
            "199/199 - 2s - loss: 0.8869 - acc: 0.6438 - val_loss: 0.9978 - val_acc: 0.6415\n",
            "Epoch 59/60\n",
            "199/199 - 2s - loss: 0.8850 - acc: 0.6476 - val_loss: 1.0000 - val_acc: 0.6373\n",
            "Epoch 60/60\n",
            "199/199 - 2s - loss: 0.8752 - acc: 0.6503 - val_loss: 1.0095 - val_acc: 0.6447\n"
          ],
          "name": "stdout"
        }
      ]
    },
    {
      "cell_type": "code",
      "metadata": {
        "colab": {
          "base_uri": "https://localhost:8080/",
          "height": 350
        },
        "id": "UpjaaDyTQWeC",
        "outputId": "5c284065-2123-46c3-d3f9-a6e2b624b356"
      },
      "source": [
        "fig,(ax1,ax2)=plt.subplots(1,2,figsize=(15,5))\r\n",
        "\r\n",
        "ax1.plot(history4.history['acc'])\r\n",
        "ax1.plot(history4.history['val_acc'])\r\n",
        "ax1.set_title('model accuracy')\r\n",
        "ax1.set_ylabel('accuracy')\r\n",
        "ax1.set_xlabel('epoch')\r\n",
        "ax1.legend(['train', 'val'], loc='upper left')\r\n",
        "\r\n",
        "ax2.plot(history4.history['loss'])\r\n",
        "ax2.plot(history4.history['val_loss'])\r\n",
        "ax2.set_title('model loss')\r\n",
        "ax2.set_ylabel('loss')\r\n",
        "ax2.set_xlabel('epoch')\r\n",
        "ax2.legend(['train', 'val'], loc='upper left')\r\n",
        "\r\n",
        "plt.show()"
      ],
      "execution_count": null,
      "outputs": [
        {
          "output_type": "display_data",
          "data": {
            "image/png": "[encoded data removed]",
            "text/plain": [
              "<Figure size 1080x360 with 2 Axes>"
            ]
          },
          "metadata": {
            "tags": [],
            "needs_background": "light"
          }
        }
      ]
    },
    {
      "cell_type": "code",
      "metadata": {
        "colab": {
          "base_uri": "https://localhost:8080/"
        },
        "id": "GVWBIfFzQWeC",
        "outputId": "370e128a-9bb3-45ec-cc80-34c40aa32e4f"
      },
      "source": [
        "yhat_test=nn4.predict(x_test)\r\n",
        "yhat_train=nn4.predict(x_train)\r\n",
        "\r\n",
        "print(f1_score(Y_train,to_labels(yhat_train),average='micro'))\r\n",
        "print(f1_score(Y_test,to_labels(yhat_test),average='micro'))"
      ],
      "execution_count": null,
      "outputs": [
        {
          "output_type": "stream",
          "text": [
            "0.6923804270743046\n",
            "0.6446580523164198\n"
          ],
          "name": "stdout"
        }
      ]
    }
  ]
}