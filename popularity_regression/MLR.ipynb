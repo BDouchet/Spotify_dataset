{
  "nbformat": 4,
  "nbformat_minor": 0,
  "metadata": {
    "colab": {
      "name": "MLR.ipynb",
      "provenance": [],
      "collapsed_sections": [],
      "include_colab_link": true
    },
    "kernelspec": {
      "name": "python3",
      "display_name": "Python 3"
    }
  },
  "cells": [
    {
      "cell_type": "markdown",
      "metadata": {
        "id": "view-in-github",
        "colab_type": "text"
      },
      "source": [
        "<a href=\"https://colab.research.google.com/github/BDouchet/Spotify_dataset/blob/main/popularity_regression/MLR.ipynb\" target=\"_parent\"><img src=\"https://colab.research.google.com/assets/colab-badge.svg\" alt=\"Open In Colab\"/></a>"
      ]
    },
    {
      "cell_type": "markdown",
      "metadata": {
        "id": "GB5z3ufaPwLE"
      },
      "source": [
        "# Imports"
      ]
    },
    {
      "cell_type": "code",
      "metadata": {
        "colab": {
          "base_uri": "https://localhost:8080/"
        },
        "id": "_wErlx6wOy1u",
        "outputId": "d06f27d7-c744-46a0-d79c-c4d4c3db1438"
      },
      "source": [
        "from pydrive.auth import GoogleAuth\r\n",
        "from pydrive.drive import GoogleDrive\r\n",
        "from google.colab import auth\r\n",
        "from oauth2client.client import GoogleCredentials\r\n",
        "\r\n",
        "import pandas as pd\r\n",
        "import numpy as np\r\n",
        "import matplotlib.pyplot as plt\r\n",
        "from zipfile import ZipFile\r\n",
        "\r\n",
        "auth.authenticate_user()\r\n",
        "gauth = GoogleAuth()\r\n",
        "gauth.credentials = GoogleCredentials.get_application_default()\r\n",
        "drive = GoogleDrive(gauth)\r\n",
        "\r\n",
        "id='16phKfXvRrwGbOJrNKpgbYnBnZG6icXFX'\r\n",
        "\r\n",
        "downloaded = drive.CreateFile({'id':id})\r\n",
        "downloaded.GetContentFile('dataset.zip')\r\n",
        "\r\n",
        "with ZipFile('dataset.zip', 'r') as zip:\r\n",
        "   zip.extractall()\r\n",
        "   print('Done')\r\n",
        "\r\n",
        "df=pd.read_csv('dataset/Spotify_exo2.csv')\r\n",
        "\r\n",
        "X=df.drop(['genres','popularity'],axis=1).to_numpy()\r\n",
        "Y=df['popularity'].to_numpy()\r\n",
        "\r\n",
        "from sklearn.model_selection import train_test_split\r\n",
        "\r\n",
        "X_train,X_test,Y_train,Y_test=train_test_split(X,Y,random_state=10,test_size=0.2)\r\n",
        "\r\n",
        "print(X_train.shape,Y_train.shape,X_test.shape,Y_test.shape)"
      ],
      "execution_count": null,
      "outputs": [
        {
          "output_type": "stream",
          "text": [
            "Done\n",
            "(2378, 12) (2378,) (595, 12) (595,)\n"
          ],
          "name": "stdout"
        }
      ]
    },
    {
      "cell_type": "markdown",
      "metadata": {
        "id": "baMQFVRVerWX"
      },
      "source": [
        "# Model Linear Regression "
      ]
    },
    {
      "cell_type": "markdown",
      "metadata": {
        "id": "ejuSgQ4wgj-8"
      },
      "source": [
        "**Normal Linear Regression**"
      ]
    },
    {
      "cell_type": "code",
      "metadata": {
        "colab": {
          "base_uri": "https://localhost:8080/"
        },
        "id": "C_aX6Hxfewgl",
        "outputId": "b899d433-f43a-4b2d-91ae-25a5c865662c"
      },
      "source": [
        "from sklearn.linear_model import LinearRegression\r\n",
        "from sklearn.preprocessing import StandardScaler\r\n",
        "from sklearn.metrics import mean_absolute_error,r2_score\r\n",
        "\r\n",
        "\r\n",
        "lr = LinearRegression()\r\n",
        "\r\n",
        "lr.fit(X_train,Y_train)\r\n",
        "yhat_train = lr.predict(X_train)\r\n",
        "yhat_test = lr.predict(X_test)\r\n",
        "\r\n",
        "print(\"----- MAE -----\")\r\n",
        "print(mean_absolute_error(Y_train,yhat_train))\r\n",
        "print(mean_absolute_error(Y_test,yhat_test))\r\n",
        "print()\r\n",
        "print(\"----- R2 -----\")\r\n",
        "print(r2_score(Y_train,yhat_train))\r\n",
        "print(r2_score(Y_test,yhat_test))"
      ],
      "execution_count": null,
      "outputs": [
        {
          "output_type": "stream",
          "text": [
            "----- MAE -----\n",
            "10.319063827064575\n",
            "10.21666249435813\n",
            "\n",
            "----- R2 -----\n",
            "0.3136507706476205\n",
            "0.25637231468227695\n"
          ],
          "name": "stdout"
        }
      ]
    },
    {
      "cell_type": "markdown",
      "metadata": {
        "id": "gCCjsoKMgq79"
      },
      "source": [
        "**Lasso Linear Regression**"
      ]
    },
    {
      "cell_type": "code",
      "metadata": {
        "colab": {
          "base_uri": "https://localhost:8080/"
        },
        "id": "D3VjVQkigzu4",
        "outputId": "34a95725-a5a4-4103-90ee-586025e07518"
      },
      "source": [
        "from sklearn import linear_model\r\n",
        "\r\n",
        "lasso = linear_model.Lasso(alpha=0.1)\r\n",
        "\r\n",
        "lasso.fit(X_train,Y_train)\r\n",
        "\r\n",
        "yhat_train = lasso.predict(X_train)\r\n",
        "yhat_test = lasso.predict(X_test)\r\n",
        "\r\n",
        "print(\"----- MAE -----\")\r\n",
        "print(mean_absolute_error(Y_train,yhat_train))\r\n",
        "print(mean_absolute_error(Y_test,yhat_test))\r\n",
        "print()\r\n",
        "print(\"----- R2 -----\")\r\n",
        "print(r2_score(Y_train,yhat_train))\r\n",
        "print(r2_score(Y_test,yhat_test))"
      ],
      "execution_count": null,
      "outputs": [
        {
          "output_type": "stream",
          "text": [
            "----- MAE -----\n",
            "10.655070710253357\n",
            "10.457492357243732\n",
            "\n",
            "----- R2 -----\n",
            "0.2934731923186732\n",
            "0.24887256928386725\n"
          ],
          "name": "stdout"
        }
      ]
    },
    {
      "cell_type": "markdown",
      "metadata": {
        "id": "0acpSrMlhqDx"
      },
      "source": [
        "**Ridge Linear Regression**"
      ]
    },
    {
      "cell_type": "code",
      "metadata": {
        "colab": {
          "base_uri": "https://localhost:8080/"
        },
        "id": "6MCach1ghsQ2",
        "outputId": "31662946-944d-409c-e4f1-1d2a65be1403"
      },
      "source": [
        "ridge = linear_model.Ridge()\r\n",
        "\r\n",
        "ridge.fit(X_train,Y_train)\r\n",
        "\r\n",
        "yhat_train = ridge.predict(X_train)\r\n",
        "yhat_test = ridge.predict(X_test)\r\n",
        "\r\n",
        "print(\"----- MAE -----\")\r\n",
        "print(mean_absolute_error(Y_train,yhat_train))\r\n",
        "print(mean_absolute_error(Y_test,yhat_test))\r\n",
        "print()\r\n",
        "print(\"----- R2 -----\")\r\n",
        "print(r2_score(Y_train,yhat_train))\r\n",
        "print(r2_score(Y_test,yhat_test))"
      ],
      "execution_count": null,
      "outputs": [
        {
          "output_type": "stream",
          "text": [
            "----- MAE -----\n",
            "10.338869437250738\n",
            "10.228946122633712\n",
            "\n",
            "----- R2 -----\n",
            "0.31347659625901414\n",
            "0.2575686053906071\n"
          ],
          "name": "stdout"
        }
      ]
    }
  ]
}