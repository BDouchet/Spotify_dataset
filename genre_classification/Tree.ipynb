{
  "nbformat": 4,
  "nbformat_minor": 0,
  "metadata": {
    "colab": {
      "name": "Tree.ipynb",
      "provenance": [],
      "collapsed_sections": [],
      "include_colab_link": true
    },
    "kernelspec": {
      "name": "python3",
      "display_name": "Python 3"
    }
  },
  "cells": [
    {
      "cell_type": "markdown",
      "metadata": {
        "id": "view-in-github",
        "colab_type": "text"
      },
      "source": [
        "<a href=\"https://colab.research.google.com/github/BDouchet/Spotify_dataset/blob/main/genre_classification/Tree.ipynb\" target=\"_parent\"><img src=\"https://colab.research.google.com/assets/colab-badge.svg\" alt=\"Open In Colab\"/></a>"
      ]
    },
    {
      "cell_type": "markdown",
      "metadata": {
        "id": "GB5z3ufaPwLE"
      },
      "source": [
        "# Imports"
      ]
    },
    {
      "cell_type": "code",
      "metadata": {
        "colab": {
          "base_uri": "https://localhost:8080/"
        },
        "id": "_wErlx6wOy1u",
        "outputId": "e42c6124-0a3d-4681-85eb-b2a42e34f530"
      },
      "source": [
        "from pydrive.auth import GoogleAuth\r\n",
        "from pydrive.drive import GoogleDrive\r\n",
        "from google.colab import auth\r\n",
        "from oauth2client.client import GoogleCredentials\r\n",
        "\r\n",
        "import pandas as pd\r\n",
        "import numpy as np\r\n",
        "import matplotlib.pyplot as plt\r\n",
        "from zipfile import ZipFile\r\n",
        "\r\n",
        "auth.authenticate_user()\r\n",
        "gauth = GoogleAuth()\r\n",
        "gauth.credentials = GoogleCredentials.get_application_default()\r\n",
        "drive = GoogleDrive(gauth)\r\n",
        "\r\n",
        "id='16phKfXvRrwGbOJrNKpgbYnBnZG6icXFX'\r\n",
        "\r\n",
        "downloaded = drive.CreateFile({'id':id})\r\n",
        "downloaded.GetContentFile('dataset.zip')\r\n",
        "\r\n",
        "with ZipFile('dataset.zip', 'r') as zip:\r\n",
        "   zip.extractall()\r\n",
        "   print('Done')\r\n",
        "\r\n",
        "\r\n",
        "from sklearn.preprocessing import LabelEncoder\r\n",
        "from sklearn.model_selection import train_test_split\r\n",
        "\r\n",
        "\r\n",
        "df=pd.read_csv('dataset/Spotify_train_dataset.csv')\r\n",
        "\r\n",
        "data=df.drop(labels=['type','id','uri','track_href','analysis_url','song_name'],axis=1)\r\n",
        "\r\n",
        "genres=['Dark Trap', 'Underground Rap', 'Trap Metal', 'Emo', 'Rap', 'RnB', 'Pop', 'Hiphop', 'techhouse', 'techno',\r\n",
        "'trance', 'psytrance', 'trap', 'dnb', 'hardstyle']\r\n",
        "\r\n",
        "le = LabelEncoder()\r\n",
        "le.classes_=genres\r\n",
        "data['genre']=le.transform(data['genre'])\r\n",
        "\r\n",
        "X=data[data.columns[:-1]].to_numpy()\r\n",
        "Y=data['genre'].to_numpy()\r\n",
        "\r\n",
        "X_train,X_test,Y_train,Y_test=train_test_split(X,Y,random_state=10,test_size=0.2)\r\n",
        "print(X_train.shape,Y_train.shape,X_test.shape,Y_test.shape)\r\n"
      ],
      "execution_count": null,
      "outputs": [
        {
          "output_type": "stream",
          "text": [
            "Done\n",
            "(25382, 13) (25382,) (6346, 13) (6346,)\n"
          ],
          "name": "stdout"
        }
      ]
    },
    {
      "cell_type": "code",
      "metadata": {
        "colab": {
          "base_uri": "https://localhost:8080/",
          "height": 162
        },
        "id": "qfCMABwi5N8U",
        "outputId": "ab6bf33f-e494-4724-8e6f-bbf36b5463f2"
      },
      "source": [
        "data.describe"
      ],
      "execution_count": null,
      "outputs": [
        {
          "output_type": "error",
          "ename": "NameError",
          "evalue": "ignored",
          "traceback": [
            "\u001b[0;31m---------------------------------------------------------------------------\u001b[0m",
            "\u001b[0;31mNameError\u001b[0m                                 Traceback (most recent call last)",
            "\u001b[0;32m<ipython-input-2-ad7f9ecfd38f>\u001b[0m in \u001b[0;36m<module>\u001b[0;34m()\u001b[0m\n\u001b[0;32m----> 1\u001b[0;31m \u001b[0mdf\u001b[0m\u001b[0;34m.\u001b[0m\u001b[0mdescribe\u001b[0m\u001b[0;34m\u001b[0m\u001b[0;34m\u001b[0m\u001b[0m\n\u001b[0m",
            "\u001b[0;31mNameError\u001b[0m: name 'df' is not defined"
          ]
        }
      ]
    },
    {
      "cell_type": "code",
      "metadata": {
        "id": "wI1A25872cwP"
      },
      "source": [
        "from sklearn.tree import DecisionTreeClassifier\r\n",
        "from sklearn import tree\r\n",
        "from sklearn.metrics import accuracy_score\r\n",
        "from sklearn.metrics import f1_score\r\n",
        "import graphviz\r\n"
      ],
      "execution_count": null,
      "outputs": []
    },
    {
      "cell_type": "code",
      "metadata": {
        "colab": {
          "base_uri": "https://localhost:8080/"
        },
        "id": "pK5mCXRL2x4K",
        "outputId": "99a9a271-b209-42a7-e6c6-b3820c10b91b"
      },
      "source": [
        "dt = DecisionTreeClassifier(max_depth=12, random_state=1)\r\n",
        "\r\n",
        "dt.fit(X_train,Y_train)\r\n",
        "\r\n",
        "y_pred = dt.predict(X_test)\r\n",
        "\r\n",
        "accuracy = accuracy_score(Y_test,y_pred)\r\n",
        "f1score = f1_score(Y_test,y_pred,average='micro')\r\n",
        "\r\n",
        "\r\n",
        "print(accuracy)\r\n",
        "print(f1score)\r\n",
        "\r\n",
        "\r\n"
      ],
      "execution_count": null,
      "outputs": [
        {
          "output_type": "stream",
          "text": [
            "0.6289000945477466\n",
            "0.6289000945477466\n"
          ],
          "name": "stdout"
        }
      ]
    },
    {
      "cell_type": "code",
      "metadata": {
        "colab": {
          "base_uri": "https://localhost:8080/",
          "height": 313
        },
        "id": "PzMpy7pC5eoy",
        "outputId": "c120cecb-d570-409e-b04f-013e9fc7673b"
      },
      "source": [
        "n=20\r\n",
        "scores=[]\r\n",
        "x = np.arange(1,n+1)\r\n",
        "\r\n",
        "for k in range(1,n+1):\r\n",
        "      dt = DecisionTreeClassifier(max_depth=k, random_state=1,criterion='gini')\r\n",
        "      dt.fit(X_train,Y_train)\r\n",
        "      y_pred = dt.predict(X_test)\r\n",
        "      f1score = f1_score(Y_test,y_pred,average='micro')\r\n",
        "      scores.append(f1score)\r\n",
        "\r\n",
        "plt.plot(x,scores,label='f1_score')\r\n",
        "plt.title('DecisionTree - f1_score depending on max_depth')\r\n",
        "plt.xlabel('max_depth')\r\n",
        "plt.ylabel('f1_score')\r\n",
        "plt.show()\r\n",
        "\r\n",
        "print(\"Best score = {0} for max_depth = {1}\".format(max(scores),scores.index(max(scores))))"
      ],
      "execution_count": null,
      "outputs": [
        {
          "output_type": "display_data",
          "data": {
            "image/png": "[encoded data removed]",
            "text/plain": [
              "<Figure size 432x288 with 1 Axes>"
            ]
          },
          "metadata": {
            "tags": [],
            "needs_background": "light"
          }
        },
        {
          "output_type": "stream",
          "text": [
            "Best score = 0.6361487551213363 for max_depth = 10\n"
          ],
          "name": "stdout"
        }
      ]
    },
    {
      "cell_type": "code",
      "metadata": {
        "colab": {
          "base_uri": "https://localhost:8080/",
          "height": 35
        },
        "id": "c2C-Dks17FZZ",
        "outputId": "a5aeaef2-33b6-4bf8-a15e-19dbffa56fc2"
      },
      "source": [
        "#Ne sert à rien/ trop de classes, l'arbre est trop grand pour être visualisé\r\n",
        "dot_data = tree.export_graphviz(dt)\r\n",
        "graph = graphviz.Source(dot_data)\r\n",
        "graph.render(\"Tree_spotify\")"
      ],
      "execution_count": null,
      "outputs": [
        {
          "output_type": "execute_result",
          "data": {
            "application/vnd.google.colaboratory.intrinsic+json": {
              "type": "string"
            },
            "text/plain": [
              "'Tree_spotify.pdf'"
            ]
          },
          "metadata": {
            "tags": []
          },
          "execution_count": 61
        }
      ]
    },
    {
      "cell_type": "markdown",
      "metadata": {
        "id": "_fNcBVXRGLxu"
      },
      "source": [
        "**RandomForest**"
      ]
    },
    {
      "cell_type": "code",
      "metadata": {
        "id": "qwiqWrv9GUIO"
      },
      "source": [
        "from sklearn.ensemble import RandomForestClassifier"
      ],
      "execution_count": null,
      "outputs": []
    },
    {
      "cell_type": "code",
      "metadata": {
        "colab": {
          "base_uri": "https://localhost:8080/"
        },
        "id": "qe3EiHgg53i9",
        "outputId": "9df862d9-1d76-46a8-fa20-cf18e634509f"
      },
      "source": [
        "rd = RandomForestClassifier(max_depth=12, random_state=1,criterion='gini',n_estimators=700)\r\n",
        "\r\n",
        "rd.fit(X_train,Y_train)\r\n",
        "\r\n",
        "y_pred = rd.predict(X_test)\r\n",
        "\r\n",
        "accuracy = accuracy_score(Y_test,y_pred)\r\n",
        "f1score = f1_score(Y_test,y_pred,average='micro')\r\n",
        "\r\n",
        "\r\n",
        "print(accuracy)\r\n",
        "print(f1score)"
      ],
      "execution_count": null,
      "outputs": [
        {
          "output_type": "stream",
          "text": [
            "0.6826347305389222\n",
            "0.6826347305389222\n"
          ],
          "name": "stdout"
        }
      ]
    },
    {
      "cell_type": "code",
      "metadata": {
        "colab": {
          "base_uri": "https://localhost:8080/"
        },
        "id": "wB6G-oWX6fSq",
        "outputId": "d3d6f7ff-7671-4e21-9d88-7ea399d2426b"
      },
      "source": [
        "print(f1score)"
      ],
      "execution_count": null,
      "outputs": [
        {
          "output_type": "stream",
          "text": [
            "0.6826347305389222\n"
          ],
          "name": "stdout"
        }
      ]
    },
    {
      "cell_type": "code",
      "metadata": {
        "colab": {
          "base_uri": "https://localhost:8080/",
          "height": 313
        },
        "id": "BLU40wyIGhr3",
        "outputId": "2a5b1af7-f229-4dd5-95ad-77c48c74e968"
      },
      "source": [
        "n=20\r\n",
        "f1_scores=[]\r\n",
        "x = np.arange(1,n+1)\r\n",
        "\r\n",
        "for k in range(1,n+1):\r\n",
        "      rd = RandomForestClassifier(max_depth=k, random_state=1,criterion='gini')\r\n",
        "      rd.fit(X_train,Y_train)\r\n",
        "      y_pred = rd.predict(X_test)\r\n",
        "      f1score = f1_score(Y_test,y_pred,average='micro')  \r\n",
        "      f1_scores.append(f1score)\r\n",
        "    \r\n",
        "plt.plot(x,f1_scores,label='f1_score')\r\n",
        "plt.legend(loc='lower right')\r\n",
        "plt.title('RandomForest - f1_score depending on max_depth')\r\n",
        "plt.xlabel('max_depth')\r\n",
        "plt.ylabel('f1_score')\r\n",
        "plt.show()\r\n",
        "\r\n",
        "print(\"Best f1_score = {0} for max_depth = {1}\".format(max(f1_scores),f1_scores.index(max(f1_scores))))"
      ],
      "execution_count": null,
      "outputs": [
        {
          "output_type": "display_data",
          "data": {
            "image/png": "[encoded data removed]",
            "text/plain": [
              "<Figure size 432x288 with 1 Axes>"
            ]
          },
          "metadata": {
            "tags": [],
            "needs_background": "light"
          }
        },
        {
          "output_type": "stream",
          "text": [
            "Best f1_score = 0.6810589347620548 for max_depth = 12\n"
          ],
          "name": "stdout"
        }
      ]
    },
    {
      "cell_type": "code",
      "metadata": {
        "id": "9pOiKVNq52qV"
      },
      "source": [
        ""
      ],
      "execution_count": null,
      "outputs": []
    },
    {
      "cell_type": "code",
      "metadata": {
        "colab": {
          "base_uri": "https://localhost:8080/",
          "height": 313
        },
        "id": "70AXiXY-KnrJ",
        "outputId": "73ecbebf-68d0-40ca-d123-dad733209d63"
      },
      "source": [
        "#Optimiser les paramètres de RandomForest\r\n",
        "#avec max_depth = 12\r\n",
        "\r\n",
        "#Test n_estimators\r\n",
        "\r\n",
        "n=2000\r\n",
        "f1_scores=[]\r\n",
        "x = np.arange(100,n,100)\r\n",
        "\r\n",
        "for val in x:\r\n",
        "      rd = RandomForestClassifier(max_depth=12, n_estimators=val,random_state=1,criterion='gini')\r\n",
        "      rd.fit(X_train,Y_train)\r\n",
        "      y_pred = rd.predict(X_test)\r\n",
        "      f1score = f1_score(Y_test,y_pred,average='micro')  \r\n",
        "      f1_scores.append(f1score)\r\n",
        "    \r\n",
        "plt.plot(x,f1_scores,label='f1_score')\r\n",
        "plt.legend(loc='lower right')\r\n",
        "plt.title('RandomForest - f1_score depending on n_estimators')\r\n",
        "plt.xlabel('n_estimators')\r\n",
        "plt.ylabel('f1_score')\r\n",
        "plt.show()\r\n",
        "\r\n",
        "print(\"Best f1_score = {0} for n_estimators = {1}\".format(max(f1_scores),f1_scores.index(max(f1_scores))))"
      ],
      "execution_count": null,
      "outputs": [
        {
          "output_type": "display_data",
          "data": {
            "image/png": "[encoded data removed]",
            "text/plain": [
              "<Figure size 432x288 with 1 Axes>"
            ]
          },
          "metadata": {
            "tags": [],
            "needs_background": "light"
          }
        },
        {
          "output_type": "stream",
          "text": [
            "Best f1_score = 0.6826347305389222 for n_estimators = 6\n"
          ],
          "name": "stdout"
        }
      ]
    },
    {
      "cell_type": "code",
      "metadata": {
        "id": "SfKOWub3M4To"
      },
      "source": [
        "#best n_estimators = 700"
      ],
      "execution_count": null,
      "outputs": []
    },
    {
      "cell_type": "markdown",
      "metadata": {
        "id": "2CoNhelDATer"
      },
      "source": [
        "**K-Fold validation**\r\n",
        "\r\n"
      ]
    },
    {
      "cell_type": "code",
      "metadata": {
        "id": "J-QZ3n3YAbWd"
      },
      "source": [
        "from sklearn.model_selection import cross_val_score"
      ],
      "execution_count": null,
      "outputs": []
    },
    {
      "cell_type": "code",
      "metadata": {
        "id": "pwp4CtlQAf3b"
      },
      "source": [
        "data2=df.drop(labels=['type','id','uri','track_href','analysis_url','song_name'],axis=1)\r\n",
        "\r\n",
        "genres=['Dark Trap', 'Underground Rap', 'Trap Metal', 'Emo', 'Rap', 'RnB', 'Pop', 'Hiphop', 'techhouse', 'techno',\r\n",
        "'trance', 'psytrance', 'trap', 'dnb', 'hardstyle']\r\n",
        "\r\n",
        "le = LabelEncoder()\r\n",
        "le.classes_=genres\r\n",
        "data2['genre']=le.transform(data2['genre'])\r\n",
        "\r\n",
        "X=data2[data2.columns[:-1]].to_numpy()\r\n",
        "Y=data2['genre'].to_numpy()\r\n",
        "\r\n",
        "#X_train,X_test,Y_train,Y_test=train_test_split(X,Y,random_state=10,test_size=0.2)"
      ],
      "execution_count": null,
      "outputs": []
    },
    {
      "cell_type": "code",
      "metadata": {
        "colab": {
          "base_uri": "https://localhost:8080/"
        },
        "id": "UMNOlYWEAta1",
        "outputId": "65c0b9f6-e838-435f-d7ed-cce246f61ccc"
      },
      "source": [
        "rd = RandomForestClassifier(max_depth=12, random_state=1,criterion='gini',n_estimators=700)\r\n",
        "\r\n",
        "scores = cross_val_score(rd, X, Y, cv=10)\r\n",
        "\r\n",
        "scores"
      ],
      "execution_count": null,
      "outputs": [
        {
          "output_type": "execute_result",
          "data": {
            "text/plain": [
              "array([0.67790734, 0.66876773, 0.67916798, 0.67696187, 0.67601639,\n",
              "       0.67570123, 0.68231957, 0.66876773, 0.67906683, 0.67591425])"
            ]
          },
          "metadata": {
            "tags": []
          },
          "execution_count": 36
        }
      ]
    },
    {
      "cell_type": "code",
      "metadata": {
        "colab": {
          "base_uri": "https://localhost:8080/"
        },
        "id": "Ye_KNMx9CUfp",
        "outputId": "d81c63f2-a2d9-41c5-8fcd-68693937fd0f"
      },
      "source": [
        "#Mean of 10 f1_score values\r\n",
        "np.mean(scores)"
      ],
      "execution_count": null,
      "outputs": [
        {
          "output_type": "execute_result",
          "data": {
            "text/plain": [
              "0.6760590917454928"
            ]
          },
          "metadata": {
            "tags": []
          },
          "execution_count": 38
        }
      ]
    },
    {
      "cell_type": "code",
      "metadata": {
        "id": "iw8lNpgaEEyg"
      },
      "source": [
        ""
      ],
      "execution_count": null,
      "outputs": []
    }
  ]
}