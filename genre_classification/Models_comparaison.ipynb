{
  "nbformat": 4,
  "nbformat_minor": 0,
  "metadata": {
    "colab": {
      "name": "Models comparaison.ipynb",
      "provenance": [],
      "collapsed_sections": [],
      "include_colab_link": true
    },
    "kernelspec": {
      "name": "python3",
      "display_name": "Python 3"
    }
  },
  "cells": [
    {
      "cell_type": "markdown",
      "metadata": {
        "id": "view-in-github",
        "colab_type": "text"
      },
      "source": [
        "<a href=\"https://colab.research.google.com/github/BDouchet/Spotify_dataset/blob/main/genre_classification/Models_comparaison.ipynb\" target=\"_parent\"><img src=\"https://colab.research.google.com/assets/colab-badge.svg\" alt=\"Open In Colab\"/></a>"
      ]
    },
    {
      "cell_type": "markdown",
      "metadata": {
        "id": "GB5z3ufaPwLE"
      },
      "source": [
        "# Imports"
      ]
    },
    {
      "cell_type": "code",
      "metadata": {
        "colab": {
          "base_uri": "https://localhost:8080/"
        },
        "id": "_wErlx6wOy1u",
        "outputId": "275146a2-9e76-4814-e151-d96f4a20cdf8"
      },
      "source": [
        "from pydrive.auth import GoogleAuth\r\n",
        "from pydrive.drive import GoogleDrive\r\n",
        "from google.colab import auth\r\n",
        "from oauth2client.client import GoogleCredentials\r\n",
        "\r\n",
        "import pandas as pd\r\n",
        "import numpy as np\r\n",
        "import matplotlib.pyplot as plt\r\n",
        "from zipfile import ZipFile\r\n",
        "\r\n",
        "auth.authenticate_user()\r\n",
        "gauth = GoogleAuth()\r\n",
        "gauth.credentials = GoogleCredentials.get_application_default()\r\n",
        "drive = GoogleDrive(gauth)\r\n",
        "\r\n",
        "id='16phKfXvRrwGbOJrNKpgbYnBnZG6icXFX'\r\n",
        "\r\n",
        "downloaded = drive.CreateFile({'id':id})\r\n",
        "downloaded.GetContentFile('dataset.zip')\r\n",
        "\r\n",
        "with ZipFile('dataset.zip', 'r') as zip:\r\n",
        "   zip.extractall()\r\n",
        "   print('Done')\r\n",
        "\r\n",
        "df=pd.read_csv('dataset/Spotify_train_dataset.csv')\r\n",
        "\r\n",
        "from sklearn.preprocessing import LabelEncoder\r\n",
        "from sklearn.model_selection import train_test_split\r\n",
        "\r\n",
        "data=df.drop(labels=['type','id','uri','track_href','analysis_url','song_name'],axis=1)\r\n",
        "\r\n",
        "genres=['Dark Trap', 'Underground Rap', 'Trap Metal', 'Emo', 'Rap', 'RnB', 'Pop', 'Hiphop', 'techhouse', 'techno',\r\n",
        "'trance', 'psytrance', 'trap', 'dnb', 'hardstyle']\r\n",
        "\r\n",
        "le = LabelEncoder()\r\n",
        "le.classes_=genres\r\n",
        "data['genre']=le.transform(data['genre'])\r\n",
        "\r\n",
        "X=data[data.columns[:-1]].to_numpy()\r\n",
        "Y=data['genre'].to_numpy()\r\n",
        "\r\n",
        "\r\n",
        "X_train,X_test,Y_train,Y_test=train_test_split(X,Y,random_state=10,test_size=0.2)\r\n",
        "\r\n",
        "print(X_train.shape,Y_train.shape,X_test.shape,Y_test.shape)"
      ],
      "execution_count": null,
      "outputs": [
        {
          "output_type": "stream",
          "text": [
            "Done\n",
            "(25382, 13) (25382,) (6346, 13) (6346,)\n"
          ],
          "name": "stdout"
        }
      ]
    },
    {
      "cell_type": "code",
      "metadata": {
        "id": "QYoE0QGqHlNn"
      },
      "source": [
        "from sklearn.tree import DecisionTreeClassifier\r\n",
        "from sklearn import tree\r\n",
        "from sklearn.ensemble import RandomForestClassifier\r\n",
        "from sklearn.discriminant_analysis import LinearDiscriminantAnalysis\r\n",
        "from sklearn.linear_model import LogisticRegression \r\n",
        "from sklearn.discriminant_analysis import QuadraticDiscriminantAnalysis\r\n",
        "from sklearn.svm import SVC\r\n",
        "from sklearn.svm import LinearSVC\r\n",
        "from sklearn.pipeline import make_pipeline\r\n",
        "from sklearn.preprocessing import StandardScaler\r\n",
        "from sklearn.neighbors import KNeighborsClassifier\r\n",
        "from sklearn.ensemble import GradientBoostingClassifier \r\n",
        "from sklearn.linear_model import LogisticRegression\r\n",
        "from sklearn.ensemble import AdaBoostClassifier \r\n",
        "\r\n",
        "from sklearn.metrics import accuracy_score\r\n",
        "from sklearn.metrics import f1_score\r\n",
        "\r\n",
        "import graphviz\r\n",
        "from sklearn.model_selection import cross_val_score\r\n",
        "\r\n",
        "\r\n"
      ],
      "execution_count": null,
      "outputs": []
    },
    {
      "cell_type": "markdown",
      "metadata": {
        "id": "gMkMCh8OViK8"
      },
      "source": [
        "# Models set up"
      ]
    },
    {
      "cell_type": "code",
      "metadata": {
        "colab": {
          "base_uri": "https://localhost:8080/"
        },
        "id": "k00DGd91Vxyz",
        "outputId": "ec899f42-2ddf-43c0-ef23-fcbb47490678"
      },
      "source": [
        "#Models set up \r\n",
        "\r\n",
        "rd = RandomForestClassifier(max_depth=12, random_state=1,criterion='gini',n_estimators=700)\r\n",
        "dt = DecisionTreeClassifier(max_depth=10, random_state=1)\r\n",
        "lda = LinearDiscriminantAnalysis()\r\n",
        "qda = QuadraticDiscriminantAnalysis()\r\n",
        "svm = SVC(kernel='rbf')\r\n",
        "knn = KNeighborsClassifier(n_neighbors=1)\r\n",
        "boost = GradientBoostingClassifier(n_estimators=200,verbose=1,max_features='sqrt')\r\n",
        "lr =LogisticRegression(solver='newton-cg')\r\n",
        "ada = AdaBoostClassifier(learning_rate=0.1)\r\n",
        "\r\n",
        "models_name = ['Decision Tree\\n Classifier','Random Forest\\nClassifier','Linear Discr.\\nAnalysis','Quadratic Discr.\\nAnalysis','SVM','KNN','Gradient\\nBoost Classifier','Logistic\\nRegression','Adaboost','Neural Network','CNN']\r\n",
        "models = [dt,rd,lda,qda,svm,knn,boost,lr,ada]\r\n",
        "\r\n",
        "scores =[]\r\n",
        "\r\n",
        "for model in models:\r\n",
        "  \r\n",
        "  #Split set\r\n",
        "  model.fit(X_train,Y_train)\r\n",
        "  y_pred = model.predict(X_test)\r\n",
        "  f1score = f1_score(Y_test,y_pred,average='micro')\r\n",
        "  scores.append(f1score)\r\n",
        "\r\n",
        "\r\n",
        "\r\n"
      ],
      "execution_count": null,
      "outputs": [
        {
          "output_type": "stream",
          "text": [
            "      Iter       Train Loss   Remaining Time \n",
            "         1       60111.0131            1.85m\n",
            "         2       54613.2573            1.85m\n",
            "         3       51597.1801            1.87m\n",
            "         4       49087.5243            1.86m\n",
            "         5       46568.8860            1.85m\n",
            "         6       44330.4020            1.83m\n",
            "         7       42424.2280            1.83m\n",
            "         8       40972.7588            1.81m\n",
            "         9       39587.1198            1.79m\n",
            "        10       38191.9894            1.79m\n",
            "        20       30312.3113            1.70m\n",
            "        30       26536.0572            1.60m\n",
            "        40       24357.4644            1.50m\n",
            "        50       22931.1142            1.41m\n",
            "        60       21963.1813            1.32m\n",
            "        70       21243.7814            1.22m\n",
            "        80       20634.8450            1.13m\n",
            "        90       20137.6340            1.03m\n",
            "       100       19677.5696           56.26s\n",
            "       200       16896.4888            0.00s\n"
          ],
          "name": "stdout"
        },
        {
          "output_type": "stream",
          "text": [
            "/usr/local/lib/python3.6/dist-packages/scipy/optimize/linesearch.py:466: LineSearchWarning: The line search algorithm did not converge\n",
            "  warn('The line search algorithm did not converge', LineSearchWarning)\n",
            "/usr/local/lib/python3.6/dist-packages/scipy/optimize/linesearch.py:314: LineSearchWarning: The line search algorithm did not converge\n",
            "  warn('The line search algorithm did not converge', LineSearchWarning)\n",
            "/usr/local/lib/python3.6/dist-packages/sklearn/utils/optimize.py:212: ConvergenceWarning: newton-cg failed to converge. Increase the number of iterations.\n",
            "  \"number of iterations.\", ConvergenceWarning)\n"
          ],
          "name": "stderr"
        }
      ]
    },
    {
      "cell_type": "markdown",
      "metadata": {
        "id": "Ww7y0tOeV-tz"
      },
      "source": [
        "#Scores comparaison with Bar graph \r\n",
        "\r\n",
        "\r\n",
        "\r\n",
        "\r\n",
        "\r\n"
      ]
    },
    {
      "cell_type": "markdown",
      "metadata": {
        "id": "196_lJcNBYvW"
      },
      "source": [
        "## Plotting f1_score for each model\r\n"
      ]
    },
    {
      "cell_type": "code",
      "metadata": {
        "colab": {
          "base_uri": "https://localhost:8080/"
        },
        "id": "s1wyRepWWD9D",
        "outputId": "ef08ef4c-4164-41ef-817a-88ceaffe7b02"
      },
      "source": [
        "# NeuralNetwork score\r\n",
        "scores.append(0.6708162622124173)\r\n",
        "\r\n",
        "#CNN score\r\n",
        "scores.append(0.6802710368736212)\r\n",
        "\r\n",
        "print(scores)"
      ],
      "execution_count": null,
      "outputs": [
        {
          "output_type": "stream",
          "text": [
            "[0.6331547431452884, 0.6826347305389222, 0.5228490387645761, 0.6222817522849039, 0.2589032461393003, 0.33438386385124486, 0.6935077213993066, 0.45808383233532934, 0.4019855026788528, 0.6708162622124173, 0.6802710368736212]\n"
          ],
          "name": "stdout"
        }
      ]
    },
    {
      "cell_type": "code",
      "metadata": {
        "colab": {
          "base_uri": "https://localhost:8080/"
        },
        "id": "ETbQKPLFWIZ9",
        "outputId": "f5fb27b3-fca6-4602-8e69-08d0e4e7483e"
      },
      "source": [
        "#Truncate the metrics\r\n",
        "\r\n",
        "scores_round = []\r\n",
        "\r\n",
        "for k in range(len(scores)):\r\n",
        "  scores_round.append(round(scores[k],3))\r\n",
        "\r\n",
        "print(scores_round)"
      ],
      "execution_count": null,
      "outputs": [
        {
          "output_type": "stream",
          "text": [
            "[0.633, 0.683, 0.523, 0.622, 0.259, 0.334, 0.694, 0.458, 0.402, 0.671, 0.68]\n"
          ],
          "name": "stdout"
        }
      ]
    },
    {
      "cell_type": "code",
      "metadata": {
        "colab": {
          "base_uri": "https://localhost:8080/",
          "height": 369
        },
        "id": "M_8AuPIkWKVl",
        "outputId": "066639f2-ab37-456a-e3fd-94bcb848d919"
      },
      "source": [
        "# Bar graph Split set\r\n",
        "\r\n",
        "colors = ['lightblue','orange','green','purple','grey','olive','red']\r\n",
        "\r\n",
        "plt.figure(figsize=(12,5))\r\n",
        "fig = plt.bar(models_name,scores_round,color=colors,width=0.8)\r\n",
        "\r\n",
        "\r\n",
        "plt.yticks(np.arange(0, 1.2, 0.2))\r\n",
        "plt.ylabel('f1_score')\r\n",
        "\r\n",
        "for i in range(len(scores)):\r\n",
        "    plt.annotate(str(scores_round[i]), xy=(i,scores_round[i]), ha='center', va='bottom')\r\n",
        "\r\n",
        "plt.title(\"Split set (80% Training, 20% Testing)\")\r\n",
        "\r\n",
        "plt.tight_layout()\r\n",
        "\r\n",
        "plt.show()"
      ],
      "execution_count": null,
      "outputs": [
        {
          "output_type": "display_data",
          "data": {
            "image/png": "[encoded data removed]",
            "text/plain": [
              "<Figure size 864x360 with 1 Axes>"
            ]
          },
          "metadata": {
            "tags": [],
            "needs_background": "light"
          }
        }
      ]
    },
    {
      "cell_type": "markdown",
      "metadata": {
        "id": "ok4lM1JxBOPM"
      },
      "source": [
        "## Plot in the ascending order"
      ]
    },
    {
      "cell_type": "code",
      "metadata": {
        "colab": {
          "base_uri": "https://localhost:8080/"
        },
        "id": "W_h0cDcHY-A9",
        "outputId": "87730fa5-e863-4d09-a767-faaefe81d471"
      },
      "source": [
        "dict = {models_name[k]:scores_round[k] for k in range(len(scores_round))}\r\n",
        "dict"
      ],
      "execution_count": null,
      "outputs": [
        {
          "output_type": "execute_result",
          "data": {
            "text/plain": [
              "{'Adaboost': 0.402,\n",
              " 'CNN': 0.68,\n",
              " 'Decision Tree\\n Classifier': 0.633,\n",
              " 'Gradient\\nBoost Classifier': 0.694,\n",
              " 'KNN': 0.334,\n",
              " 'Linear Discr.\\nAnalysis': 0.523,\n",
              " 'Logistic\\nRegression': 0.458,\n",
              " 'Neural Network': 0.671,\n",
              " 'Quadratic Discr.\\nAnalysis': 0.622,\n",
              " 'Random Forest\\nClassifier': 0.683,\n",
              " 'SVM': 0.259}"
            ]
          },
          "metadata": {
            "tags": []
          },
          "execution_count": 91
        }
      ]
    },
    {
      "cell_type": "code",
      "metadata": {
        "colab": {
          "base_uri": "https://localhost:8080/"
        },
        "id": "86bMvWXlb4cw",
        "outputId": "54d7d953-56f8-4dd6-8806-d073b3b958bf"
      },
      "source": [
        "#Sort the dictionnary by value\r\n",
        "\r\n",
        "dict_sort = sorted(dict.items(), key=lambda item: item[1])\r\n",
        "\r\n",
        "models_name_sort=[]\r\n",
        "scores_round_sort=[]\r\n",
        "\r\n",
        "for item in dict_sort:\r\n",
        "  models_name_sort.append(item[0])\r\n",
        "  scores_round_sort.append(item[1])\r\n",
        "\r\n",
        "print(models_name_sort)\r\n",
        "print(scores_round_sort)"
      ],
      "execution_count": null,
      "outputs": [
        {
          "output_type": "stream",
          "text": [
            "['SVM', 'KNN', 'Adaboost', 'Logistic\\nRegression', 'Linear Discr.\\nAnalysis', 'Quadratic Discr.\\nAnalysis', 'Decision Tree\\n Classifier', 'Neural Network', 'CNN', 'Random Forest\\nClassifier', 'Gradient\\nBoost Classifier']\n",
            "[0.259, 0.334, 0.402, 0.458, 0.523, 0.622, 0.633, 0.671, 0.68, 0.683, 0.694]\n"
          ],
          "name": "stdout"
        }
      ]
    },
    {
      "cell_type": "code",
      "metadata": {
        "colab": {
          "base_uri": "https://localhost:8080/",
          "height": 369
        },
        "id": "aiYvX1t6c3OE",
        "outputId": "44a25b60-354a-4ceb-f5df-2c03de4ff806"
      },
      "source": [
        "# Bar graph Split set\r\n",
        "\r\n",
        "colors = ['lightblue','orange','green','purple','grey','olive','red']\r\n",
        "\r\n",
        "plt.figure(figsize=(14,5))\r\n",
        "fig = plt.bar(models_name_sort,scores_round_sort,color=colors,width=0.8)\r\n",
        "\r\n",
        "\r\n",
        "plt.yticks(np.arange(0, 1.2, 0.2))\r\n",
        "plt.ylabel('f1_score')\r\n",
        "\r\n",
        "for i in range(len(scores)):\r\n",
        "    plt.annotate(str(scores_round_sort[i]), xy=(i,scores_round_sort[i]), ha='center', va='bottom')\r\n",
        "\r\n",
        "plt.title(\"Split set (80% Training, 20% Testing)\")\r\n",
        "\r\n",
        "plt.tight_layout()\r\n",
        "\r\n",
        "plt.show()"
      ],
      "execution_count": null,
      "outputs": [
        {
          "output_type": "display_data",
          "data": {
            "image/png": "[encoded data removed]",
            "text/plain": [
              "<Figure size 1008x360 with 1 Axes>"
            ]
          },
          "metadata": {
            "tags": [],
            "needs_background": "light"
          }
        }
      ]
    }
  ]
}