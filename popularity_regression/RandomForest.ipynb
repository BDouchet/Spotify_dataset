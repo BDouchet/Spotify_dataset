{
  "nbformat": 4,
  "nbformat_minor": 0,
  "metadata": {
    "colab": {
      "name": "RandomForest.ipynb",
      "provenance": [],
      "collapsed_sections": [],
      "include_colab_link": true
    },
    "kernelspec": {
      "name": "python3",
      "display_name": "Python 3"
    }
  },
  "cells": [
    {
      "cell_type": "markdown",
      "metadata": {
        "id": "view-in-github",
        "colab_type": "text"
      },
      "source": [
        "<a href=\"https://colab.research.google.com/github/BDouchet/Spotify_dataset/blob/main/popularity_regression/RandomForest.ipynb\" target=\"_parent\"><img src=\"https://colab.research.google.com/assets/colab-badge.svg\" alt=\"Open In Colab\"/></a>"
      ]
    },
    {
      "cell_type": "markdown",
      "metadata": {
        "id": "GB5z3ufaPwLE"
      },
      "source": [
        "# Imports"
      ]
    },
    {
      "cell_type": "code",
      "metadata": {
        "colab": {
          "base_uri": "https://localhost:8080/"
        },
        "id": "_wErlx6wOy1u",
        "outputId": "091fb808-0231-4b2e-dc98-7530e88e8008"
      },
      "source": [
        "from pydrive.auth import GoogleAuth\r\n",
        "from pydrive.drive import GoogleDrive\r\n",
        "from google.colab import auth\r\n",
        "from oauth2client.client import GoogleCredentials\r\n",
        "\r\n",
        "import pandas as pd\r\n",
        "import numpy as np\r\n",
        "import matplotlib.pyplot as plt\r\n",
        "from zipfile import ZipFile\r\n",
        "\r\n",
        "auth.authenticate_user()\r\n",
        "gauth = GoogleAuth()\r\n",
        "gauth.credentials = GoogleCredentials.get_application_default()\r\n",
        "drive = GoogleDrive(gauth)\r\n",
        "\r\n",
        "id='16phKfXvRrwGbOJrNKpgbYnBnZG6icXFX'\r\n",
        "\r\n",
        "downloaded = drive.CreateFile({'id':id})\r\n",
        "downloaded.GetContentFile('dataset.zip')\r\n",
        "\r\n",
        "with ZipFile('dataset.zip', 'r') as zip:\r\n",
        "   zip.extractall()\r\n",
        "   print('Done')\r\n",
        "\r\n",
        "df=pd.read_csv('dataset/Spotify_exo2.csv')\r\n",
        "\r\n",
        "X=df.drop(['genres','popularity'],axis=1).to_numpy()\r\n",
        "Y=df['popularity'].to_numpy()\r\n",
        "\r\n",
        "from sklearn.model_selection import train_test_split\r\n",
        "\r\n",
        "X_train,X_test,Y_train,Y_test=train_test_split(X,Y,random_state=10,test_size=0.2)\r\n",
        "\r\n",
        "print(X_train.shape,Y_train.shape,X_test.shape,Y_test.shape)"
      ],
      "execution_count": null,
      "outputs": [
        {
          "output_type": "stream",
          "text": [
            "Done\n",
            "(2378, 12) (2378,) (595, 12) (595,)\n"
          ],
          "name": "stdout"
        }
      ]
    },
    {
      "cell_type": "code",
      "metadata": {
        "id": "uC0zrnoGJz9-"
      },
      "source": [
        "from sklearn.ensemble import RandomForestRegressor\r\n",
        "from sklearn.metrics import mean_absolute_error,r2_score\r\n",
        "from sklearn.model_selection import cross_val_score\r\n",
        "from sklearn.metrics import make_scorer"
      ],
      "execution_count": null,
      "outputs": []
    },
    {
      "cell_type": "code",
      "metadata": {
        "colab": {
          "base_uri": "https://localhost:8080/"
        },
        "id": "pGbnY3oGJ9Aq",
        "outputId": "7779482f-9640-4279-8bd5-5e109912afba"
      },
      "source": [
        "rd = RandomForestRegressor(n_estimators=200,criterion='mse')\r\n",
        "\r\n",
        "rd.fit(X_train,Y_train)\r\n",
        "\r\n",
        "y_pred = rd.predict(X_test)\r\n",
        "\r\n",
        "print(r2_score(Y_test,y_pred))\r\n",
        "\r\n",
        "scores = cross_val_score(rd,X,Y,cv=10,scoring=make_scorer(r2_score))\r\n",
        "print(np.mean(scores))"
      ],
      "execution_count": null,
      "outputs": [
        {
          "output_type": "stream",
          "text": [
            "0.5345975482290353\n",
            "0.5655174208345404\n"
          ],
          "name": "stdout"
        }
      ]
    },
    {
      "cell_type": "code",
      "metadata": {
        "colab": {
          "base_uri": "https://localhost:8080/",
          "height": 265
        },
        "id": "vw9ViEn5OcLJ",
        "outputId": "15b1a242-1eb1-4a2a-aeb0-c889c3be705b"
      },
      "source": [
        "# Test n_estimators\r\n",
        "\r\n",
        "x = np.arange(200,350,25)\r\n",
        "y = []\r\n",
        "\r\n",
        "for val in x:\r\n",
        "  rd = RandomForestRegressor(n_estimators=val)\r\n",
        "  score = np.mean(cross_val_score(rd,X,Y,cv=5,scoring=make_scorer(r2_score))\r\n",
        "  y.append(score)\r\n",
        "\r\n",
        "\r\n",
        "plt.plot(x,y)\r\n",
        "plt.show()"
      ],
      "execution_count": null,
      "outputs": [
        {
          "output_type": "display_data",
          "data": {
            "image/png": "[encoded data removed]",
            "text/plain": [
              "<Figure size 432x288 with 1 Axes>"
            ]
          },
          "metadata": {
            "tags": [],
            "needs_background": "light"
          }
        }
      ]
    },
    {
      "cell_type": "code",
      "metadata": {
        "id": "FLIN-7vWP26a",
        "colab": {
          "base_uri": "https://localhost:8080/"
        },
        "outputId": "fe5a5894-757c-42f5-dbc2-40c4b8936d15"
      },
      "source": [
        "#Criterion comparaison\r\n",
        "\r\n",
        "rd = RandomForestRegressor(n_estimators=250, criterion='mse')\r\n",
        "mse = np.mean(cross_val_score(rd,X,Y,cv=10,scoring=make_scorer(r2_score)))\r\n",
        "\r\n",
        "rd = RandomForestRegressor(n_estimators=250, criterion='mae')\r\n",
        "mae = np.mean(cross_val_score(rd,X,Y,cv=10,scoring=make_scorer(r2_score)))\r\n",
        "\r\n",
        "print(\"Criterion MSE: {0}\".format(mse))\r\n",
        "print(\"Criterion MAE: {0}\".format(mae))"
      ],
      "execution_count": null,
      "outputs": [
        {
          "output_type": "stream",
          "text": [
            "Criterion MSE: 0.5684879395978294\n",
            "Criterion MAE: 0.5611399844515644\n"
          ],
          "name": "stdout"
        }
      ]
    },
    {
      "cell_type": "code",
      "metadata": {
        "id": "bleMfYmuQU1F",
        "colab": {
          "base_uri": "https://localhost:8080/",
          "height": 265
        },
        "outputId": "5d7b383e-2e3d-4553-b12d-bc6997709800"
      },
      "source": [
        "rd = RandomForestRegressor(n_estimators=250, criterion='mse')"
      ],
      "execution_count": null,
      "outputs": [
        {
          "output_type": "display_data",
          "data": {
            "image/png": "[encoded data removed]",
            "text/plain": [
              "<Figure size 432x288 with 1 Axes>"
            ]
          },
          "metadata": {
            "tags": [],
            "needs_background": "light"
          }
        }
      ]
    },
    {
      "cell_type": "code",
      "metadata": {
        "colab": {
          "base_uri": "https://localhost:8080/"
        },
        "id": "Q4kZFkZy1BiG",
        "outputId": "764a0249-9e50-4a5c-ca04-37405572b6c3"
      },
      "source": [
        "X.shape"
      ],
      "execution_count": null,
      "outputs": [
        {
          "output_type": "execute_result",
          "data": {
            "text/plain": [
              "(2973, 12)"
            ]
          },
          "metadata": {
            "tags": []
          },
          "execution_count": 14
        }
      ]
    }
  ]
}