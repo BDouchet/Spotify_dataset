{
  "nbformat": 4,
  "nbformat_minor": 0,
  "metadata": {
    "colab": {
      "name": "Other_methods.ipynb",
      "provenance": [],
      "collapsed_sections": [
        "m4lYuIE7-Pa6",
        "u8YrOGYmbLL2",
        "rUiSL_eJXKNI",
        "gRp3CyiVXfMW"
      ],
      "include_colab_link": true
    },
    "kernelspec": {
      "name": "python3",
      "display_name": "Python 3"
    }
  },
  "cells": [
    {
      "cell_type": "markdown",
      "metadata": {
        "id": "view-in-github",
        "colab_type": "text"
      },
      "source": [
        "<a href=\"https://colab.research.google.com/github/BDouchet/Spotify_dataset/blob/main/genre_classification/Other_methods.ipynb\" target=\"_parent\"><img src=\"https://colab.research.google.com/assets/colab-badge.svg\" alt=\"Open In Colab\"/></a>"
      ]
    },
    {
      "cell_type": "markdown",
      "metadata": {
        "id": "GB5z3ufaPwLE"
      },
      "source": [
        "# Imports"
      ]
    },
    {
      "cell_type": "code",
      "metadata": {
        "colab": {
          "base_uri": "https://localhost:8080/"
        },
        "id": "_wErlx6wOy1u",
        "outputId": "cf0abc36-ed3c-4529-d754-344740fdf839"
      },
      "source": [
        "from pydrive.auth import GoogleAuth\r\n",
        "from pydrive.drive import GoogleDrive\r\n",
        "from google.colab import auth\r\n",
        "from oauth2client.client import GoogleCredentials\r\n",
        "\r\n",
        "import pandas as pd\r\n",
        "import numpy as np\r\n",
        "import matplotlib.pyplot as plt\r\n",
        "from zipfile import ZipFile\r\n",
        "\r\n",
        "auth.authenticate_user()\r\n",
        "gauth = GoogleAuth()\r\n",
        "gauth.credentials = GoogleCredentials.get_application_default()\r\n",
        "drive = GoogleDrive(gauth)\r\n",
        "\r\n",
        "id='16phKfXvRrwGbOJrNKpgbYnBnZG6icXFX'\r\n",
        "\r\n",
        "downloaded = drive.CreateFile({'id':id})\r\n",
        "downloaded.GetContentFile('dataset.zip')\r\n",
        "\r\n",
        "with ZipFile('dataset.zip', 'r') as zip:\r\n",
        "   zip.extractall()\r\n",
        "   print('Done')\r\n",
        "\r\n",
        "df=pd.read_csv('dataset/Spotify_train_dataset.csv')\r\n",
        "\r\n",
        "from sklearn.preprocessing import LabelEncoder\r\n",
        "from sklearn.model_selection import train_test_split\r\n",
        "\r\n",
        "data=df.drop(labels=['type','id','uri','track_href','analysis_url','song_name'],axis=1)\r\n",
        "\r\n",
        "genres=['Dark Trap', 'Underground Rap', 'Trap Metal', 'Emo', 'Rap', 'RnB', 'Pop', 'Hiphop', 'techhouse', 'techno',\r\n",
        "'trance', 'psytrance', 'trap', 'dnb', 'hardstyle']\r\n",
        "\r\n",
        "le = LabelEncoder()\r\n",
        "le.classes_=genres\r\n",
        "data['genre']=le.transform(data['genre'])\r\n",
        "\r\n",
        "X=data[data.columns[:-1]].to_numpy()\r\n",
        "Y=data['genre'].to_numpy()\r\n",
        "\r\n",
        "X_train,X_test,Y_train,Y_test=train_test_split(X,Y,random_state=10,test_size=0.2)\r\n",
        "print(X_train.shape,Y_train.shape,X_test.shape,Y_test.shape)"
      ],
      "execution_count": null,
      "outputs": [
        {
          "output_type": "stream",
          "text": [
            "Done\n",
            "(25382, 13) (25382,) (6346, 13) (6346,)\n"
          ],
          "name": "stdout"
        }
      ]
    },
    {
      "cell_type": "markdown",
      "metadata": {
        "id": "IjUzPcnlkwHW"
      },
      "source": [
        "# LDA & QDA - Linear/Quadratic Discriminant Analysis\r\n",
        "\r\n",
        "The idea being LDA and QDA is to fits a Gaussian Density into each class. LDA has linear decision boundaries while QDA has quadratic. To get the maths behind this process, please see this [notebook](https://github.com/BDouchet/SDATA/blob/main/TP_LDA.ipynb).\r\n",
        "\r\n",
        "[More Info- LDA](https://scikit-learn.org/stable/modules/generated/sklearn.discriminant_analysis.LinearDiscriminantAnalysis.html)\r\n",
        "\r\n",
        "[More Info- QDA](https://scikit-learn.org/stable/modules/generated/sklearn.discriminant_analysis.QuadraticDiscriminantAnalysis.html)\r\n"
      ]
    },
    {
      "cell_type": "code",
      "metadata": {
        "id": "Kv62Br7QWImD"
      },
      "source": [
        "from sklearn.discriminant_analysis import LinearDiscriminantAnalysis\r\n",
        "from sklearn.discriminant_analysis import QuadraticDiscriminantAnalysis\r\n",
        "from sklearn.metrics import f1_score"
      ],
      "execution_count": null,
      "outputs": []
    },
    {
      "cell_type": "code",
      "metadata": {
        "colab": {
          "base_uri": "https://localhost:8080/"
        },
        "id": "or_bPCjrWJJ8",
        "outputId": "b3e3d774-09e1-4def-83d0-f126b5338701"
      },
      "source": [
        "LDA = LinearDiscriminantAnalysis()\r\n",
        "LDA.fit(X_train,Y_train)\r\n",
        "\r\n",
        "y_pred = LDA.predict(X_test)\r\n",
        "y_pred_train = LDA.predict(X_train)\r\n",
        "\r\n",
        "print(f1_score(Y_train,y_pred_train,average='micro'))\r\n",
        "print(f1_score(Y_test,y_pred,average='micro'))"
      ],
      "execution_count": null,
      "outputs": [
        {
          "output_type": "stream",
          "text": [
            "0.527263415018517\n",
            "0.5228490387645761\n"
          ],
          "name": "stdout"
        }
      ]
    },
    {
      "cell_type": "code",
      "metadata": {
        "colab": {
          "base_uri": "https://localhost:8080/"
        },
        "id": "6b69ONSHWNY0",
        "outputId": "57b1c897-8aac-41ee-b8d5-26afa429de40"
      },
      "source": [
        "QDA = QuadraticDiscriminantAnalysis()\r\n",
        "QDA.fit(X_train,Y_train)\r\n",
        "\r\n",
        "y_pred = QDA.predict(X_test)\r\n",
        "y_pred_train = QDA.predict(X_train)\r\n",
        "\r\n",
        "print(f1_score(Y_train,y_pred_train,average='micro'))\r\n",
        "print(f1_score(Y_test,y_pred,average='micro'))"
      ],
      "execution_count": null,
      "outputs": [
        {
          "output_type": "stream",
          "text": [
            "0.6192577417067213\n",
            "0.6222817522849039\n"
          ],
          "name": "stdout"
        }
      ]
    },
    {
      "cell_type": "markdown",
      "metadata": {
        "id": "m4lYuIE7-Pa6"
      },
      "source": [
        "# KNN - K-Nearest Neighbors\r\n",
        "\r\n",
        "KNN is an algorithm where the main idea is to find the most similar vector to an input vector. This similarity is calculated with the Minkowski distance with`p=2`. Thus the idea is to say : the nearest neighbors probably have the same classes than the input.\r\n",
        "\r\n",
        "However, because it is a heavy algorithm in its brute-force way, it is usually applied with more optimized algorithm like [KDTree](https://scikit-learn.org/stable/modules/generated/sklearn.neighbors.KDTree.html#sklearn.neighbors.KDTree) and [BallTree](https://scikit-learn.org/stable/modules/generated/sklearn.neighbors.BallTree.html#sklearn.neighbors.BallTree).\r\n",
        "\r\n",
        "[More info](https://scikit-learn.org/stable/modules/generated/sklearn.neighbors.KNeighborsClassifier.html)"
      ]
    },
    {
      "cell_type": "code",
      "metadata": {
        "id": "-uE_754H-O_B"
      },
      "source": [
        "from sklearn.neighbors import KNeighborsClassifier\r\n",
        "from sklearn.metrics import f1_score"
      ],
      "execution_count": null,
      "outputs": []
    },
    {
      "cell_type": "code",
      "metadata": {
        "colab": {
          "base_uri": "https://localhost:8080/",
          "height": 265
        },
        "id": "vo1yLSQRz4Qp",
        "outputId": "8247102a-0131-4724-b5db-7ca63b966035"
      },
      "source": [
        "N=[1,2,3,4,5,6,7,8,9,10,15,20,25,50]\r\n",
        "f1s=[]\r\n",
        "\r\n",
        "for n in N:\r\n",
        "    knn=KNeighborsClassifier(n_neighbors=n)\r\n",
        "    knn.fit(X_train,Y_train)\r\n",
        "    yhat_test=knn.predict(X_test)\r\n",
        "    f1s.append(f1_score(Y_test,yhat_test,average='micro'))\r\n",
        "\r\n",
        "plt.plot(N,f1s)\r\n",
        "plt.show()"
      ],
      "execution_count": null,
      "outputs": [
        {
          "output_type": "display_data",
          "data": {
            "image/png": "[encoded data removed]",
            "text/plain": [
              "<Figure size 432x288 with 1 Axes>"
            ]
          },
          "metadata": {
            "tags": [],
            "needs_background": "light"
          }
        }
      ]
    },
    {
      "cell_type": "code",
      "metadata": {
        "colab": {
          "base_uri": "https://localhost:8080/"
        },
        "id": "_nqzrRZx-OGG",
        "outputId": "eee23449-05c1-4f34-e396-3a0bbc7e438b"
      },
      "source": [
        "knn=KNeighborsClassifier(n_neighbors=1)\r\n",
        "knn.fit(X_train,Y_train)\r\n",
        "\r\n",
        "yhat_test=knn.predict(X_test)\r\n",
        "yhat_train=knn.predict(X_train)\r\n",
        "\r\n",
        "print(f1_score(Y_test,yhat_test,average='micro'))\r\n",
        "print(f1_score(Y_train,yhat_train,average='micro'))"
      ],
      "execution_count": null,
      "outputs": [
        {
          "output_type": "stream",
          "text": [
            "0.33438386385124486\n",
            "0.9503979197856749\n"
          ],
          "name": "stdout"
        }
      ]
    },
    {
      "cell_type": "code",
      "metadata": {
        "id": "rGB_Bd8a_RDj",
        "colab": {
          "base_uri": "https://localhost:8080/",
          "height": 265
        },
        "outputId": "d2a0afc9-eb9c-4dd2-9503-1be0fe87f32b"
      },
      "source": [
        "# Test optimal number for leaf_size\r\n",
        "\r\n",
        "N=[2,4,7,10,20,30,60,100,200,300,400,500,600,800,1200]\r\n",
        "f1s=[]\r\n",
        "\r\n",
        "for n in N:\r\n",
        "    knn=KNeighborsClassifier(n_neighbors=1,leaf_size=n)\r\n",
        "    knn.fit(X_train,Y_train)\r\n",
        "    yhat_test=knn.predict(X_test)\r\n",
        "    f1s.append(f1_score(Y_test,yhat_test,average='micro'))\r\n",
        "\r\n",
        "plt.plot(N,f1s)\r\n",
        "plt.show()"
      ],
      "execution_count": null,
      "outputs": [
        {
          "output_type": "display_data",
          "data": {
            "image/png": "[encoded data removed]",
            "text/plain": [
              "<Figure size 432x288 with 1 Axes>"
            ]
          },
          "metadata": {
            "tags": [],
            "needs_background": "light"
          }
        }
      ]
    },
    {
      "cell_type": "markdown",
      "metadata": {
        "id": "SmqxviAEZc6T"
      },
      "source": [
        "No big changes for this hyperparameter. \r\n",
        "We also tried with other algorithm but the best performances are established with `algorithm=auto`."
      ]
    },
    {
      "cell_type": "markdown",
      "metadata": {
        "id": "u8YrOGYmbLL2"
      },
      "source": [
        "# Logistic Regression\r\n",
        "\r\n",
        "[More Info](https://scikit-learn.org/stable/modules/generated/sklearn.linear_model.LogisticRegression.html)"
      ]
    },
    {
      "cell_type": "code",
      "metadata": {
        "id": "HDgvCjmXbLMD"
      },
      "source": [
        "from sklearn.linear_model import LogisticRegression \r\n",
        "from sklearn.metrics import f1_score"
      ],
      "execution_count": null,
      "outputs": []
    },
    {
      "cell_type": "code",
      "metadata": {
        "id": "MFYt9h7LpVyb"
      },
      "source": [
        "parameters=[['newton-cg','l2'],['newton-cg','none'],\r\n",
        "            ['sag','l2'],\r\n",
        "            ['saga','elasticnet'], ['saga','none'],\r\n",
        "            ['lbfgs','l2'],['lbfgs','none']]\r\n",
        "fs=[]"
      ],
      "execution_count": null,
      "outputs": []
    },
    {
      "cell_type": "code",
      "metadata": {
        "colab": {
          "base_uri": "https://localhost:8080/"
        },
        "id": "1bKAlIr6qQ4M",
        "outputId": "f67f23b3-9729-4763-a8ac-7f5f38b4ce6b"
      },
      "source": [
        "for param in parameters:\r\n",
        "    if param[1]=='elasticnet':\r\n",
        "        lr =LogisticRegression(solver=param[0],penalty=param[1],l1_ratio=0.5,verbose=0)\r\n",
        "    else:\r\n",
        "         lr =LogisticRegression(solver=param[0],penalty=param[1],verbose=0)\r\n",
        "    lr.fit(X_train,Y_train)\r\n",
        "    yhat_test=lr.predict(X_test)\r\n",
        "    fs.append(f1_score(Y_test,yhat_test,average='micro'))"
      ],
      "execution_count": null,
      "outputs": [
        {
          "output_type": "stream",
          "text": [
            "/usr/local/lib/python3.6/dist-packages/scipy/optimize/linesearch.py:466: LineSearchWarning: The line search algorithm did not converge\n",
            "  warn('The line search algorithm did not converge', LineSearchWarning)\n",
            "/usr/local/lib/python3.6/dist-packages/scipy/optimize/linesearch.py:314: LineSearchWarning: The line search algorithm did not converge\n",
            "  warn('The line search algorithm did not converge', LineSearchWarning)\n",
            "/usr/local/lib/python3.6/dist-packages/sklearn/utils/optimize.py:212: ConvergenceWarning: newton-cg failed to converge. Increase the number of iterations.\n",
            "  \"number of iterations.\", ConvergenceWarning)\n",
            "/usr/local/lib/python3.6/dist-packages/scipy/optimize/linesearch.py:466: LineSearchWarning: The line search algorithm did not converge\n",
            "  warn('The line search algorithm did not converge', LineSearchWarning)\n",
            "/usr/local/lib/python3.6/dist-packages/scipy/optimize/linesearch.py:314: LineSearchWarning: The line search algorithm did not converge\n",
            "  warn('The line search algorithm did not converge', LineSearchWarning)\n",
            "/usr/local/lib/python3.6/dist-packages/sklearn/utils/optimize.py:212: ConvergenceWarning: newton-cg failed to converge. Increase the number of iterations.\n",
            "  \"number of iterations.\", ConvergenceWarning)\n",
            "/usr/local/lib/python3.6/dist-packages/sklearn/linear_model/_sag.py:330: ConvergenceWarning: The max_iter was reached which means the coef_ did not converge\n",
            "  \"the coef_ did not converge\", ConvergenceWarning)\n",
            "/usr/local/lib/python3.6/dist-packages/sklearn/linear_model/_sag.py:330: ConvergenceWarning: The max_iter was reached which means the coef_ did not converge\n",
            "  \"the coef_ did not converge\", ConvergenceWarning)\n",
            "/usr/local/lib/python3.6/dist-packages/sklearn/linear_model/_sag.py:330: ConvergenceWarning: The max_iter was reached which means the coef_ did not converge\n",
            "  \"the coef_ did not converge\", ConvergenceWarning)\n"
          ],
          "name": "stderr"
        }
      ]
    },
    {
      "cell_type": "code",
      "metadata": {
        "colab": {
          "base_uri": "https://localhost:8080/",
          "height": 320
        },
        "id": "_yE8EM4qrYe6",
        "outputId": "8c043927-8ec8-42d5-8f4a-49c966f54d65"
      },
      "source": [
        "plt.figure(figsize=(15,5))\r\n",
        "plt.bar(np.arange(7),np.array(fs))\r\n",
        "plt.xticks(np.arange(7),labels=parameters)\r\n",
        "plt.show()"
      ],
      "execution_count": null,
      "outputs": [
        {
          "output_type": "display_data",
          "data": {
            "image/png": "[encoded data removed]",
            "text/plain": [
              "<Figure size 1080x360 with 1 Axes>"
            ]
          },
          "metadata": {
            "tags": [],
            "needs_background": "light"
          }
        }
      ]
    },
    {
      "cell_type": "code",
      "metadata": {
        "colab": {
          "base_uri": "https://localhost:8080/"
        },
        "id": "gXW5KSADnlsG",
        "outputId": "17b3b56c-9494-4464-adb6-f454e03a009a"
      },
      "source": [
        "lr =LogisticRegression(solver='newton-cg')\r\n",
        "lr.fit(X_train,Y_train)\r\n",
        "\r\n",
        "yhat_test=lr.predict(X_test)\r\n",
        "yhat_train=lr.predict(X_train)\r\n",
        "\r\n",
        "print(f1_score(Y_train,yhat_train,average='micro'))\r\n",
        "print(f1_score(Y_test,yhat_test,average='micro'))"
      ],
      "execution_count": null,
      "outputs": [
        {
          "output_type": "stream",
          "text": [
            "/usr/local/lib/python3.6/dist-packages/scipy/optimize/linesearch.py:466: LineSearchWarning: The line search algorithm did not converge\n",
            "  warn('The line search algorithm did not converge', LineSearchWarning)\n",
            "/usr/local/lib/python3.6/dist-packages/scipy/optimize/linesearch.py:314: LineSearchWarning: The line search algorithm did not converge\n",
            "  warn('The line search algorithm did not converge', LineSearchWarning)\n"
          ],
          "name": "stderr"
        },
        {
          "output_type": "stream",
          "text": [
            "0.45146166574738006\n",
            "0.45808383233532934\n"
          ],
          "name": "stdout"
        },
        {
          "output_type": "stream",
          "text": [
            "/usr/local/lib/python3.6/dist-packages/sklearn/utils/optimize.py:212: ConvergenceWarning: newton-cg failed to converge. Increase the number of iterations.\n",
            "  \"number of iterations.\", ConvergenceWarning)\n"
          ],
          "name": "stderr"
        }
      ]
    },
    {
      "cell_type": "markdown",
      "metadata": {
        "id": "rUiSL_eJXKNI"
      },
      "source": [
        "# SVC - Support Vector Classification\r\n",
        "\r\n",
        "[More info](https://scikit-learn.org/stable/modules/generated/sklearn.svm.SVC.html)"
      ]
    },
    {
      "cell_type": "code",
      "metadata": {
        "id": "AoQQGbK7XkxY"
      },
      "source": [
        "from sklearn.svm import SVC\r\n",
        "from sklearn.metrics import f1_score"
      ],
      "execution_count": null,
      "outputs": []
    },
    {
      "cell_type": "code",
      "metadata": {
        "colab": {
          "base_uri": "https://localhost:8080/"
        },
        "id": "sW1GDWQdXtLJ",
        "outputId": "e921102d-7f70-49c5-8c33-0863495c6150"
      },
      "source": [
        "clf = SVC(kernel='rbf')\r\n",
        "clf.fit(X_train, Y_train)\r\n",
        "\r\n",
        "y_pred = clf.predict(X_test)\r\n",
        "\r\n",
        "f1_score(Y_test,y_pred,average='micro')"
      ],
      "execution_count": null,
      "outputs": [
        {
          "output_type": "execute_result",
          "data": {
            "text/plain": [
              "0.2589032461393003"
            ]
          },
          "metadata": {
            "tags": []
          },
          "execution_count": 3
        }
      ]
    },
    {
      "cell_type": "markdown",
      "metadata": {
        "id": "gRp3CyiVXfMW"
      },
      "source": [
        "## Linear SVC"
      ]
    },
    {
      "cell_type": "code",
      "metadata": {
        "colab": {
          "base_uri": "https://localhost:8080/"
        },
        "id": "PF8JI-K400wT",
        "outputId": "5ae2b798-e3b2-4e3b-ce1f-67c4ce518721"
      },
      "source": [
        "from sklearn.svm import LinearSVC\r\n",
        "\r\n",
        "clf = LinearSVC()\r\n",
        "clf.fit(X_train, Y_train)\r\n",
        "\r\n",
        "y_pred = clf.predict(X_test)\r\n",
        "\r\n",
        "f1_score(Y_test,y_pred,average='micro')"
      ],
      "execution_count": null,
      "outputs": [
        {
          "output_type": "stream",
          "text": [
            "/usr/local/lib/python3.6/dist-packages/sklearn/svm/_base.py:947: ConvergenceWarning: Liblinear failed to converge, increase the number of iterations.\n",
            "  \"the number of iterations.\", ConvergenceWarning)\n"
          ],
          "name": "stderr"
        },
        {
          "output_type": "execute_result",
          "data": {
            "text/plain": [
              "0.1670343523479357"
            ]
          },
          "metadata": {
            "tags": []
          },
          "execution_count": 4
        }
      ]
    },
    {
      "cell_type": "markdown",
      "metadata": {
        "id": "smLZwPEsyM50"
      },
      "source": [
        "# AdaBoost\r\n",
        "\r\n",
        "AdaBoost is an algorithm using weak classifiers. Indeed this classifiers,similar to small decision trees, are called stumps. A stump has a depth equal to 3. AdaBoost create many stumps predicting probabilities. The sum of the small predicted probabilities will give the final probabilities for each class. \r\n",
        "\r\n",
        "More info on Boosting : Notebook on Gradient Boosting which presents better performances.  \r\n",
        "\r\n",
        "[More Info on AdaBoost](https://scikit-learn.org/stable/modules/generated/sklearn.ensemble.AdaBoostRegressor.html)"
      ]
    },
    {
      "cell_type": "code",
      "metadata": {
        "id": "9E_cWSS5yM52"
      },
      "source": [
        "from sklearn.ensemble import AdaBoostClassifier \r\n",
        "from sklearn.metrics import f1_score"
      ],
      "execution_count": null,
      "outputs": []
    },
    {
      "cell_type": "code",
      "metadata": {
        "colab": {
          "base_uri": "https://localhost:8080/"
        },
        "id": "dv6PxmNOyM53",
        "outputId": "aa18a0c3-8d9a-44b9-fdd2-53330d89dc52"
      },
      "source": [
        "ada = AdaBoostClassifier(learning_rate=0.1,n_estimators=50)\r\n",
        "ada.fit(X_train,Y_train)\r\n",
        "\r\n",
        "yhat_test=ada.predict(X_test)\r\n",
        "yhat_train=ada.predict(X_train)\r\n",
        "\r\n",
        "print(f1_score(Y_train,yhat_train,average='micro'))\r\n",
        "print(f1_score(Y_test,yhat_test,average='micro'))"
      ],
      "execution_count": null,
      "outputs": [
        {
          "output_type": "stream",
          "text": [
            "0.39551650776140573\n",
            "0.4019855026788528\n"
          ],
          "name": "stdout"
        }
      ]
    }
  ]
}