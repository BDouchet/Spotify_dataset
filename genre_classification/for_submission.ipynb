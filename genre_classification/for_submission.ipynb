{
  "nbformat": 4,
  "nbformat_minor": 0,
  "metadata": {
    "colab": {
      "name": "for_submission.ipynb",
      "provenance": [],
      "collapsed_sections": [
        "smLZwPEsyM50"
      ],
      "include_colab_link": true
    },
    "kernelspec": {
      "name": "python3",
      "display_name": "Python 3"
    }
  },
  "cells": [
    {
      "cell_type": "markdown",
      "metadata": {
        "id": "view-in-github",
        "colab_type": "text"
      },
      "source": [
        "<a href=\"https://colab.research.google.com/github/BDouchet/Spotify_dataset/blob/main/genre_classification/for_submission.ipynb\" target=\"_parent\"><img src=\"https://colab.research.google.com/assets/colab-badge.svg\" alt=\"Open In Colab\"/></a>"
      ]
    },
    {
      "cell_type": "markdown",
      "metadata": {
        "id": "GB5z3ufaPwLE"
      },
      "source": [
        "# Imports"
      ]
    },
    {
      "cell_type": "code",
      "metadata": {
        "colab": {
          "base_uri": "https://localhost:8080/"
        },
        "id": "_wErlx6wOy1u",
        "outputId": "9a2cd89d-99a7-4817-85d7-6030ac585c6b"
      },
      "source": [
        "from pydrive.auth import GoogleAuth\r\n",
        "from pydrive.drive import GoogleDrive\r\n",
        "from google.colab import auth\r\n",
        "from oauth2client.client import GoogleCredentials\r\n",
        "\r\n",
        "import pandas as pd\r\n",
        "import numpy as np\r\n",
        "import matplotlib.pyplot as plt\r\n",
        "from zipfile import ZipFile\r\n",
        "\r\n",
        "auth.authenticate_user()\r\n",
        "gauth = GoogleAuth()\r\n",
        "gauth.credentials = GoogleCredentials.get_application_default()\r\n",
        "drive = GoogleDrive(gauth)\r\n",
        "\r\n",
        "id='16phKfXvRrwGbOJrNKpgbYnBnZG6icXFX'\r\n",
        "\r\n",
        "downloaded = drive.CreateFile({'id':id})\r\n",
        "downloaded.GetContentFile('dataset.zip')\r\n",
        "\r\n",
        "with ZipFile('dataset.zip', 'r') as zip:\r\n",
        "   zip.extractall()\r\n",
        "   print('Done')\r\n",
        "\r\n",
        "#Load Train dataset\r\n",
        "df=pd.read_csv('dataset/Spotify_train_dataset.csv')\r\n",
        "\r\n",
        "from sklearn.preprocessing import LabelEncoder\r\n",
        "\r\n",
        "data=df.drop(labels=['type','id','uri','track_href','analysis_url','song_name'],axis=1)\r\n",
        "\r\n",
        "genres=['Dark Trap', 'Underground Rap', 'Trap Metal', 'Emo', 'Rap', 'RnB', 'Pop', 'Hiphop', 'techhouse', 'techno',\r\n",
        "'trance', 'psytrance', 'trap', 'dnb', 'hardstyle']\r\n",
        "\r\n",
        "le = LabelEncoder()\r\n",
        "le.classes_=genres\r\n",
        "data['genre']=le.transform(data['genre'])\r\n",
        "\r\n",
        "X_train=data[data.columns[:-1]].to_numpy()\r\n",
        "Y_train=data['genre'].to_numpy()\r\n",
        "\r\n",
        "# Load Test Dataset\r\n",
        "df_test=pd.read_csv('dataset/Spotify_test_dataset.csv')\r\n",
        "\r\n",
        "X_test=df_test.drop(labels=['type','id','uri','track_href','analysis_url','song_name'],axis=1).to_numpy()\r\n",
        "\r\n",
        "print(X_train.shape,Y_train.shape,X_test.shape)"
      ],
      "execution_count": null,
      "outputs": [
        {
          "output_type": "stream",
          "text": [
            "Done\n",
            "(31728, 13) (31728,) (10577, 13)\n"
          ],
          "name": "stdout"
        }
      ]
    },
    {
      "cell_type": "markdown",
      "metadata": {
        "id": "m4lYuIE7-Pa6"
      },
      "source": [
        "# GradientBoosting"
      ]
    },
    {
      "cell_type": "code",
      "metadata": {
        "id": "-uE_754H-O_B"
      },
      "source": [
        "from sklearn.ensemble import GradientBoostingClassifier \r\n",
        "from sklearn.metrics import f1_score"
      ],
      "execution_count": null,
      "outputs": []
    },
    {
      "cell_type": "code",
      "metadata": {
        "colab": {
          "base_uri": "https://localhost:8080/",
          "height": 565
        },
        "id": "V_8WA_rr5Fgz",
        "outputId": "39d8082d-c43e-46c2-8e0c-061be2003b67"
      },
      "source": [
        "X1_train=np.delete(X_train,[2,4,12],axis=1)\r\n",
        "X1_test=np.delete(X_test,[2,4,12],axis=1)\r\n",
        "\r\n",
        "boost3=GradientBoostingClassifier(n_estimators=200,verbose=1,max_features='sqrt')\r\n",
        "boost3.fit(X1_train,Y_train)\r\n",
        "\r\n",
        "yhat_test=boost3.predict(X1_test)\r\n",
        "yhat_train=boost3.predict(X1_train)\r\n",
        "\r\n",
        "print(f1_score(Y_train,yhat_train,average='micro'))\r\n"
      ],
      "execution_count": null,
      "outputs": [
        {
          "output_type": "stream",
          "text": [
            "      Iter       Train Loss   Remaining Time \n",
            "         1       72412.3987            2.36m\n",
            "         2       66672.8711            2.26m\n",
            "         3       62046.8516            2.22m\n",
            "         4       58582.5468            2.17m\n",
            "         5       55467.4127            2.15m\n",
            "         6       52926.4690            2.13m\n",
            "         7       50517.7254            2.10m\n",
            "         8       48508.3674            2.09m\n",
            "         9       46944.5095            2.07m\n",
            "        10       45301.5491            2.06m\n",
            "        20       36207.6920            1.89m\n",
            "        30       32126.6836            1.77m\n",
            "        40       29759.8367            1.67m\n",
            "        50       28364.4080            1.58m\n",
            "        60       27297.4392            1.47m\n",
            "        70       26475.9545            1.37m\n",
            "        80       25822.4199            1.27m\n",
            "        90       25275.7894            1.16m\n",
            "       100       24797.6931            1.06m\n",
            "       200       21655.7830            0.00s\n",
            "0.7579740292486132\n"
          ],
          "name": "stdout"
        },
        {
          "output_type": "error",
          "ename": "NameError",
          "evalue": "ignored",
          "traceback": [
            "\u001b[0;31m---------------------------------------------------------------------------\u001b[0m",
            "\u001b[0;31mNameError\u001b[0m                                 Traceback (most recent call last)",
            "\u001b[0;32m<ipython-input-3-9c3e48c846fb>\u001b[0m in \u001b[0;36m<module>\u001b[0;34m()\u001b[0m\n\u001b[1;32m      9\u001b[0m \u001b[0;34m\u001b[0m\u001b[0m\n\u001b[1;32m     10\u001b[0m \u001b[0mprint\u001b[0m\u001b[0;34m(\u001b[0m\u001b[0mf1_score\u001b[0m\u001b[0;34m(\u001b[0m\u001b[0mY_train\u001b[0m\u001b[0;34m,\u001b[0m\u001b[0myhat_train\u001b[0m\u001b[0;34m,\u001b[0m\u001b[0maverage\u001b[0m\u001b[0;34m=\u001b[0m\u001b[0;34m'micro'\u001b[0m\u001b[0;34m)\u001b[0m\u001b[0;34m)\u001b[0m\u001b[0;34m\u001b[0m\u001b[0;34m\u001b[0m\u001b[0m\n\u001b[0;32m---> 11\u001b[0;31m \u001b[0mprint\u001b[0m\u001b[0;34m(\u001b[0m\u001b[0mf1_score\u001b[0m\u001b[0;34m(\u001b[0m\u001b[0mY_test\u001b[0m\u001b[0;34m,\u001b[0m\u001b[0myhat_test\u001b[0m\u001b[0;34m,\u001b[0m\u001b[0maverage\u001b[0m\u001b[0;34m=\u001b[0m\u001b[0;34m'micro'\u001b[0m\u001b[0;34m)\u001b[0m\u001b[0;34m)\u001b[0m\u001b[0;34m\u001b[0m\u001b[0;34m\u001b[0m\u001b[0m\n\u001b[0m",
            "\u001b[0;31mNameError\u001b[0m: name 'Y_test' is not defined"
          ]
        }
      ]
    },
    {
      "cell_type": "code",
      "metadata": {
        "colab": {
          "base_uri": "https://localhost:8080/"
        },
        "id": "kD8ZQQkqj2fj",
        "outputId": "d53a828c-59cb-4a41-8238-3a8861f9b209"
      },
      "source": [
        "boost2 = GradientBoostingClassifier(n_estimators=200,verbose=1,max_features='sqrt')\r\n",
        "boost2.fit(X_train,Y_train)\r\n",
        "\r\n",
        "yhat_test=boost2.predict(X_test)\r\n",
        "yhat_train=boost2.predict(X_train)\r\n",
        "\r\n",
        "print(f1_score(Y_train,yhat_train,average='micro'))"
      ],
      "execution_count": null,
      "outputs": [
        {
          "output_type": "stream",
          "text": [
            "      Iter       Train Loss   Remaining Time \n",
            "         1       75534.6479            2.19m\n",
            "         2       69083.9159            2.17m\n",
            "         3       64536.6417            2.17m\n",
            "         4       60982.4472            2.17m\n",
            "         5       57399.7443            2.17m\n",
            "         6       55057.5360            2.16m\n",
            "         7       53096.3518            2.15m\n",
            "         8       50762.1784            2.13m\n",
            "         9       48794.9686            2.12m\n",
            "        10       47078.0916            2.12m\n",
            "        20       37305.3470            2.00m\n",
            "        30       32812.2561            1.89m\n",
            "        40       30434.5480            1.78m\n",
            "        50       28868.0463            1.67m\n",
            "        60       27702.4520            1.55m\n",
            "        70       26821.3550            1.44m\n",
            "        80       26128.7253            1.33m\n",
            "        90       25544.6981            1.22m\n",
            "       100       25032.7043            1.11m\n",
            "       200       21843.3620            0.00s\n",
            "0.7565242057488654\n"
          ],
          "name": "stdout"
        }
      ]
    },
    {
      "cell_type": "markdown",
      "metadata": {
        "id": "TFA6f_wO1y-W"
      },
      "source": [
        "# Format for submission"
      ]
    },
    {
      "cell_type": "code",
      "metadata": {
        "id": "Aw1aGXeV112l"
      },
      "source": [
        "yhat_genre=[]\r\n",
        "for lab in yhat_test:\r\n",
        "    yhat_genre.append(genres[lab])\r\n",
        "yhat_genre=np.array(yhat_genre)"
      ],
      "execution_count": null,
      "outputs": []
    },
    {
      "cell_type": "code",
      "metadata": {
        "id": "bO98R6cl3NKE"
      },
      "source": [
        "csv=pd.DataFrame(yhat_genre,columns=['genres'])\r\n",
        "csv.to_csv('submission2.csv',index=False)"
      ],
      "execution_count": null,
      "outputs": []
    }
  ]
}